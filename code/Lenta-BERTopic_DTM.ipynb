{
  "cells": [
    {
      "cell_type": "code",
      "execution_count": 1,
      "metadata": {
        "id": "UVfRdSRDyROA"
      },
      "outputs": [],
      "source": [
        "import re\n",
        "import pandas as pd\n",
        "import matplotlib.pyplot as plt"
      ]
    },
    {
      "cell_type": "code",
      "execution_count": null,
      "metadata": {
        "colab": {
          "base_uri": "https://localhost:8080/"
        },
        "id": "P3MQRWLW8Vdc",
        "outputId": "f82c7e87-d782-4ddf-a61e-38105aa60630"
      },
      "outputs": [
        {
          "name": "stdout",
          "output_type": "stream",
          "text": [
            "Mounted at /content/drive\n"
          ]
        }
      ],
      "source": [
        "# Ячейка обязательная, если запускать в коллабе, чтобы файле сохранились на диске\n",
        "from google.colab import drive\n",
        "drive.mount('/content/drive')"
      ]
    },
    {
      "cell_type": "code",
      "execution_count": null,
      "metadata": {
        "colab": {
          "base_uri": "https://localhost:8080/"
        },
        "id": "OKrhNTOT8af-",
        "outputId": "bcb4d6b8-1c06-4a74-a9d4-8ffd207d69ca"
      },
      "outputs": [
        {
          "name": "stdout",
          "output_type": "stream",
          "text": [
            "/content/drive/MyDrive\n"
          ]
        }
      ],
      "source": [
        "%cd /content/drive/MyDrive"
      ]
    },
    {
      "cell_type": "code",
      "execution_count": 2,
      "metadata": {},
      "outputs": [
        {
          "data": {
            "image/png": "[encoded data removed]",
            "text/plain": [
              "<Figure size 640x480 with 1 Axes>"
            ]
          },
          "metadata": {},
          "output_type": "display_data"
        }
      ],
      "source": [
        "plt.rcParams[\"font.family\"] = \"serif\"\n",
        "plt.rcParams[\"font.serif\"] = [\"Times New Roman\"]\n",
        "\n",
        "#define x and y\n",
        "x = [1, 4, 10]\n",
        "y = [5, 9, 27]\n",
        "\n",
        "#create line plot\n",
        "plt.plot (x, y)\n",
        "\n",
        "#add title and axis labels\n",
        "plt.title('Title of Plot')\n",
        "plt.xlabel('X Label')\n",
        "plt.ylabel('Y Label')\n",
        "\n",
        "#display plot\n",
        "plt.show() "
      ]
    },
    {
      "cell_type": "code",
      "execution_count": 3,
      "metadata": {
        "id": "GsCQfUSh8w9o"
      },
      "outputs": [],
      "source": [
        "lenta = pd.read_csv('reduced_lenta.csv')"
      ]
    },
    {
      "cell_type": "code",
      "execution_count": 4,
      "metadata": {
        "colab": {
          "base_uri": "https://localhost:8080/",
          "height": 1000
        },
        "id": "KiVxJKIMVucs",
        "outputId": "7a44beb6-4a01-4a63-d6cd-7826abb6afbb"
      },
      "outputs": [
        {
          "data": {
            "text/html": [
              "<div>\n",
              "<style scoped>\n",
              "    .dataframe tbody tr th:only-of-type {\n",
              "        vertical-align: middle;\n",
              "    }\n",
              "\n",
              "    .dataframe tbody tr th {\n",
              "        vertical-align: top;\n",
              "    }\n",
              "\n",
              "    .dataframe thead th {\n",
              "        text-align: right;\n",
              "    }\n",
              "</style>\n",
              "<table border=\"1\" class=\"dataframe\">\n",
              "  <thead>\n",
              "    <tr style=\"text-align: right;\">\n",
              "      <th></th>\n",
              "      <th>url</th>\n",
              "      <th>title</th>\n",
              "      <th>text</th>\n",
              "      <th>topic</th>\n",
              "      <th>tags</th>\n",
              "      <th>date</th>\n",
              "      <th>publication_year</th>\n",
              "      <th>text_clear</th>\n",
              "      <th>lemm_clean_text</th>\n",
              "      <th>result_clean_text</th>\n",
              "    </tr>\n",
              "  </thead>\n",
              "  <tbody>\n",
              "    <tr>\n",
              "      <th>0</th>\n",
              "      <td>https://lenta.ru/news/2013/01/01/goaway/</td>\n",
              "      <td>Репортера The New York Times выгнали из Китая</td>\n",
              "      <td>Корреспондент газеты The New York Times Крис Б...</td>\n",
              "      <td>Интернет и СМИ</td>\n",
              "      <td>Все</td>\n",
              "      <td>2013/01/01</td>\n",
              "      <td>2013</td>\n",
              "      <td>корреспондент газеты крис бакли вынужден покин...</td>\n",
              "      <td>корреспондент газета крис баклать вынуждать по...</td>\n",
              "      <td>корреспондент газета крис баклать вынуждать по...</td>\n",
              "    </tr>\n",
              "    <tr>\n",
              "      <th>1</th>\n",
              "      <td>https://lenta.ru/news/2013/01/01/georgia/</td>\n",
              "      <td>Иванишвили объявил о прекращении преследования...</td>\n",
              "      <td>Премьер-министр Грузии Бидзина Иванишвили в но...</td>\n",
              "      <td>Бывший СССР</td>\n",
              "      <td>Все</td>\n",
              "      <td>2013/01/01</td>\n",
              "      <td>2013</td>\n",
              "      <td>премьер министр грузии бидзина иванишвили ново...</td>\n",
              "      <td>премьер министр грузия бидзина иванишвили ново...</td>\n",
              "      <td>премьер министр грузия бидзина иванишвили ново...</td>\n",
              "    </tr>\n",
              "    <tr>\n",
              "      <th>2</th>\n",
              "      <td>https://lenta.ru/news/2013/01/01/tea/</td>\n",
              "      <td>В Индии работники чайной плантации съели работ...</td>\n",
              "      <td>В Индии полиция обвинила рабочих чайной планта...</td>\n",
              "      <td>Мир</td>\n",
              "      <td>Все</td>\n",
              "      <td>2013/01/01</td>\n",
              "      <td>2013</td>\n",
              "      <td>индии полиция обвинила рабочих чайной плантаци...</td>\n",
              "      <td>индии полиция обвинять рабочий чайный плантаци...</td>\n",
              "      <td>индии полиция обвинять рабочий чайный плантаци...</td>\n",
              "    </tr>\n",
              "    <tr>\n",
              "      <th>3</th>\n",
              "      <td>https://lenta.ru/news/2013/01/01/icoast/</td>\n",
              "      <td>В давке у стадиона в Кот-д’Ивуаре погибли 60 ч...</td>\n",
              "      <td>В давке у стадиона в крупнейшем городе Кот-д’И...</td>\n",
              "      <td>Мир</td>\n",
              "      <td>Все</td>\n",
              "      <td>2013/01/01</td>\n",
              "      <td>2013</td>\n",
              "      <td>давке стадиона крупнейшем городе кот д ивуара ...</td>\n",
              "      <td>давке стадион крупный город кот д ивуар абиджа...</td>\n",
              "      <td>давке стадион крупный кот д ивуар абиджан поги...</td>\n",
              "    </tr>\n",
              "    <tr>\n",
              "      <th>4</th>\n",
              "      <td>https://lenta.ru/news/2013/01/01/driver/</td>\n",
              "      <td>На Украине задержан сбивший восьмерых пешеходов</td>\n",
              "      <td>Украинская милиция задержала водителя, сбившег...</td>\n",
              "      <td>Бывший СССР</td>\n",
              "      <td>Все</td>\n",
              "      <td>2013/01/01</td>\n",
              "      <td>2013</td>\n",
              "      <td>украинская милиция задержала водителя сбившего...</td>\n",
              "      <td>украинская милиция задерживать водитель сбиват...</td>\n",
              "      <td>украинская милиция задерживать водитель сбиват...</td>\n",
              "    </tr>\n",
              "    <tr>\n",
              "      <th>...</th>\n",
              "      <td>...</td>\n",
              "      <td>...</td>\n",
              "      <td>...</td>\n",
              "      <td>...</td>\n",
              "      <td>...</td>\n",
              "      <td>...</td>\n",
              "      <td>...</td>\n",
              "      <td>...</td>\n",
              "      <td>...</td>\n",
              "      <td>...</td>\n",
              "    </tr>\n",
              "    <tr>\n",
              "      <th>39558</th>\n",
              "      <td>https://lenta.ru/news/2023/12/31/rossiyskiy-ak...</td>\n",
              "      <td>Олимпийская чемпионка предсказала приглашение ...</td>\n",
              "      <td>Двукратная олимпийская чемпионка по биатлону С...</td>\n",
              "      <td>Спорт</td>\n",
              "      <td>Олимпиада</td>\n",
              "      <td>2023-12-31</td>\n",
              "      <td>2023</td>\n",
              "      <td>двукратная олимпийская чемпионка биатлону свет...</td>\n",
              "      <td>двукратная олимпийский чемпионка биатлон светл...</td>\n",
              "      <td>двукратная олимпийский чемпионка биатлон светл...</td>\n",
              "    </tr>\n",
              "    <tr>\n",
              "      <th>39559</th>\n",
              "      <td>https://lenta.ru/news/2023/12/31/nazvany-luchs...</td>\n",
              "      <td>Раскрыта длительность новогоднего обращения Пу...</td>\n",
              "      <td>Новогоднее обращение президента России Владими...</td>\n",
              "      <td>Россия</td>\n",
              "      <td>Политика</td>\n",
              "      <td>2023-12-31</td>\n",
              "      <td>2023</td>\n",
              "      <td>новогоднее обращение президента россии владими...</td>\n",
              "      <td>новогоднее обращение президент россия владимир...</td>\n",
              "      <td>новогоднее обращение президент владимир путин ...</td>\n",
              "    </tr>\n",
              "    <tr>\n",
              "      <th>39560</th>\n",
              "      <td>https://lenta.ru/news/2023/12/31/vuchich-ob-ya...</td>\n",
              "      <td>В Киеве объявили воздушную тревогу</td>\n",
              "      <td>В Киеве вечером 31 декабря объявили воздушную ...</td>\n",
              "      <td>Бывший СССР</td>\n",
              "      <td>Украина</td>\n",
              "      <td>2023-12-31</td>\n",
              "      <td>2023</td>\n",
              "      <td>киеве вечером декабря объявили воздушную трево...</td>\n",
              "      <td>киеве вечер декабрь объявлять воздушный тревог...</td>\n",
              "      <td>киеве декабрь объявлять воздушный тревога свид...</td>\n",
              "    </tr>\n",
              "    <tr>\n",
              "      <th>39561</th>\n",
              "      <td>https://lenta.ru/news/2023/12/31/v-sevastopole...</td>\n",
              "      <td>На Украине рассказали о полученной за год помо...</td>\n",
              "      <td>Киев в 2023 году получил от западных партнеров...</td>\n",
              "      <td>Бывший СССР</td>\n",
              "      <td>Украина</td>\n",
              "      <td>2023-12-31</td>\n",
              "      <td>2023</td>\n",
              "      <td>киев году получил западных партнеров миллиарда...</td>\n",
              "      <td>киев год получать западный партнер миллиард до...</td>\n",
              "      <td>киев получать западный партнер миллиард доллар...</td>\n",
              "    </tr>\n",
              "    <tr>\n",
              "      <th>39562</th>\n",
              "      <td>https://lenta.ru/news/2023/12/31/armiya-rossii...</td>\n",
              "      <td>Роналду стал лучшим бомбардиром 2023 года</td>\n",
              "      <td>Нападающий саудовского «Аль-Насра» и сборной П...</td>\n",
              "      <td>Спорт</td>\n",
              "      <td>Футбол</td>\n",
              "      <td>2023-12-31</td>\n",
              "      <td>2023</td>\n",
              "      <td>нападающий саудовского аль насра сборной порту...</td>\n",
              "      <td>нападающий саудовский аль насра сборная португ...</td>\n",
              "      <td>нападающий саудовский аль насра сборная португ...</td>\n",
              "    </tr>\n",
              "  </tbody>\n",
              "</table>\n",
              "<p>39563 rows × 10 columns</p>\n",
              "</div>"
            ],
            "text/plain": [
              "                                                     url  \\\n",
              "0               https://lenta.ru/news/2013/01/01/goaway/   \n",
              "1              https://lenta.ru/news/2013/01/01/georgia/   \n",
              "2                  https://lenta.ru/news/2013/01/01/tea/   \n",
              "3               https://lenta.ru/news/2013/01/01/icoast/   \n",
              "4               https://lenta.ru/news/2013/01/01/driver/   \n",
              "...                                                  ...   \n",
              "39558  https://lenta.ru/news/2023/12/31/rossiyskiy-ak...   \n",
              "39559  https://lenta.ru/news/2023/12/31/nazvany-luchs...   \n",
              "39560  https://lenta.ru/news/2023/12/31/vuchich-ob-ya...   \n",
              "39561  https://lenta.ru/news/2023/12/31/v-sevastopole...   \n",
              "39562  https://lenta.ru/news/2023/12/31/armiya-rossii...   \n",
              "\n",
              "                                                   title  \\\n",
              "0          Репортера The New York Times выгнали из Китая   \n",
              "1      Иванишвили объявил о прекращении преследования...   \n",
              "2      В Индии работники чайной плантации съели работ...   \n",
              "3      В давке у стадиона в Кот-д’Ивуаре погибли 60 ч...   \n",
              "4        На Украине задержан сбивший восьмерых пешеходов   \n",
              "...                                                  ...   \n",
              "39558  Олимпийская чемпионка предсказала приглашение ...   \n",
              "39559  Раскрыта длительность новогоднего обращения Пу...   \n",
              "39560                 В Киеве объявили воздушную тревогу   \n",
              "39561  На Украине рассказали о полученной за год помо...   \n",
              "39562          Роналду стал лучшим бомбардиром 2023 года   \n",
              "\n",
              "                                                    text           topic  \\\n",
              "0      Корреспондент газеты The New York Times Крис Б...  Интернет и СМИ   \n",
              "1      Премьер-министр Грузии Бидзина Иванишвили в но...     Бывший СССР   \n",
              "2      В Индии полиция обвинила рабочих чайной планта...             Мир   \n",
              "3      В давке у стадиона в крупнейшем городе Кот-д’И...             Мир   \n",
              "4      Украинская милиция задержала водителя, сбившег...     Бывший СССР   \n",
              "...                                                  ...             ...   \n",
              "39558  Двукратная олимпийская чемпионка по биатлону С...           Спорт   \n",
              "39559  Новогоднее обращение президента России Владими...          Россия   \n",
              "39560  В Киеве вечером 31 декабря объявили воздушную ...     Бывший СССР   \n",
              "39561  Киев в 2023 году получил от западных партнеров...     Бывший СССР   \n",
              "39562  Нападающий саудовского «Аль-Насра» и сборной П...           Спорт   \n",
              "\n",
              "            tags        date  publication_year  \\\n",
              "0            Все  2013/01/01              2013   \n",
              "1            Все  2013/01/01              2013   \n",
              "2            Все  2013/01/01              2013   \n",
              "3            Все  2013/01/01              2013   \n",
              "4            Все  2013/01/01              2013   \n",
              "...          ...         ...               ...   \n",
              "39558  Олимпиада  2023-12-31              2023   \n",
              "39559   Политика  2023-12-31              2023   \n",
              "39560    Украина  2023-12-31              2023   \n",
              "39561    Украина  2023-12-31              2023   \n",
              "39562     Футбол  2023-12-31              2023   \n",
              "\n",
              "                                              text_clear  \\\n",
              "0      корреспондент газеты крис бакли вынужден покин...   \n",
              "1      премьер министр грузии бидзина иванишвили ново...   \n",
              "2      индии полиция обвинила рабочих чайной плантаци...   \n",
              "3      давке стадиона крупнейшем городе кот д ивуара ...   \n",
              "4      украинская милиция задержала водителя сбившего...   \n",
              "...                                                  ...   \n",
              "39558  двукратная олимпийская чемпионка биатлону свет...   \n",
              "39559  новогоднее обращение президента россии владими...   \n",
              "39560  киеве вечером декабря объявили воздушную трево...   \n",
              "39561  киев году получил западных партнеров миллиарда...   \n",
              "39562  нападающий саудовского аль насра сборной порту...   \n",
              "\n",
              "                                         lemm_clean_text  \\\n",
              "0      корреспондент газета крис баклать вынуждать по...   \n",
              "1      премьер министр грузия бидзина иванишвили ново...   \n",
              "2      индии полиция обвинять рабочий чайный плантаци...   \n",
              "3      давке стадион крупный город кот д ивуар абиджа...   \n",
              "4      украинская милиция задерживать водитель сбиват...   \n",
              "...                                                  ...   \n",
              "39558  двукратная олимпийский чемпионка биатлон светл...   \n",
              "39559  новогоднее обращение президент россия владимир...   \n",
              "39560  киеве вечер декабрь объявлять воздушный тревог...   \n",
              "39561  киев год получать западный партнер миллиард до...   \n",
              "39562  нападающий саудовский аль насра сборная португ...   \n",
              "\n",
              "                                       result_clean_text  \n",
              "0      корреспондент газета крис баклать вынуждать по...  \n",
              "1      премьер министр грузия бидзина иванишвили ново...  \n",
              "2      индии полиция обвинять рабочий чайный плантаци...  \n",
              "3      давке стадион крупный кот д ивуар абиджан поги...  \n",
              "4      украинская милиция задерживать водитель сбиват...  \n",
              "...                                                  ...  \n",
              "39558  двукратная олимпийский чемпионка биатлон светл...  \n",
              "39559  новогоднее обращение президент владимир путин ...  \n",
              "39560  киеве декабрь объявлять воздушный тревога свид...  \n",
              "39561  киев получать западный партнер миллиард доллар...  \n",
              "39562  нападающий саудовский аль насра сборная португ...  \n",
              "\n",
              "[39563 rows x 10 columns]"
            ]
          },
          "execution_count": 4,
          "metadata": {},
          "output_type": "execute_result"
        }
      ],
      "source": [
        "lenta"
      ]
    },
    {
      "cell_type": "code",
      "execution_count": 7,
      "metadata": {},
      "outputs": [],
      "source": [
        "lenta['date'] = pd.to_datetime(lenta['date'], format='mixed')\n",
        "\n",
        "# Извлекаем год из даты\n",
        "lenta['year'] = lenta['date'].dt.year\n",
        "\n",
        "years = {}\n",
        "for i in lenta['year']:\n",
        "    if i in years:\n",
        "        years[i]+= 1\n",
        "    else:\n",
        "        years[i] = 1"
      ]
    },
    {
      "cell_type": "code",
      "execution_count": 8,
      "metadata": {},
      "outputs": [
        {
          "data": {
            "text/plain": [
              "{2013: 3650,\n",
              " 2014: 3650,\n",
              " 2015: 3650,\n",
              " 2016: 3660,\n",
              " 2017: 3650,\n",
              " 2018: 3650,\n",
              " 2019: 3655,\n",
              " 2020: 3660,\n",
              " 2021: 3650,\n",
              " 2022: 3640,\n",
              " 2023: 3048}"
            ]
          },
          "execution_count": 8,
          "metadata": {},
          "output_type": "execute_result"
        }
      ],
      "source": [
        "years"
      ]
    },
    {
      "cell_type": "code",
      "execution_count": 9,
      "metadata": {},
      "outputs": [
        {
          "data": {
            "image/png": "[encoded data removed]",
            "text/plain": [
              "<Figure size 640x480 with 1 Axes>"
            ]
          },
          "metadata": {},
          "output_type": "display_data"
        }
      ],
      "source": [
        "import numpy as np \n",
        "colors = plt.cm.tab20(np.linspace(0, 1, len(years)))\n",
        "\n",
        "years_keys = list(years.keys())\n",
        "years_values = list(years.values())\n",
        "\n",
        "# Строим график\n",
        "plt.bar(years_keys, years_values, color=colors)\n",
        "\n",
        "# Настройка осей\n",
        "plt.xlabel('Years')\n",
        "plt.ylabel('Number of documents')\n",
        "plt.title('A total number of documents by year')\n",
        "for i, v in enumerate(years_values):\n",
        "    plt.text(years_keys[i], v + 0.5, str(v), ha='center')\n",
        "\n",
        "plt.xticks(years_keys) \n",
        "plt.savefig(\"Lenta-Distribution.png\", format='png', dpi=1000,\n",
        "                   bbox_inches='tight', pad_inches=0)"
      ]
    },
    {
      "cell_type": "code",
      "execution_count": 4,
      "metadata": {
        "id": "6oGZXptG9uZL"
      },
      "outputs": [],
      "source": [
        "lenta_timestamps = lenta.date.to_list()\n",
        "lenta['result_clean_text'] = lenta['result_clean_text'].astype(str)\n",
        "lenta_posts = lenta.result_clean_text.to_list()"
      ]
    },
    {
      "cell_type": "code",
      "execution_count": 6,
      "metadata": {
        "colab": {
          "base_uri": "https://localhost:8080/",
          "height": 243,
          "referenced_widgets": [
            "faae0e75759e4af1bc13bad649593ead",
            "bd4ee788a9894f429094ae8810ca1a8e",
            "4c82e45851b14376bc4b89fc5cd75780",
            "d51e5ea0c9174869bf7408bb3f0ed9ff",
            "e8a72f09bab54e08b7f84ee5fe21c725",
            "328ba53681724f8ab011fcd1f87a3e48",
            "b5b3bd2f341941d88d9a3de80b75603f",
            "2515a9f0c8e3458cbfb2322c267eae61",
            "ba5bccb7d1814fbb80bac80a144d84bd",
            "e98649187656435bb36fc2a81f24ba7d",
            "99bd6df989d84a0ebf517daf1460ae57"
          ]
        },
        "id": "FXkpHHRd9Ywi",
        "outputId": "3351ba39-ce17-4798-a5bd-e8055594adf3"
      },
      "outputs": [
        {
          "name": "stderr",
          "output_type": "stream",
          "text": [
            "c:\\Users\\Abina Kukanova\\AppData\\Local\\Programs\\Python\\Python312\\Lib\\site-packages\\tqdm\\auto.py:21: TqdmWarning: IProgress not found. Please update jupyter and ipywidgets. See https://ipywidgets.readthedocs.io/en/stable/user_install.html\n",
            "  from .autonotebook import tqdm as notebook_tqdm\n",
            "2024-05-20 11:17:59,675 - BERTopic - Embedding - Transforming documents to embeddings.\n",
            "Batches: 100%|██████████| 1237/1237 [42:14<00:00,  2.05s/it]\n",
            "2024-05-20 12:00:21,616 - BERTopic - Embedding - Completed ✓\n",
            "2024-05-20 12:00:21,618 - BERTopic - Dimensionality - Fitting the dimensionality reduction algorithm\n",
            "2024-05-20 12:01:07,466 - BERTopic - Dimensionality - Completed ✓\n",
            "2024-05-20 12:01:07,468 - BERTopic - Cluster - Start clustering the reduced embeddings\n",
            "2024-05-20 12:01:10,533 - BERTopic - Cluster - Completed ✓\n",
            "2024-05-20 12:01:10,567 - BERTopic - Representation - Extracting topics from clusters using representation models.\n",
            "2024-05-20 12:01:14,537 - BERTopic - Representation - Completed ✓\n"
          ]
        }
      ],
      "source": [
        "from bertopic import BERTopic\n",
        "\n",
        "topic_model = BERTopic(language=\"russian\", verbose=True)\n",
        "topics, probs = topic_model.fit_transform(lenta_posts)"
      ]
    },
    {
      "cell_type": "code",
      "execution_count": 7,
      "metadata": {
        "colab": {
          "base_uri": "https://localhost:8080/"
        },
        "id": "tviL_fhneBbV",
        "outputId": "38cdc64f-df50-4fc0-d2b3-b44fa9f75df3"
      },
      "outputs": [
        {
          "name": "stderr",
          "output_type": "stream",
          "text": [
            "2024-05-20 12:01:17,803 - BERTopic - WARNING: When you use `pickle` to save/load a BERTopic model,please make sure that the environments in which you saveand load the model are **exactly** the same. The version of BERTopic,its dependencies, and python need to remain the same.\n"
          ]
        }
      ],
      "source": [
        "topic_model.save(\"lenta_model\")"
      ]
    },
    {
      "cell_type": "code",
      "execution_count": 5,
      "metadata": {},
      "outputs": [
        {
          "name": "stderr",
          "output_type": "stream",
          "text": [
            "c:\\Users\\Abina Kukanova\\AppData\\Local\\Programs\\Python\\Python312\\Lib\\site-packages\\tqdm\\auto.py:21: TqdmWarning: IProgress not found. Please update jupyter and ipywidgets. See https://ipywidgets.readthedocs.io/en/stable/user_install.html\n",
            "  from .autonotebook import tqdm as notebook_tqdm\n"
          ]
        }
      ],
      "source": [
        "from bertopic import BERTopic\n",
        "topic_model = BERTopic.load(\"lenta_model\")"
      ]
    },
    {
      "cell_type": "code",
      "execution_count": 6,
      "metadata": {
        "colab": {
          "base_uri": "https://localhost:8080/"
        },
        "id": "42-Imhw3RNA7",
        "outputId": "a4fddb79-2f8f-4cfd-e4b4-b0ea726e6d0c"
      },
      "outputs": [
        {
          "name": "stderr",
          "output_type": "stream",
          "text": [
            "20it [00:26,  1.31s/it]\n"
          ]
        }
      ],
      "source": [
        "topics_over_time = topic_model.topics_over_time(lenta_posts, lenta_timestamps, datetime_format=\"mixed\", nr_bins=20)"
      ]
    },
    {
      "cell_type": "code",
      "execution_count": 7,
      "metadata": {
        "colab": {
          "base_uri": "https://localhost:8080/"
        },
        "id": "pO73eJlyQwAd",
        "outputId": "d03cbc51-09af-4e4c-aee1-bd86a90579f3"
      },
      "outputs": [
        {
          "name": "stderr",
          "output_type": "stream",
          "text": [
            "20it [00:25,  1.28s/it]\n"
          ]
        }
      ],
      "source": [
        "topics_over_time = topic_model.topics_over_time(lenta_posts, lenta_timestamps,\n",
        "                                                datetime_format=\"mixed\",\n",
        "                                                global_tuning=True, evolution_tuning=True, nr_bins=20)"
      ]
    },
    {
      "cell_type": "code",
      "execution_count": 8,
      "metadata": {
        "colab": {
          "base_uri": "https://localhost:8080/",
          "height": 487
        },
        "id": "Kn4EI1WbR0y-",
        "outputId": "fe56e156-94cf-42f2-f04b-c3bef90d074b"
      },
      "outputs": [
        {
          "data": {
            "application/vnd.plotly.v1+json": {
              "config": {
                "plotlyServerURL": "https://plot.ly"
              },
              "data": [
                {
                  "hoverinfo": "text",
                  "hovertext": [
                    "<b>Topic 0</b><br>Words: матч, клуб, команда, чемпионат, сборная",
                    "<b>Topic 0</b><br>Words: матч, клуб, чемпионат, зенит, команда",
                    "<b>Topic 0</b><br>Words: матч, клуб, команда, чемпионат, сборная",
                    "<b>Topic 0</b><br>Words: матч, клуб, футболист, команда, футбол",
                    "<b>Topic 0</b><br>Words: матч, клуб, сборная, команда, зенит",
                    "<b>Topic 0</b><br>Words: матч, клуб, чемпионат, команда, сборная",
                    "<b>Topic 0</b><br>Words: матч, сборная, команда, клуб, лига",
                    "<b>Topic 0</b><br>Words: матч, клуб, футбольный, команда, чемпионат",
                    "<b>Topic 0</b><br>Words: матч, клуб, лига, мяч, команда",
                    "<b>Topic 0</b><br>Words: матч, сборная, клуб, команда, чемпионат",
                    "<b>Topic 0</b><br>Words: матч, клуб, сборная, чемпионат, футболист",
                    "<b>Topic 0</b><br>Words: матч, клуб, футболист, сборная, чемпионат",
                    "<b>Topic 0</b><br>Words: матч, клуб, зенит, команда, футболист",
                    "<b>Topic 0</b><br>Words: лига, матч, команда, клуб, футболист",
                    "<b>Topic 0</b><br>Words: марадон, матч, клуб, футболист, барселона",
                    "<b>Topic 0</b><br>Words: матч, сборная, команда, клуб, чемпионат",
                    "<b>Topic 0</b><br>Words: матч, клуб, команда, миранчук, сборная",
                    "<b>Topic 0</b><br>Words: клуб, матч, сборная, футболист, лига",
                    "<b>Topic 0</b><br>Words: матч, команда, чемпионат, сборная, роналд",
                    "<b>Topic 0</b><br>Words: клуб, матч, сборная, зенит, команда"
                  ],
                  "marker": {
                    "color": "#E69F00"
                  },
                  "mode": "lines",
                  "name": "0_матч_клуб_сборная_команда",
                  "type": "scatter",
                  "x": [
                    "2012-12-27T23:36:57.600000",
                    "2013-07-20T19:12:00",
                    "2014-02-06T14:24:00",
                    "2014-08-26T09:36:00",
                    "2015-03-15T04:48:00",
                    "2015-10-02T00:00:00",
                    "2016-04-19T19:12:00",
                    "2016-11-06T14:24:00",
                    "2017-05-26T09:36:00",
                    "2017-12-13T04:48:00",
                    "2018-07-02T00:00:00",
                    "2019-01-18T19:12:00",
                    "2019-08-07T14:24:00",
                    "2020-02-24T09:36:00",
                    "2020-09-12T04:48:00",
                    "2021-04-01T00:00:00",
                    "2021-10-18T19:12:00",
                    "2022-05-07T14:24:00",
                    "2022-11-24T09:36:00",
                    "2023-06-13T04:48:00"
                  ],
                  "y": [
                    63,
                    57,
                    125,
                    45,
                    59,
                    56,
                    72,
                    62,
                    72,
                    83,
                    76,
                    62,
                    42,
                    28,
                    23,
                    38,
                    25,
                    27,
                    29,
                    41
                  ]
                },
                {
                  "hoverinfo": "text",
                  "hovertext": [
                    "<b>Topic 1</b><br>Words: самолет, авиакомпания, посадка, лайнер, аэропорт",
                    "<b>Topic 1</b><br>Words: самолет, авиакомпания, пассажир, аэропорт, борт",
                    "<b>Topic 1</b><br>Words: самолет, авиакомпания, рейс, борт, пассажир",
                    "<b>Topic 1</b><br>Words: самолет, авиакомпания, аэропорт, рейс, пассажир",
                    "<b>Topic 1</b><br>Words: самолет, авиакомпания, пилот, рейс, пассажир",
                    "<b>Topic 1</b><br>Words: авиакомпания, самолет, рейс, пассажир, аэропорт",
                    "<b>Topic 1</b><br>Words: самолет, авиакомпания, рейс, аэропорт, пассажир",
                    "<b>Topic 1</b><br>Words: аэропорт, авиакомпания, рейс, самолет, борт",
                    "<b>Topic 1</b><br>Words: авиакомпания, самолет, пассажир, рейс, борт",
                    "<b>Topic 1</b><br>Words: самолет, авиакомпания, пассажир, аэропорт, рейс",
                    "<b>Topic 1</b><br>Words: самолет, авиакомпания, пассажир, аэропорт, рейс",
                    "<b>Topic 1</b><br>Words: самолет, авиакомпания, рейс, аэропорт, пассажир",
                    "<b>Topic 1</b><br>Words: самолет, авиакомпания, пассажир, аэропорт, лайнер",
                    "<b>Topic 1</b><br>Words: самолет, авиакомпания, аэропорт, рейс, пассажир",
                    "<b>Topic 1</b><br>Words: самолет, авиакомпания, рейс, пассажир, стюардесса",
                    "<b>Topic 1</b><br>Words: самолет, авиакомпания, полет, рейс, посадка",
                    "<b>Topic 1</b><br>Words: рейс, авиакомпания, самолет, аэропорт, пассажир",
                    "<b>Topic 1</b><br>Words: самолет, авиакомпания, рейс, аэропорт, крушение",
                    "<b>Topic 1</b><br>Words: рейс, самолет, аэропорт, авиакомпания, пассажир",
                    "<b>Topic 1</b><br>Words: рейс, самолет, авиакомпания, аэропорт, пассажир"
                  ],
                  "marker": {
                    "color": "#56B4E9"
                  },
                  "mode": "lines",
                  "name": "1_самолет_авиакомпания_рейс_аэропорт",
                  "type": "scatter",
                  "x": [
                    "2012-12-27T23:36:57.600000",
                    "2013-07-20T19:12:00",
                    "2014-02-06T14:24:00",
                    "2014-08-26T09:36:00",
                    "2015-03-15T04:48:00",
                    "2015-10-02T00:00:00",
                    "2016-04-19T19:12:00",
                    "2016-11-06T14:24:00",
                    "2017-05-26T09:36:00",
                    "2017-12-13T04:48:00",
                    "2018-07-02T00:00:00",
                    "2019-01-18T19:12:00",
                    "2019-08-07T14:24:00",
                    "2020-02-24T09:36:00",
                    "2020-09-12T04:48:00",
                    "2021-04-01T00:00:00",
                    "2021-10-18T19:12:00",
                    "2022-05-07T14:24:00",
                    "2022-11-24T09:36:00",
                    "2023-06-13T04:48:00"
                  ],
                  "y": [
                    46,
                    46,
                    55,
                    54,
                    49,
                    86,
                    59,
                    44,
                    30,
                    33,
                    37,
                    70,
                    52,
                    31,
                    34,
                    55,
                    33,
                    31,
                    21,
                    38
                  ]
                },
                {
                  "hoverinfo": "text",
                  "hovertext": [
                    "<b>Topic 2</b><br>Words: смартфон, пользователь, сервис, устройство, экран",
                    "<b>Topic 2</b><br>Words: пользователь, смартфон, устройство, приложение, сервис",
                    "<b>Topic 2</b><br>Words: пользователь, смартфон, приложение, мобильный, сервис",
                    "<b>Topic 2</b><br>Words: приложение, пользователь, смартфон, устройство, мобильный",
                    "<b>Topic 2</b><br>Words: пользователь, устройство, смартфон, приложение, сервис",
                    "<b>Topic 2</b><br>Words: пользователь, смартфон, сервис, приложение, устройство",
                    "<b>Topic 2</b><br>Words: смартфон, пользователь, устройство, хакер, сервис",
                    "<b>Topic 2</b><br>Words: хакер, пользователь, смартфон, устройство, приложение",
                    "<b>Topic 2</b><br>Words: смартфон, пользователь, сервис, компьютер, устройство",
                    "<b>Topic 2</b><br>Words: пользователь, сервис, смартфон, роскомнадзор, приложение",
                    "<b>Topic 2</b><br>Words: пользователь, смартфон, пароль, приложение, хакер",
                    "<b>Topic 2</b><br>Words: приложение, пользователь, уязвимость, устройство, смартфон",
                    "<b>Topic 2</b><br>Words: приложение, смартфон, пользователь, устройство, голосовой",
                    "<b>Topic 2</b><br>Words: смартфон, пользователь, уязвимость, контент, устройство",
                    "<b>Topic 2</b><br>Words: смартфон, пользователь, устройство, приложение, обновление",
                    "<b>Topic 2</b><br>Words: приложение, пользователь, обновление, ос, смартфон",
                    "<b>Topic 2</b><br>Words: смартфон, пользователь, роскомнадзор, пароль, доступ",
                    "<b>Topic 2</b><br>Words: смартфон, пользователь, устройство, обновление, пароль",
                    "<b>Topic 2</b><br>Words: смартфон, бот, пользователь, чат, приложение",
                    "<b>Topic 2</b><br>Words: смартфон, устройство, приложение, пользователь, сервис"
                  ],
                  "marker": {
                    "color": "#009E73"
                  },
                  "mode": "lines",
                  "name": "2_пользователь_смартфон_приложение_устро...",
                  "type": "scatter",
                  "x": [
                    "2012-12-27T23:36:57.600000",
                    "2013-07-20T19:12:00",
                    "2014-02-06T14:24:00",
                    "2014-08-26T09:36:00",
                    "2015-03-15T04:48:00",
                    "2015-10-02T00:00:00",
                    "2016-04-19T19:12:00",
                    "2016-11-06T14:24:00",
                    "2017-05-26T09:36:00",
                    "2017-12-13T04:48:00",
                    "2018-07-02T00:00:00",
                    "2019-01-18T19:12:00",
                    "2019-08-07T14:24:00",
                    "2020-02-24T09:36:00",
                    "2020-09-12T04:48:00",
                    "2021-04-01T00:00:00",
                    "2021-10-18T19:12:00",
                    "2022-05-07T14:24:00",
                    "2022-11-24T09:36:00",
                    "2023-06-13T04:48:00"
                  ],
                  "y": [
                    67,
                    71,
                    65,
                    40,
                    58,
                    36,
                    33,
                    37,
                    34,
                    36,
                    27,
                    24,
                    20,
                    27,
                    41,
                    30,
                    25,
                    24,
                    19,
                    27
                  ]
                },
                {
                  "hoverinfo": "text",
                  "hovertext": [
                    "<b>Topic 3</b><br>Words: суд, следствие, приговор, взятка, подсудимый",
                    "<b>Topic 3</b><br>Words: суд, следствие, приговор, свартхольм, взятка",
                    "<b>Topic 3</b><br>Words: суд, следствие, взятка, приговор, обвинение",
                    "<b>Topic 3</b><br>Words: суд, навальный, следствие, иск, арест",
                    "<b>Topic 3</b><br>Words: суд, следствие, мошенничество, кехман, уголовный",
                    "<b>Topic 3</b><br>Words: суд, юкос, следствие, адвокат, иск",
                    "<b>Topic 3</b><br>Words: суд, взятка, уголовный, следствие, дод",
                    "<b>Topic 3</b><br>Words: суд, следствие, взятка, уголовный, статья",
                    "<b>Topic 3</b><br>Words: суд, взятка, афк, башнефть, рубль",
                    "<b>Topic 3</b><br>Words: суд, взятка, иск, улюкаев, следствие",
                    "<b>Topic 3</b><br>Words: суд, следствие, взятка, хачатурян, сестра",
                    "<b>Topic 3</b><br>Words: суд, следствие, взятка, уголовный, следственный",
                    "<b>Topic 3</b><br>Words: фбк, монгуш, уголовный, следственный, суд",
                    "<b>Topic 3</b><br>Words: суд, взятка, мазуров, сазонов, свидетель",
                    "<b>Topic 3</b><br>Words: суд, пашаев, кляйн, уголовный, следствие",
                    "<b>Topic 3</b><br>Words: суд, приговор, следствие, вор, уголовный",
                    "<b>Topic 3</b><br>Words: суд, следствие, хованский, шляфман, уголовный",
                    "<b>Topic 3</b><br>Words: суд, адвокат, взятка, колония, следственный",
                    "<b>Topic 3</b><br>Words: суд, следствие, болдырев, преступление, колония",
                    "<b>Topic 3</b><br>Words: сайн, суд, витгенштейн, взятка, следствие"
                  ],
                  "marker": {
                    "color": "#F0E442"
                  },
                  "mode": "lines",
                  "name": "3_суд_следствие_взятка_уголовный",
                  "type": "scatter",
                  "x": [
                    "2012-12-27T23:36:57.600000",
                    "2013-07-20T19:12:00",
                    "2014-02-06T14:24:00",
                    "2014-08-26T09:36:00",
                    "2015-03-15T04:48:00",
                    "2015-10-02T00:00:00",
                    "2016-04-19T19:12:00",
                    "2016-11-06T14:24:00",
                    "2017-05-26T09:36:00",
                    "2017-12-13T04:48:00",
                    "2018-07-02T00:00:00",
                    "2019-01-18T19:12:00",
                    "2019-08-07T14:24:00",
                    "2020-02-24T09:36:00",
                    "2020-09-12T04:48:00",
                    "2021-04-01T00:00:00",
                    "2021-10-18T19:12:00",
                    "2022-05-07T14:24:00",
                    "2022-11-24T09:36:00",
                    "2023-06-13T04:48:00"
                  ],
                  "y": [
                    71,
                    66,
                    50,
                    40,
                    52,
                    37,
                    44,
                    36,
                    35,
                    33,
                    28,
                    42,
                    13,
                    24,
                    17,
                    33,
                    21,
                    32,
                    12,
                    30
                  ]
                },
                {
                  "hoverinfo": "text",
                  "hovertext": [
                    "<b>Topic 4</b><br>Words: буш, клинтон, обама, трамп, керри",
                    "<b>Topic 4</b><br>Words: клинтон, сноудно, дебаты, трамп, республиканец",
                    "<b>Topic 4</b><br>Words: бернс, трамп, киф, обама, клинтон",
                    "<b>Topic 4</b><br>Words: обама, трамп, подеста, барак, кицхабер",
                    "<b>Topic 4</b><br>Words: клинтон, трамп, буш, республиканец, хиллари",
                    "<b>Topic 4</b><br>Words: клинтон, трамп, обама, демократ, республиканец",
                    "<b>Topic 4</b><br>Words: клинтон, трамп, хиллари, кандидат, республиканец",
                    "<b>Topic 4</b><br>Words: трамп, флинн, дональд, клинтон, республиканец",
                    "<b>Topic 4</b><br>Words: трамп, клинтон, дональд, хиллари, коми",
                    "<b>Topic 4</b><br>Words: трамп, дональд, сша, президент, клинтон",
                    "<b>Topic 4</b><br>Words: трамп, дональд, сша, сенатор, выборы",
                    "<b>Topic 4</b><br>Words: трамп, дональд, сша, президент, конгресс",
                    "<b>Topic 4</b><br>Words: трамп, байден, импичмент, дональд, демократ",
                    "<b>Topic 4</b><br>Words: трамп, дональд, болтон, сша, байден",
                    "<b>Topic 4</b><br>Words: трамп, байден, дональд, демократ, республиканец",
                    "<b>Topic 4</b><br>Words: джорджия, флаг, бейсбол, госдеп, блинкен",
                    "<b>Topic 4</b><br>Words: бэннон, трамп, гендер, капитолий, конгресс",
                    "<b>Topic 4</b><br>Words: трамп, байден, секретный, дональд, фбр",
                    "<b>Topic 4</b><br>Words: трамп, байден, депейп, палата, джо",
                    "<b>Topic 4</b><br>Words: байден, трамп, джо, дональд, дилбер"
                  ],
                  "marker": {
                    "color": "#D55E00"
                  },
                  "mode": "lines",
                  "name": "4_трамп_клинтон_дональд_сша",
                  "type": "scatter",
                  "x": [
                    "2012-12-27T23:36:57.600000",
                    "2013-07-20T19:12:00",
                    "2014-02-06T14:24:00",
                    "2014-08-26T09:36:00",
                    "2015-03-15T04:48:00",
                    "2015-10-02T00:00:00",
                    "2016-04-19T19:12:00",
                    "2016-11-06T14:24:00",
                    "2017-05-26T09:36:00",
                    "2017-12-13T04:48:00",
                    "2018-07-02T00:00:00",
                    "2019-01-18T19:12:00",
                    "2019-08-07T14:24:00",
                    "2020-02-24T09:36:00",
                    "2020-09-12T04:48:00",
                    "2021-04-01T00:00:00",
                    "2021-10-18T19:12:00",
                    "2022-05-07T14:24:00",
                    "2022-11-24T09:36:00",
                    "2023-06-13T04:48:00"
                  ],
                  "y": [
                    11,
                    10,
                    7,
                    11,
                    19,
                    10,
                    20,
                    58,
                    30,
                    21,
                    24,
                    19,
                    13,
                    25,
                    31,
                    2,
                    3,
                    11,
                    10,
                    15
                  ]
                },
                {
                  "hoverinfo": "text",
                  "hovertext": [
                    "<b>Topic 5</b><br>Words: фильм, роль, режиссер, картина, актер",
                    "<b>Topic 5</b><br>Words: фильм, картина, сериал, роль, режиссер",
                    "<b>Topic 5</b><br>Words: фильм, картина, режиссер, роль, сериал",
                    "<b>Topic 5</b><br>Words: фильм, роль, актер, сериал, картина",
                    "<b>Topic 5</b><br>Words: фильм, картина, режиссер, сериал, роль",
                    "<b>Topic 5</b><br>Words: фильм, сериал, картина, роль, актер",
                    "<b>Topic 5</b><br>Words: фильм, сериал, престол, роль, сезон",
                    "<b>Topic 5</b><br>Words: фильм, сериал, картина, актер, режиссер",
                    "<b>Topic 5</b><br>Words: фильм, сериал, роль, престол, режиссер",
                    "<b>Topic 5</b><br>Words: сериал, фильм, барни, молчаливый, злодей",
                    "<b>Topic 5</b><br>Words: фильм, роль, сериал, персонаж, простоквашино",
                    "<b>Topic 5</b><br>Words: фильм, сериал, роль, престол, актер",
                    "<b>Topic 5</b><br>Words: трехо, форсаж, дэнни, тизер, фильм",
                    "<b>Topic 5</b><br>Words: ричардс, ефремов, сериал, сэнди, бэтчелор",
                    "<b>Topic 5</b><br>Words: фильм, комикс, актер, супермен, режиссер",
                    "<b>Topic 5</b><br>Words: спейси, батист, актер, неро, фильм",
                    "<b>Topic 5</b><br>Words: невыносимоевыносимый, фильм, ленин, круз, кольцо",
                    "<b>Topic 5</b><br>Words: фильм, чебурашка, режиссер, сталлон, скример",
                    "<b>Topic 5</b><br>Words: сериал, сансара, режиссер, фильм, фабельман",
                    "<b>Topic 5</b><br>Words: ведьмак, фильм, актер, забастовка, бэнд"
                  ],
                  "marker": {
                    "color": "#0072B2"
                  },
                  "mode": "lines",
                  "name": "5_фильм_сериал_роль_картина",
                  "type": "scatter",
                  "x": [
                    "2012-12-27T23:36:57.600000",
                    "2013-07-20T19:12:00",
                    "2014-02-06T14:24:00",
                    "2014-08-26T09:36:00",
                    "2015-03-15T04:48:00",
                    "2015-10-02T00:00:00",
                    "2016-04-19T19:12:00",
                    "2016-11-06T14:24:00",
                    "2017-05-26T09:36:00",
                    "2017-12-13T04:48:00",
                    "2018-07-02T00:00:00",
                    "2019-01-18T19:12:00",
                    "2019-08-07T14:24:00",
                    "2020-02-24T09:36:00",
                    "2020-09-12T04:48:00",
                    "2021-04-01T00:00:00",
                    "2021-10-18T19:12:00",
                    "2022-05-07T14:24:00",
                    "2022-11-24T09:36:00",
                    "2023-06-13T04:48:00"
                  ],
                  "y": [
                    42,
                    32,
                    22,
                    29,
                    36,
                    23,
                    19,
                    26,
                    22,
                    11,
                    13,
                    17,
                    3,
                    5,
                    7,
                    5,
                    5,
                    7,
                    7,
                    5
                  ]
                },
                {
                  "hoverinfo": "text",
                  "hovertext": [
                    "<b>Topic 6</b><br>Words: хоккей, нхл, шайба, хоккеист, матч",
                    "<b>Topic 6</b><br>Words: шайба, матч, нхл, хоккеист, хоккейный",
                    "<b>Topic 6</b><br>Words: хоккей, шайба, хоккейный, хоккеист, матч",
                    "<b>Topic 6</b><br>Words: нхл, шайба, хоккейный, хоккей, хоккеист",
                    "<b>Topic 6</b><br>Words: хоккей, хоккейный, хоккеист, сборная, шайба",
                    "<b>Topic 6</b><br>Words: нхл, хоккейный, овечкин, шайба, матч",
                    "<b>Topic 6</b><br>Words: нхл, сборная, хоккейный, хоккей, шайба",
                    "<b>Topic 6</b><br>Words: нхл, хоккейный, хоккей, шайба, матч",
                    "<b>Topic 6</b><br>Words: нхл, шайба, вратарь, матч, хоккейный",
                    "<b>Topic 6</b><br>Words: хоккейный, нхл, шайба, хоккей, сборная",
                    "<b>Topic 6</b><br>Words: хоккеист, ковальчук, шайба, нхл, матч",
                    "<b>Topic 6</b><br>Words: хоккейный, нхл, хоккеист, овечкин, матч",
                    "<b>Topic 6</b><br>Words: хоккейный, нхл, лига, матч, хоккей",
                    "<b>Topic 6</b><br>Words: нхл, голдобин, хоккеист, канада, ожиган",
                    "<b>Topic 6</b><br>Words: хоккейный, нхл, хоккей, кхл, хоккеист",
                    "<b>Topic 6</b><br>Words: хоккей, нхл, хоккейный, чемпионат, сборная",
                    "<b>Topic 6</b><br>Words: нхл, овечкин, хоккеист, хоккейный, хоккей",
                    "<b>Topic 6</b><br>Words: нхл, хоккейный, хоккеист, федотов, овечкин",
                    "<b>Topic 6</b><br>Words: нхл, рейнджерс, хоккейный, панарин, овечкин",
                    "<b>Topic 6</b><br>Words: хоккейный, кхл, хоккеист, нхл, хоккей"
                  ],
                  "marker": {
                    "color": "#CC79A7"
                  },
                  "mode": "lines",
                  "name": "6_нхл_хоккейный_хоккей_шайба",
                  "type": "scatter",
                  "x": [
                    "2012-12-27T23:36:57.600000",
                    "2013-07-20T19:12:00",
                    "2014-02-06T14:24:00",
                    "2014-08-26T09:36:00",
                    "2015-03-15T04:48:00",
                    "2015-10-02T00:00:00",
                    "2016-04-19T19:12:00",
                    "2016-11-06T14:24:00",
                    "2017-05-26T09:36:00",
                    "2017-12-13T04:48:00",
                    "2018-07-02T00:00:00",
                    "2019-01-18T19:12:00",
                    "2019-08-07T14:24:00",
                    "2020-02-24T09:36:00",
                    "2020-09-12T04:48:00",
                    "2021-04-01T00:00:00",
                    "2021-10-18T19:12:00",
                    "2022-05-07T14:24:00",
                    "2022-11-24T09:36:00",
                    "2023-06-13T04:48:00"
                  ],
                  "y": [
                    27,
                    22,
                    27,
                    22,
                    21,
                    11,
                    19,
                    38,
                    6,
                    25,
                    9,
                    24,
                    15,
                    3,
                    10,
                    10,
                    15,
                    13,
                    7,
                    9
                  ]
                },
                {
                  "hoverinfo": "text",
                  "hovertext": [
                    "<b>Topic 7</b><br>Words: промах, медаль, секунда, гонка, олимпийский",
                    "<b>Topic 7</b><br>Words: секунда, балл, промах, олимпийский, этап",
                    "<b>Topic 7</b><br>Words: завоевывать, соревнование, медаль, чемпионат, чемпионка",
                    "<b>Topic 7</b><br>Words: олимпийский, медаль, катание, спортсмен, чемпионка",
                    "<b>Topic 7</b><br>Words: медаль, спорт, спортсмен, соревнование, шипулин",
                    "<b>Topic 7</b><br>Words: секунда, чемпионка, гонка, липницкая, этап",
                    "<b>Topic 7</b><br>Words: медаль, олимпийский, рио, олимпиада, соревнование",
                    "<b>Topic 7</b><br>Words: секунда, гонка, промах, этап, кубок",
                    "<b>Topic 7</b><br>Words: балл, медаль, секунда, олимпийский, чемпионат",
                    "<b>Topic 7</b><br>Words: медаль, олимпийский, балл, пхенчхан, фигуристка",
                    "<b>Topic 7</b><br>Words: загитов, олимпийский, фигуристка, этап, секунда",
                    "<b>Topic 7</b><br>Words: катание, чемпионка, медаль, чемпионат, балл",
                    "<b>Topic 7</b><br>Words: секунда, балл, большунов, кипчог, гонка",
                    "<b>Topic 7</b><br>Words: авербух, тутберидзе, олимпийский, шмидт, лыжник",
                    "<b>Topic 7</b><br>Words: секунда, катание, фигурный, плющенко, трусова",
                    "<b>Topic 7</b><br>Words: олимпиада, токио, медаль, соревнование, россиянка",
                    "<b>Topic 7</b><br>Words: валиев, фигуристка, катание, спортсменка, олимпийский",
                    "<b>Topic 7</b><br>Words: трусова, конкурс, возрождение, тутберидзе, спортсменка",
                    "<b>Topic 7</b><br>Words: костомаров, бодибилдер, олимпийский, аррингтон, загитова",
                    "<b>Topic 7</b><br>Words: катание, фигурный, чемпионка, олимпийский, жулин"
                  ],
                  "marker": {
                    "color": "#E69F00"
                  },
                  "mode": "lines",
                  "name": "7_секунда_олимпийский_медаль_катание",
                  "type": "scatter",
                  "x": [
                    "2012-12-27T23:36:57.600000",
                    "2013-07-20T19:12:00",
                    "2014-02-06T14:24:00",
                    "2014-08-26T09:36:00",
                    "2015-03-15T04:48:00",
                    "2015-10-02T00:00:00",
                    "2016-04-19T19:12:00",
                    "2016-11-06T14:24:00",
                    "2017-05-26T09:36:00",
                    "2017-12-13T04:48:00",
                    "2018-07-02T00:00:00",
                    "2019-01-18T19:12:00",
                    "2019-08-07T14:24:00",
                    "2020-02-24T09:36:00",
                    "2020-09-12T04:48:00",
                    "2021-04-01T00:00:00",
                    "2021-10-18T19:12:00",
                    "2022-05-07T14:24:00",
                    "2022-11-24T09:36:00",
                    "2023-06-13T04:48:00"
                  ],
                  "y": [
                    19,
                    28,
                    15,
                    30,
                    14,
                    22,
                    25,
                    30,
                    14,
                    14,
                    11,
                    11,
                    7,
                    4,
                    23,
                    14,
                    14,
                    6,
                    8,
                    9
                  ]
                },
                {
                  "hoverinfo": "text",
                  "hovertext": [
                    "<b>Topic 8</b><br>Words: корабль, флот, судно, морской, вмф",
                    "<b>Topic 8</b><br>Words: корабль, судно, лодка, теплоход, флот",
                    "<b>Topic 8</b><br>Words: корабль, судно, подлодка, флот, лодка",
                    "<b>Topic 8</b><br>Words: корабль, флот, крейсер, судно, морской",
                    "<b>Topic 8</b><br>Words: корабль, судно, флот, лодка, подводный",
                    "<b>Topic 8</b><br>Words: корабль, судно, флот, лодка, подводный",
                    "<b>Topic 8</b><br>Words: судно, корабль, флот, лайнер, фарерский",
                    "<b>Topic 8</b><br>Words: корабль, судно, флот, морской, море",
                    "<b>Topic 8</b><br>Words: корабль, судно, флот, лодка, яхта",
                    "<b>Topic 8</b><br>Words: корабль, судно, флот, субмарина, подводный",
                    "<b>Topic 8</b><br>Words: корабль, морской, судно, подводный, флот",
                    "<b>Topic 8</b><br>Words: корабль, судно, флот, подводный, лодка",
                    "<b>Topic 8</b><br>Words: корабль, флот, саадат, судно, фаррагут",
                    "<b>Topic 8</b><br>Words: корабль, марианский, судно, впадина, подводный",
                    "<b>Topic 8</b><br>Words: судно, корабль, море, морской, мель",
                    "<b>Topic 8</b><br>Words: корабль, судно, субмарина, лодка, вмс",
                    "<b>Topic 8</b><br>Words: иофф, судно, корабль, академик, вмс",
                    "<b>Topic 8</b><br>Words: подводный, лодка, корабль, флот, подлодка",
                    "<b>Topic 8</b><br>Words: меркурий, корвет, корабль, флот, подлодка",
                    "<b>Topic 8</b><br>Words: флот, адмирал, корабль, морской, судно"
                  ],
                  "marker": {
                    "color": "#56B4E9"
                  },
                  "mode": "lines",
                  "name": "8_корабль_судно_флот_лодка",
                  "type": "scatter",
                  "x": [
                    "2012-12-27T23:36:57.600000",
                    "2013-07-20T19:12:00",
                    "2014-02-06T14:24:00",
                    "2014-08-26T09:36:00",
                    "2015-03-15T04:48:00",
                    "2015-10-02T00:00:00",
                    "2016-04-19T19:12:00",
                    "2016-11-06T14:24:00",
                    "2017-05-26T09:36:00",
                    "2017-12-13T04:48:00",
                    "2018-07-02T00:00:00",
                    "2019-01-18T19:12:00",
                    "2019-08-07T14:24:00",
                    "2020-02-24T09:36:00",
                    "2020-09-12T04:48:00",
                    "2021-04-01T00:00:00",
                    "2021-10-18T19:12:00",
                    "2022-05-07T14:24:00",
                    "2022-11-24T09:36:00",
                    "2023-06-13T04:48:00"
                  ],
                  "y": [
                    16,
                    20,
                    19,
                    21,
                    21,
                    21,
                    9,
                    27,
                    18,
                    15,
                    19,
                    20,
                    7,
                    8,
                    13,
                    17,
                    11,
                    15,
                    4,
                    10
                  ]
                },
                {
                  "hoverinfo": "text",
                  "hovertext": [
                    "<b>Topic 9</b><br>Words: акция, митинг, площадь, марш, болотный",
                    "<b>Topic 9</b><br>Words: акция, активист, митинг, болотный, площадь",
                    "<b>Topic 9</b><br>Words: активист, митинг, акция, площадь, здание",
                    "<b>Topic 9</b><br>Words: гонконг, акция, марш, активист, митинг",
                    "<b>Topic 9</b><br>Words: акция, голодовка, протест, митинг, активист",
                    "<b>Topic 9</b><br>Words: акция, активист, банди, митинг, хэммонд",
                    "<b>Topic 9</b><br>Words: акция, марш, митинг, активист, протест",
                    "<b>Topic 9</b><br>Words: акция, протестовать, активист, гей, кфу",
                    "<b>Topic 9</b><br>Words: митинг, акция, антиглобалист, протестовать, полиция",
                    "<b>Topic 9</b><br>Words: акция, митинг, протест, азизян, марш",
                    "<b>Topic 9</b><br>Words: величие, акция, активист, козловский, протест",
                    "<b>Topic 9</b><br>Words: митинг, активист, молебен, акция, протест",
                    "<b>Topic 9</b><br>Words: гонконг, барельеф, атамбаева, миротворец, митинг",
                    "<b>Topic 9</b><br>Words: протест, акция, белоруссия, омон, минск",
                    "<b>Topic 9</b><br>Words: протест, протестовать, протестующий, акция, выборы",
                    "<b>Topic 9</b><br>Words: лион, префектура, вакцинация, пешеход, пропуск",
                    "<b>Topic 9</b><br>Words: протест, митинг, пена, ле, акция",
                    "<b>Topic 9</b><br>Words: митинг, протестующий, протест, протестовать, активист",
                    "<b>Topic 9</b><br>Words: нацизм, шаповалов, фашистский, митинг, память",
                    "<b>Topic 9</b><br>Words: активист, протест, парад, беспорядок, акция"
                  ],
                  "marker": {
                    "color": "#009E73"
                  },
                  "mode": "lines",
                  "name": "9_акция_митинг_активист_протест",
                  "type": "scatter",
                  "x": [
                    "2012-12-27T23:36:57.600000",
                    "2013-07-20T19:12:00",
                    "2014-02-06T14:24:00",
                    "2014-08-26T09:36:00",
                    "2015-03-15T04:48:00",
                    "2015-10-02T00:00:00",
                    "2016-04-19T19:12:00",
                    "2016-11-06T14:24:00",
                    "2017-05-26T09:36:00",
                    "2017-12-13T04:48:00",
                    "2018-07-02T00:00:00",
                    "2019-01-18T19:12:00",
                    "2019-08-07T14:24:00",
                    "2020-02-24T09:36:00",
                    "2020-09-12T04:48:00",
                    "2021-04-01T00:00:00",
                    "2021-10-18T19:12:00",
                    "2022-05-07T14:24:00",
                    "2022-11-24T09:36:00",
                    "2023-06-13T04:48:00"
                  ],
                  "y": [
                    52,
                    30,
                    36,
                    21,
                    20,
                    14,
                    14,
                    19,
                    11,
                    15,
                    7,
                    8,
                    5,
                    15,
                    12,
                    2,
                    6,
                    11,
                    6,
                    7
                  ]
                },
                {
                  "hoverinfo": "text",
                  "hovertext": [
                    "<b>Topic 10</b><br>Words: газпром, спг, газ, кубометр, сжижение",
                    "<b>Topic 10</b><br>Words: газ, газпром, кубометр, гелий, нафтогаз",
                    "<b>Topic 10</b><br>Words: газ, кубометр, газпром, поставка, нафтогаз",
                    "<b>Topic 10</b><br>Words: газ, газпром, кубометр, нафтогаз, поставка",
                    "<b>Topic 10</b><br>Words: газ, газпром, нафтогаз, кубометр, поставка",
                    "<b>Topic 10</b><br>Words: газ, газпром, кубометр, поставка, транзит",
                    "<b>Topic 10</b><br>Words: газ, кубометр, газпром, нафтогаз, топливо",
                    "<b>Topic 10</b><br>Words: газ, газпром, нафтогаз, кубометр, поставка",
                    "<b>Topic 10</b><br>Words: газ, уголь, газпром, газифицировать, углекокс",
                    "<b>Topic 10</b><br>Words: газ, газпром, нафтогаз, транзит, поставка",
                    "<b>Topic 10</b><br>Words: газ, газпром, нафтогаз, спг, кубометр",
                    "<b>Topic 10</b><br>Words: газ, газпром, транзит, кубометр, нафтогаз",
                    "<b>Topic 10</b><br>Words: газ, транзит, газпром, нафтогаз, кубометр",
                    "<b>Topic 10</b><br>Words: газ, газпром, нафтогаз, кубометр, поставка",
                    "<b>Topic 10</b><br>Words: газ, кубометр, газпром, сибуртюменьгаз, сербия",
                    "<b>Topic 10</b><br>Words: газ, газпром, кубометр, транзит, топливо",
                    "<b>Topic 10</b><br>Words: газ, газпром, поставка, кубометр, спг",
                    "<b>Topic 10</b><br>Words: газ, газпром, поставка, кубометр, топливо",
                    "<b>Topic 10</b><br>Words: газ, поставка, обайтек, нефть, газпром",
                    "<b>Topic 10</b><br>Words: газ, топливо, газпром, поставка, кубометр"
                  ],
                  "marker": {
                    "color": "#F0E442"
                  },
                  "mode": "lines",
                  "name": "10_газ_газпром_кубометр_поставка",
                  "type": "scatter",
                  "x": [
                    "2012-12-27T23:36:57.600000",
                    "2013-07-20T19:12:00",
                    "2014-02-06T14:24:00",
                    "2014-08-26T09:36:00",
                    "2015-03-15T04:48:00",
                    "2015-10-02T00:00:00",
                    "2016-04-19T19:12:00",
                    "2016-11-06T14:24:00",
                    "2017-05-26T09:36:00",
                    "2017-12-13T04:48:00",
                    "2018-07-02T00:00:00",
                    "2019-01-18T19:12:00",
                    "2019-08-07T14:24:00",
                    "2020-02-24T09:36:00",
                    "2020-09-12T04:48:00",
                    "2021-04-01T00:00:00",
                    "2021-10-18T19:12:00",
                    "2022-05-07T14:24:00",
                    "2022-11-24T09:36:00",
                    "2023-06-13T04:48:00"
                  ],
                  "y": [
                    9,
                    15,
                    17,
                    24,
                    18,
                    12,
                    12,
                    6,
                    5,
                    13,
                    10,
                    11,
                    20,
                    8,
                    7,
                    20,
                    36,
                    38,
                    10,
                    7
                  ]
                },
                {
                  "hoverinfo": "text",
                  "hovertext": [
                    "<b>Topic 11</b><br>Words: квадратный, метр, квадрат, жилье, квартира",
                    "<b>Topic 11</b><br>Words: квадратный, квадрат, метр, жилье, недвижимость",
                    "<b>Topic 11</b><br>Words: квадратный, недвижимость, квартира, жилье, метр",
                    "<b>Topic 11</b><br>Words: квадратный, квартира, володько, метр, жилье",
                    "<b>Topic 11</b><br>Words: жилье, квартира, квадратный, недвижимость, мебель",
                    "<b>Topic 11</b><br>Words: жк, квадратный, квартира, жилье, недвижимость",
                    "<b>Topic 11</b><br>Words: квадратный, квартира, новостройка, метр, недвижимость",
                    "<b>Topic 11</b><br>Words: жилье, квартира, квадратный, недвижимость, метр",
                    "<b>Topic 11</b><br>Words: квадратный, жилье, квартира, метр, недвижимость",
                    "<b>Topic 11</b><br>Words: квадратный, жилье, квартира, недвижимость, метр",
                    "<b>Topic 11</b><br>Words: жилье, квартира, недвижимость, квадратный, вторичный",
                    "<b>Topic 11</b><br>Words: жилье, новостройка, квартира, квадратный, недвижимость",
                    "<b>Topic 11</b><br>Words: жилье, квадратный, квартира, новостройка, недвижимость",
                    "<b>Topic 11</b><br>Words: жилье, квартира, недвижимость, квадратный, процент",
                    "<b>Topic 11</b><br>Words: жилье, квадратный, квартира, недвижимость, метр",
                    "<b>Topic 11</b><br>Words: жилье, недвижимость, квартира, ипотека, спрос",
                    "<b>Topic 11</b><br>Words: жилье, квартира, квадратный, недвижимость, новостройка",
                    "<b>Topic 11</b><br>Words: жилье, недвижимость, квартира, квадратный, спрос",
                    "<b>Topic 11</b><br>Words: жилье, недвижимость, процент, новостройка, квартира",
                    "<b>Topic 11</b><br>Words: жилье, процент, квартира, аренда, ремонт"
                  ],
                  "marker": {
                    "color": "#D55E00"
                  },
                  "mode": "lines",
                  "name": "11_жилье_квадратный_квартира_недвижимост...",
                  "type": "scatter",
                  "x": [
                    "2012-12-27T23:36:57.600000",
                    "2013-07-20T19:12:00",
                    "2014-02-06T14:24:00",
                    "2014-08-26T09:36:00",
                    "2015-03-15T04:48:00",
                    "2015-10-02T00:00:00",
                    "2016-04-19T19:12:00",
                    "2016-11-06T14:24:00",
                    "2017-05-26T09:36:00",
                    "2017-12-13T04:48:00",
                    "2018-07-02T00:00:00",
                    "2019-01-18T19:12:00",
                    "2019-08-07T14:24:00",
                    "2020-02-24T09:36:00",
                    "2020-09-12T04:48:00",
                    "2021-04-01T00:00:00",
                    "2021-10-18T19:12:00",
                    "2022-05-07T14:24:00",
                    "2022-11-24T09:36:00",
                    "2023-06-13T04:48:00"
                  ],
                  "y": [
                    22,
                    11,
                    10,
                    6,
                    6,
                    5,
                    15,
                    10,
                    18,
                    17,
                    21,
                    13,
                    15,
                    21,
                    25,
                    19,
                    16,
                    18,
                    13,
                    12
                  ]
                },
                {
                  "hoverinfo": "text",
                  "hovertext": [
                    "<b>Topic 12</b><br>Words: косметика, декоративный, косметический, представлен, структурное",
                    "<b>Topic 12</b><br>Words: гальяно, дизайнер, готье, коллекция, кутюр",
                    "<b>Topic 12</b><br>Words: коллекция, бренд, обувь, одежда, дизайнер",
                    "<b>Topic 12</b><br>Words: коллекция, бренд, одежда, дизайнер, обувь",
                    "<b>Topic 12</b><br>Words: коллекция, бренд, обувь, одежда, дизайнер",
                    "<b>Topic 12</b><br>Words: коллекция, бренд, одежда, аромат, марка",
                    "<b>Topic 12</b><br>Words: коллекция, бренд, одежда, марка, модный",
                    "<b>Topic 12</b><br>Words: бренд, коллекция, модель, одежда, аромат",
                    "<b>Topic 12</b><br>Words: бренд, коллекция, одежда, модный, дизайнер",
                    "<b>Topic 12</b><br>Words: бренд, платье, коллекция, кроссовок, одежда",
                    "<b>Topic 12</b><br>Words: бренд, купальник, коллекция, помада, мода",
                    "<b>Topic 12</b><br>Words: джинсовый, костюм, жуков, денить, мода",
                    "<b>Topic 12</b><br>Words: платье, коллекция, брюки, бренд, модный",
                    "<b>Topic 12</b><br>Words: бренд, платье, комбинезон, коллекция, мода",
                    "<b>Topic 12</b><br>Words: бренд, одежда, дизайнер, коллекция, модный",
                    "<b>Topic 12</b><br>Words: бренд, модный, цвет, платье, одежда",
                    "<b>Topic 12</b><br>Words: вещь, бренд, цвет, одежда, стилистка",
                    "<b>Topic 12</b><br>Words: пуховик, бренд, одежда, модный, коллекция"
                  ],
                  "marker": {
                    "color": "#0072B2"
                  },
                  "mode": "lines",
                  "name": "12_коллекция_бренд_одежда_дизайнер",
                  "type": "scatter",
                  "x": [
                    "2014-02-06T14:24:00",
                    "2014-08-26T09:36:00",
                    "2015-03-15T04:48:00",
                    "2015-10-02T00:00:00",
                    "2016-04-19T19:12:00",
                    "2016-11-06T14:24:00",
                    "2017-05-26T09:36:00",
                    "2017-12-13T04:48:00",
                    "2018-07-02T00:00:00",
                    "2019-01-18T19:12:00",
                    "2019-08-07T14:24:00",
                    "2020-02-24T09:36:00",
                    "2020-09-12T04:48:00",
                    "2021-04-01T00:00:00",
                    "2021-10-18T19:12:00",
                    "2022-05-07T14:24:00",
                    "2022-11-24T09:36:00",
                    "2023-06-13T04:48:00"
                  ],
                  "y": [
                    1,
                    3,
                    9,
                    37,
                    36,
                    40,
                    49,
                    20,
                    20,
                    7,
                    7,
                    2,
                    5,
                    4,
                    8,
                    11,
                    6,
                    8
                  ]
                },
                {
                  "hoverinfo": "text",
                  "hovertext": [
                    "<b>Topic 13</b><br>Words: космический, спутник, ракета, орбита, роскосмос",
                    "<b>Topic 13</b><br>Words: космический, орбита, запуск, ракета, спутник",
                    "<b>Topic 13</b><br>Words: космический, спутник, орбита, роскосмос, аппарат",
                    "<b>Topic 13</b><br>Words: космический, мкс, астронавт, спутник, роскосмос",
                    "<b>Topic 13</b><br>Words: космический, мкс, носитель, орбита, ракета",
                    "<b>Topic 13</b><br>Words: мкс, космический, корабль, астронавт, орбита",
                    "<b>Topic 13</b><br>Words: космический, спутник, ракета, астронавт, мкс",
                    "<b>Topic 13</b><br>Words: космический, мкс, ракета, спутник, космонавт",
                    "<b>Topic 13</b><br>Words: космический, орбита, спутник, роскосмос, ракета",
                    "<b>Topic 13</b><br>Words: космический, роскосмос, мкс, ракета, пилотировать",
                    "<b>Topic 13</b><br>Words: космический, роскосмос, мкс, космонавт, рогозин",
                    "<b>Topic 13</b><br>Words: космический, орбита, спутник, ракета, роскосмос",
                    "<b>Topic 13</b><br>Words: космический, мкс, корабль, ракета, роскосмос",
                    "<b>Topic 13</b><br>Words: космический, мкс, пилотировать, астронавт, роскосмос",
                    "<b>Topic 13</b><br>Words: космический, мкс, роскосмос, космонавт, корабль",
                    "<b>Topic 13</b><br>Words: космический, мкс, космос, космонавт, полет",
                    "<b>Topic 13</b><br>Words: космический, мкс, роскосмос, орбита, ракета",
                    "<b>Topic 13</b><br>Words: космический, мкс, космонавт, спутник, роскосмос",
                    "<b>Topic 13</b><br>Words: мс, роскосмос, мкс, космический, корабль",
                    "<b>Topic 13</b><br>Words: космический, луна, роскосмос, мкс, госкорпорация"
                  ],
                  "marker": {
                    "color": "#CC79A7"
                  },
                  "mode": "lines",
                  "name": "13_космический_мкс_роскосмос_орбита",
                  "type": "scatter",
                  "x": [
                    "2012-12-27T23:36:57.600000",
                    "2013-07-20T19:12:00",
                    "2014-02-06T14:24:00",
                    "2014-08-26T09:36:00",
                    "2015-03-15T04:48:00",
                    "2015-10-02T00:00:00",
                    "2016-04-19T19:12:00",
                    "2016-11-06T14:24:00",
                    "2017-05-26T09:36:00",
                    "2017-12-13T04:48:00",
                    "2018-07-02T00:00:00",
                    "2019-01-18T19:12:00",
                    "2019-08-07T14:24:00",
                    "2020-02-24T09:36:00",
                    "2020-09-12T04:48:00",
                    "2021-04-01T00:00:00",
                    "2021-10-18T19:12:00",
                    "2022-05-07T14:24:00",
                    "2022-11-24T09:36:00",
                    "2023-06-13T04:48:00"
                  ],
                  "y": [
                    14,
                    22,
                    17,
                    12,
                    24,
                    15,
                    9,
                    10,
                    11,
                    18,
                    12,
                    16,
                    9,
                    15,
                    13,
                    10,
                    12,
                    9,
                    6,
                    6
                  ]
                },
                {
                  "hoverinfo": "text",
                  "hovertext": [
                    "<b>Topic 14</b><br>Words: ломидзе, туроператор, атор, ростуризм, египет",
                    "<b>Topic 14</b><br>Words: турист, туроператор, нева, рст, лабиринт",
                    "<b>Topic 14</b><br>Words: туристический, турист, виза, туризм, туроператор",
                    "<b>Topic 14</b><br>Words: туризм, турист, туристический, туроператор, отдыхать",
                    "<b>Topic 14</b><br>Words: турист, путешественник, туризм, туроператор, туристический",
                    "<b>Topic 14</b><br>Words: турист, путешественник, путевка, туризм, тур",
                    "<b>Topic 14</b><br>Words: турист, туристический, отдых, путешественник, направление",
                    "<b>Topic 14</b><br>Words: турист, отдых, путешественник, отель, путешествие",
                    "<b>Topic 14</b><br>Words: питание, балл, алакуртти, пассажир, авиакомпания",
                    "<b>Topic 14</b><br>Words: турс, натали, туризм, туроператор, авантить",
                    "<b>Topic 14</b><br>Words: турист, достопримечательность, туризм, путешественник, балл",
                    "<b>Topic 14</b><br>Words: турист, путешественник, отпуск, отель, турция",
                    "<b>Topic 14</b><br>Words: турист, отель, курорт, бронирование, отдых",
                    "<b>Topic 14</b><br>Words: турист, путешественник, туроператор, туристический, туризм",
                    "<b>Topic 14</b><br>Words: турист, курорт, туроператор, отдых, путешественник",
                    "<b>Topic 14</b><br>Words: турист, путешественник, туроператор, отель, отдых",
                    "<b>Topic 14</b><br>Words: турист, туроператор, отель, отдых, путешественник",
                    "<b>Topic 14</b><br>Words: турист, курорт, отдых, туристический, туроператор",
                    "<b>Topic 14</b><br>Words: турист, отдых, путешественник, поездка, отель"
                  ],
                  "marker": {
                    "color": "#E69F00"
                  },
                  "mode": "lines",
                  "name": "14_турист_путешественник_туроператор_отд...",
                  "type": "scatter",
                  "x": [
                    "2013-07-20T19:12:00",
                    "2014-02-06T14:24:00",
                    "2014-08-26T09:36:00",
                    "2015-03-15T04:48:00",
                    "2015-10-02T00:00:00",
                    "2016-04-19T19:12:00",
                    "2016-11-06T14:24:00",
                    "2017-05-26T09:36:00",
                    "2017-12-13T04:48:00",
                    "2018-07-02T00:00:00",
                    "2019-01-18T19:12:00",
                    "2019-08-07T14:24:00",
                    "2020-02-24T09:36:00",
                    "2020-09-12T04:48:00",
                    "2021-04-01T00:00:00",
                    "2021-10-18T19:12:00",
                    "2022-05-07T14:24:00",
                    "2022-11-24T09:36:00",
                    "2023-06-13T04:48:00"
                  ],
                  "y": [
                    1,
                    4,
                    10,
                    9,
                    21,
                    13,
                    21,
                    16,
                    2,
                    4,
                    11,
                    9,
                    14,
                    13,
                    31,
                    25,
                    21,
                    11,
                    9
                  ]
                },
                {
                  "hoverinfo": "text",
                  "hovertext": [
                    "<b>Topic 15</b><br>Words: школа, приемный, мальчик, оружие, учитель",
                    "<b>Topic 15</b><br>Words: школа, маллинс, подросток, хуарес, эпсилон",
                    "<b>Topic 15</b><br>Words: учитель, подросток, шудег, юэтин, оскорбление",
                    "<b>Topic 15</b><br>Words: подросток, таскать, новокузнецк, курительный, сверток",
                    "<b>Topic 15</b><br>Words: школьник, убийство, мальчик, подросток, джамал",
                    "<b>Topic 15</b><br>Words: девочка, школа, астахов, подросток, мальчик",
                    "<b>Topic 15</b><br>Words: мальчик, девочка, убийство, летний, подросток",
                    "<b>Topic 15</b><br>Words: подросток, мальчик, няня, школа, тело",
                    "<b>Topic 15</b><br>Words: мальчик, ученик, школа, школьник, следственный",
                    "<b>Topic 15</b><br>Words: школа, подросток, ученик, нож, риес",
                    "<b>Topic 15</b><br>Words: ученик, учительница, школа, антелопа, урок",
                    "<b>Topic 15</b><br>Words: девочка, мальчик, школа, подросток, родитель",
                    "<b>Topic 15</b><br>Words: мальчик, подросток, школьник, убийство, тело",
                    "<b>Topic 15</b><br>Words: подросток, эмилбек, девочка, избиение, мальчик",
                    "<b>Topic 15</b><br>Words: девочка, тело, убийство, школа, убивать",
                    "<b>Topic 15</b><br>Words: убийство, школа, мальчик, подросток, подозреваемый",
                    "<b>Topic 15</b><br>Words: девочка, школьница, следователь, подросток, ученик",
                    "<b>Topic 15</b><br>Words: мальчик, челленджа, убийство, тело, нож",
                    "<b>Topic 15</b><br>Words: мальчик, девочка, выпадать, подросток, школьник",
                    "<b>Topic 15</b><br>Words: подросток, девочка, мальчик, школьник, пати"
                  ],
                  "marker": {
                    "color": "#56B4E9"
                  },
                  "mode": "lines",
                  "name": "15_мальчик_подросток_девочка_школа",
                  "type": "scatter",
                  "x": [
                    "2012-12-27T23:36:57.600000",
                    "2013-07-20T19:12:00",
                    "2014-02-06T14:24:00",
                    "2014-08-26T09:36:00",
                    "2015-03-15T04:48:00",
                    "2015-10-02T00:00:00",
                    "2016-04-19T19:12:00",
                    "2016-11-06T14:24:00",
                    "2017-05-26T09:36:00",
                    "2017-12-13T04:48:00",
                    "2018-07-02T00:00:00",
                    "2019-01-18T19:12:00",
                    "2019-08-07T14:24:00",
                    "2020-02-24T09:36:00",
                    "2020-09-12T04:48:00",
                    "2021-04-01T00:00:00",
                    "2021-10-18T19:12:00",
                    "2022-05-07T14:24:00",
                    "2022-11-24T09:36:00",
                    "2023-06-13T04:48:00"
                  ],
                  "y": [
                    7,
                    10,
                    5,
                    3,
                    10,
                    15,
                    12,
                    8,
                    10,
                    12,
                    8,
                    15,
                    24,
                    7,
                    8,
                    13,
                    12,
                    12,
                    14,
                    10
                  ]
                },
                {
                  "hoverinfo": "text",
                  "hovertext": [
                    "<b>Topic 16</b><br>Words: билалов, олимпийский, олимпиада, антидопинговый, вонн",
                    "<b>Topic 16</b><br>Words: олимпийский, коноплев, мокнуть, олимпиада, антидопинговый",
                    "<b>Topic 16</b><br>Words: витишко, мокнуть, олимпийский, стайл, антидопинговый",
                    "<b>Topic 16</b><br>Words: допинг, олимпийский, мокнуть, спортсмен, чон",
                    "<b>Topic 16</b><br>Words: олимпийский, спорт, слалом, мокнуть, антидопинговый",
                    "<b>Topic 16</b><br>Words: допинг, антидопинговый, олимпийский, атлетика, легкоатлетический",
                    "<b>Topic 16</b><br>Words: мокнуть, олимпийский, спортсмен, олимпиада, допинг",
                    "<b>Topic 16</b><br>Words: антидопинговый, олимпийский, допинг, макларен, спортсмен",
                    "<b>Topic 16</b><br>Words: антидопинговый, олимпийский, мокнуть, спортсмен, допинг",
                    "<b>Topic 16</b><br>Words: мокнуть, олимпийский, спортсмен, антидопинговый, олимпиада",
                    "<b>Topic 16</b><br>Words: антидопинговый, олимпийский, допинг, спортсмен, мокнуть",
                    "<b>Topic 16</b><br>Words: губерниев, окр, олимпийский, спортсмен, олимпиада",
                    "<b>Topic 16</b><br>Words: антидопинговый, олимпийский, олимпиада, спортсмен, коулмэн",
                    "<b>Topic 16</b><br>Words: афкари, штайнер, непряев, мокнуть, допинг",
                    "<b>Topic 16</b><br>Words: антидопинговый, спортсмен, олимпийский, допинг, биатлонист",
                    "<b>Topic 16</b><br>Words: олимпийский, гимнастика, мокнуть, игра, допинг",
                    "<b>Topic 16</b><br>Words: спортсмен, соревнование, олимпийский, мокнуть, антидопинговый",
                    "<b>Topic 16</b><br>Words: олимпийский, спортсмен, чемпионка, мокнуть, лыжница",
                    "<b>Topic 16</b><br>Words: мокнуть, олимпийский, спортсмен, вфл, антидопинговый",
                    "<b>Topic 16</b><br>Words: олимпийский, мокнуть, спортсмен, атлет, игра"
                  ],
                  "marker": {
                    "color": "#009E73"
                  },
                  "mode": "lines",
                  "name": "16_олимпийский_мокнуть_антидопинговый_сп...",
                  "type": "scatter",
                  "x": [
                    "2012-12-27T23:36:57.600000",
                    "2013-07-20T19:12:00",
                    "2014-02-06T14:24:00",
                    "2014-08-26T09:36:00",
                    "2015-03-15T04:48:00",
                    "2015-10-02T00:00:00",
                    "2016-04-19T19:12:00",
                    "2016-11-06T14:24:00",
                    "2017-05-26T09:36:00",
                    "2017-12-13T04:48:00",
                    "2018-07-02T00:00:00",
                    "2019-01-18T19:12:00",
                    "2019-08-07T14:24:00",
                    "2020-02-24T09:36:00",
                    "2020-09-12T04:48:00",
                    "2021-04-01T00:00:00",
                    "2021-10-18T19:12:00",
                    "2022-05-07T14:24:00",
                    "2022-11-24T09:36:00",
                    "2023-06-13T04:48:00"
                  ],
                  "y": [
                    4,
                    5,
                    5,
                    4,
                    5,
                    11,
                    26,
                    13,
                    23,
                    31,
                    12,
                    4,
                    9,
                    3,
                    8,
                    12,
                    9,
                    7,
                    10,
                    11
                  ]
                },
                {
                  "hoverinfo": "text",
                  "hovertext": [
                    "<b>Topic 17</b><br>Words: кндр, корея, пхеньян, северокорейский, ядерный",
                    "<b>Topic 17</b><br>Words: кндр, корея, ким, чен, пхеньян",
                    "<b>Topic 17</b><br>Words: кндр, корея, пхеньян, ким, испытание",
                    "<b>Topic 17</b><br>Words: кндр, корея, ким, чен, пхеньян",
                    "<b>Topic 17</b><br>Words: корея, кндр, ким, чен, пхеньян",
                    "<b>Topic 17</b><br>Words: кндр, пхеньян, корея, испытание, ядерный",
                    "<b>Topic 17</b><br>Words: кндр, корея, ядерный, пхеньян, северный",
                    "<b>Topic 17</b><br>Words: кндр, корея, пхеньян, ядерный, корейский",
                    "<b>Topic 17</b><br>Words: кндр, корея, пхеньян, северный, ким",
                    "<b>Topic 17</b><br>Words: кндр, корея, ким, чен, пхеньян",
                    "<b>Topic 17</b><br>Words: кндр, корея, ким, чен, северокорейский",
                    "<b>Topic 17</b><br>Words: корея, кндр, ким, чен, пхеньян",
                    "<b>Topic 17</b><br>Words: корея, ким, кндр, чен, пхеньян",
                    "<b>Topic 17</b><br>Words: ким, корея, чен, кндр, ына",
                    "<b>Topic 17</b><br>Words: ким, чен, кндр, корея, хен",
                    "<b>Topic 17</b><br>Words: корея, кндр, ядерный, ким, чен",
                    "<b>Topic 17</b><br>Words: кндр, япония, корея, ядерный, реактор",
                    "<b>Topic 17</b><br>Words: корея, япония, кндр, ядерный, сеул",
                    "<b>Topic 17</b><br>Words: корея, кндр, ким, чен, ядерный",
                    "<b>Topic 17</b><br>Words: кндр, корея, чен, ким, ракета"
                  ],
                  "marker": {
                    "color": "#F0E442"
                  },
                  "mode": "lines",
                  "name": "17_кндр_корея_ким_пхеньян",
                  "type": "scatter",
                  "x": [
                    "2012-12-27T23:36:57.600000",
                    "2013-07-20T19:12:00",
                    "2014-02-06T14:24:00",
                    "2014-08-26T09:36:00",
                    "2015-03-15T04:48:00",
                    "2015-10-02T00:00:00",
                    "2016-04-19T19:12:00",
                    "2016-11-06T14:24:00",
                    "2017-05-26T09:36:00",
                    "2017-12-13T04:48:00",
                    "2018-07-02T00:00:00",
                    "2019-01-18T19:12:00",
                    "2019-08-07T14:24:00",
                    "2020-02-24T09:36:00",
                    "2020-09-12T04:48:00",
                    "2021-04-01T00:00:00",
                    "2021-10-18T19:12:00",
                    "2022-05-07T14:24:00",
                    "2022-11-24T09:36:00",
                    "2023-06-13T04:48:00"
                  ],
                  "y": [
                    15,
                    7,
                    8,
                    15,
                    9,
                    9,
                    7,
                    16,
                    27,
                    23,
                    11,
                    9,
                    5,
                    8,
                    3,
                    4,
                    5,
                    5,
                    7,
                    4
                  ]
                },
                {
                  "hoverinfo": "text",
                  "hovertext": [
                    "<b>Topic 18</b><br>Words: китай, китайский, кнр, пекин, цзиньпина",
                    "<b>Topic 18</b><br>Words: китайский, лок, китай, бо, панда",
                    "<b>Topic 18</b><br>Words: китай, китайский, далай, лама, кнр",
                    "<b>Topic 18</b><br>Words: гонконг, китай, камрань, вьетнам, пекин",
                    "<b>Topic 18</b><br>Words: китайский, китай, пекин, тяньцзинь, кнр",
                    "<b>Topic 18</b><br>Words: кнр, китай, китайский, шелковый, чиновник",
                    "<b>Topic 18</b><br>Words: китайский, китай, кнр, пекин, тайвань",
                    "<b>Topic 18</b><br>Words: китай, юань, кнр, китайский, пекин",
                    "<b>Topic 18</b><br>Words: хантсман, китай, китайский, гонконг, пекин",
                    "<b>Topic 18</b><br>Words: китай, китайский, кнр, тайвань, пекин",
                    "<b>Topic 18</b><br>Words: китай, мэн, китайский, пекин, кнр",
                    "<b>Topic 18</b><br>Words: китай, китайский, пошлина, пекин, кнр",
                    "<b>Topic 18</b><br>Words: китай, гонконг, кнр, китайский, пекин",
                    "<b>Topic 18</b><br>Words: китай, китайский, пекин, сша, вашингтон",
                    "<b>Topic 18</b><br>Words: китай, китайский, пекин, пушок, кнр",
                    "<b>Topic 18</b><br>Words: китай, кнр, китайский, пекин, гонконг",
                    "<b>Topic 18</b><br>Words: китай, тайвань, кнр, китайский, пекин",
                    "<b>Topic 18</b><br>Words: тайвань, китай, кнр, пелось, пекин",
                    "<b>Topic 18</b><br>Words: китай, пекин, кнр, китайский, тайвань",
                    "<b>Topic 18</b><br>Words: китай, китайский, кнр, тайвань, пекин"
                  ],
                  "marker": {
                    "color": "#D55E00"
                  },
                  "mode": "lines",
                  "name": "18_китай_китайский_кнр_пекин",
                  "type": "scatter",
                  "x": [
                    "2012-12-27T23:36:57.600000",
                    "2013-07-20T19:12:00",
                    "2014-02-06T14:24:00",
                    "2014-08-26T09:36:00",
                    "2015-03-15T04:48:00",
                    "2015-10-02T00:00:00",
                    "2016-04-19T19:12:00",
                    "2016-11-06T14:24:00",
                    "2017-05-26T09:36:00",
                    "2017-12-13T04:48:00",
                    "2018-07-02T00:00:00",
                    "2019-01-18T19:12:00",
                    "2019-08-07T14:24:00",
                    "2020-02-24T09:36:00",
                    "2020-09-12T04:48:00",
                    "2021-04-01T00:00:00",
                    "2021-10-18T19:12:00",
                    "2022-05-07T14:24:00",
                    "2022-11-24T09:36:00",
                    "2023-06-13T04:48:00"
                  ],
                  "y": [
                    10,
                    5,
                    7,
                    5,
                    4,
                    4,
                    5,
                    8,
                    4,
                    12,
                    9,
                    13,
                    7,
                    7,
                    7,
                    11,
                    10,
                    9,
                    19,
                    10
                  ]
                },
                {
                  "hoverinfo": "text",
                  "hovertext": [
                    "<b>Topic 19</b><br>Words: белоруссия, белорусский, беларусь, гимнастика, лукашенко",
                    "<b>Topic 19</b><br>Words: лукашенко, белоруссия, белорусский, минск, зурабов",
                    "<b>Topic 19</b><br>Words: белоруссия, лукашенко, белорусский, минск, затмение",
                    "<b>Topic 19</b><br>Words: маз, камаз, белоруссия, семашко, белорусский",
                    "<b>Topic 19</b><br>Words: белоруссия, маз, лукашенко, камаз, белорусский",
                    "<b>Topic 19</b><br>Words: лукашенко, белоруссия, белорусский, минск, союзный",
                    "<b>Topic 19</b><br>Words: лукашенко, белорусский, белоруссия, минск, погранзона",
                    "<b>Topic 19</b><br>Words: лукашенко, белоруссия, белорусский, минск, союзный",
                    "<b>Topic 19</b><br>Words: белоруссия, лукашенко, бабич, белорусский, посол",
                    "<b>Topic 19</b><br>Words: белоруссия, лукашенко, белорусский, конституция, минск",
                    "<b>Topic 19</b><br>Words: лукашенко, белоруссия, тихановский, белорусский, выборы",
                    "<b>Topic 19</b><br>Words: лукашенко, белоруссия, белорусский, тихановский, протест",
                    "<b>Topic 19</b><br>Words: белоруссия, лукашенко, белорусский, тихановский, минск",
                    "<b>Topic 19</b><br>Words: лукашенко, белоруссия, белорусский, союзный, минск",
                    "<b>Topic 19</b><br>Words: лукашенко, белоруссия, белорусский, минск, лучинский",
                    "<b>Topic 19</b><br>Words: белоруссия, лукашенко, тихановский, белорусский, гулевич",
                    "<b>Topic 19</b><br>Words: лукашенко, белоруссия, чвк, вагнер, белорусский"
                  ],
                  "marker": {
                    "color": "#0072B2"
                  },
                  "mode": "lines",
                  "name": "19_лукашенко_белоруссия_белорусский_тиха...",
                  "type": "scatter",
                  "x": [
                    "2012-12-27T23:36:57.600000",
                    "2014-08-26T09:36:00",
                    "2015-03-15T04:48:00",
                    "2015-10-02T00:00:00",
                    "2016-04-19T19:12:00",
                    "2016-11-06T14:24:00",
                    "2017-05-26T09:36:00",
                    "2018-07-02T00:00:00",
                    "2019-01-18T19:12:00",
                    "2019-08-07T14:24:00",
                    "2020-02-24T09:36:00",
                    "2020-09-12T04:48:00",
                    "2021-04-01T00:00:00",
                    "2021-10-18T19:12:00",
                    "2022-05-07T14:24:00",
                    "2022-11-24T09:36:00",
                    "2023-06-13T04:48:00"
                  ],
                  "y": [
                    2,
                    2,
                    7,
                    1,
                    3,
                    10,
                    2,
                    8,
                    8,
                    6,
                    36,
                    25,
                    22,
                    13,
                    9,
                    5,
                    5
                  ]
                }
              ],
              "layout": {
                "height": 450,
                "hoverlabel": {
                  "bgcolor": "white",
                  "font": {
                    "family": "Rockwell",
                    "size": 16
                  }
                },
                "legend": {
                  "title": {
                    "text": "<b>Global Topic Representation"
                  }
                },
                "template": {
                  "data": {
                    "bar": [
                      {
                        "error_x": {
                          "color": "rgb(36,36,36)"
                        },
                        "error_y": {
                          "color": "rgb(36,36,36)"
                        },
                        "marker": {
                          "line": {
                            "color": "white",
                            "width": 0.5
                          },
                          "pattern": {
                            "fillmode": "overlay",
                            "size": 10,
                            "solidity": 0.2
                          }
                        },
                        "type": "bar"
                      }
                    ],
                    "barpolar": [
                      {
                        "marker": {
                          "line": {
                            "color": "white",
                            "width": 0.5
                          },
                          "pattern": {
                            "fillmode": "overlay",
                            "size": 10,
                            "solidity": 0.2
                          }
                        },
                        "type": "barpolar"
                      }
                    ],
                    "carpet": [
                      {
                        "aaxis": {
                          "endlinecolor": "rgb(36,36,36)",
                          "gridcolor": "white",
                          "linecolor": "white",
                          "minorgridcolor": "white",
                          "startlinecolor": "rgb(36,36,36)"
                        },
                        "baxis": {
                          "endlinecolor": "rgb(36,36,36)",
                          "gridcolor": "white",
                          "linecolor": "white",
                          "minorgridcolor": "white",
                          "startlinecolor": "rgb(36,36,36)"
                        },
                        "type": "carpet"
                      }
                    ],
                    "choropleth": [
                      {
                        "colorbar": {
                          "outlinewidth": 1,
                          "tickcolor": "rgb(36,36,36)",
                          "ticks": "outside"
                        },
                        "type": "choropleth"
                      }
                    ],
                    "contour": [
                      {
                        "colorbar": {
                          "outlinewidth": 1,
                          "tickcolor": "rgb(36,36,36)",
                          "ticks": "outside"
                        },
                        "colorscale": [
                          [
                            0,
                            "#440154"
                          ],
                          [
                            0.1111111111111111,
                            "#482878"
                          ],
                          [
                            0.2222222222222222,
                            "#3e4989"
                          ],
                          [
                            0.3333333333333333,
                            "#31688e"
                          ],
                          [
                            0.4444444444444444,
                            "#26828e"
                          ],
                          [
                            0.5555555555555556,
                            "#1f9e89"
                          ],
                          [
                            0.6666666666666666,
                            "#35b779"
                          ],
                          [
                            0.7777777777777778,
                            "#6ece58"
                          ],
                          [
                            0.8888888888888888,
                            "#b5de2b"
                          ],
                          [
                            1,
                            "#fde725"
                          ]
                        ],
                        "type": "contour"
                      }
                    ],
                    "contourcarpet": [
                      {
                        "colorbar": {
                          "outlinewidth": 1,
                          "tickcolor": "rgb(36,36,36)",
                          "ticks": "outside"
                        },
                        "type": "contourcarpet"
                      }
                    ],
                    "heatmap": [
                      {
                        "colorbar": {
                          "outlinewidth": 1,
                          "tickcolor": "rgb(36,36,36)",
                          "ticks": "outside"
                        },
                        "colorscale": [
                          [
                            0,
                            "#440154"
                          ],
                          [
                            0.1111111111111111,
                            "#482878"
                          ],
                          [
                            0.2222222222222222,
                            "#3e4989"
                          ],
                          [
                            0.3333333333333333,
                            "#31688e"
                          ],
                          [
                            0.4444444444444444,
                            "#26828e"
                          ],
                          [
                            0.5555555555555556,
                            "#1f9e89"
                          ],
                          [
                            0.6666666666666666,
                            "#35b779"
                          ],
                          [
                            0.7777777777777778,
                            "#6ece58"
                          ],
                          [
                            0.8888888888888888,
                            "#b5de2b"
                          ],
                          [
                            1,
                            "#fde725"
                          ]
                        ],
                        "type": "heatmap"
                      }
                    ],
                    "heatmapgl": [
                      {
                        "colorbar": {
                          "outlinewidth": 1,
                          "tickcolor": "rgb(36,36,36)",
                          "ticks": "outside"
                        },
                        "colorscale": [
                          [
                            0,
                            "#440154"
                          ],
                          [
                            0.1111111111111111,
                            "#482878"
                          ],
                          [
                            0.2222222222222222,
                            "#3e4989"
                          ],
                          [
                            0.3333333333333333,
                            "#31688e"
                          ],
                          [
                            0.4444444444444444,
                            "#26828e"
                          ],
                          [
                            0.5555555555555556,
                            "#1f9e89"
                          ],
                          [
                            0.6666666666666666,
                            "#35b779"
                          ],
                          [
                            0.7777777777777778,
                            "#6ece58"
                          ],
                          [
                            0.8888888888888888,
                            "#b5de2b"
                          ],
                          [
                            1,
                            "#fde725"
                          ]
                        ],
                        "type": "heatmapgl"
                      }
                    ],
                    "histogram": [
                      {
                        "marker": {
                          "line": {
                            "color": "white",
                            "width": 0.6
                          }
                        },
                        "type": "histogram"
                      }
                    ],
                    "histogram2d": [
                      {
                        "colorbar": {
                          "outlinewidth": 1,
                          "tickcolor": "rgb(36,36,36)",
                          "ticks": "outside"
                        },
                        "colorscale": [
                          [
                            0,
                            "#440154"
                          ],
                          [
                            0.1111111111111111,
                            "#482878"
                          ],
                          [
                            0.2222222222222222,
                            "#3e4989"
                          ],
                          [
                            0.3333333333333333,
                            "#31688e"
                          ],
                          [
                            0.4444444444444444,
                            "#26828e"
                          ],
                          [
                            0.5555555555555556,
                            "#1f9e89"
                          ],
                          [
                            0.6666666666666666,
                            "#35b779"
                          ],
                          [
                            0.7777777777777778,
                            "#6ece58"
                          ],
                          [
                            0.8888888888888888,
                            "#b5de2b"
                          ],
                          [
                            1,
                            "#fde725"
                          ]
                        ],
                        "type": "histogram2d"
                      }
                    ],
                    "histogram2dcontour": [
                      {
                        "colorbar": {
                          "outlinewidth": 1,
                          "tickcolor": "rgb(36,36,36)",
                          "ticks": "outside"
                        },
                        "colorscale": [
                          [
                            0,
                            "#440154"
                          ],
                          [
                            0.1111111111111111,
                            "#482878"
                          ],
                          [
                            0.2222222222222222,
                            "#3e4989"
                          ],
                          [
                            0.3333333333333333,
                            "#31688e"
                          ],
                          [
                            0.4444444444444444,
                            "#26828e"
                          ],
                          [
                            0.5555555555555556,
                            "#1f9e89"
                          ],
                          [
                            0.6666666666666666,
                            "#35b779"
                          ],
                          [
                            0.7777777777777778,
                            "#6ece58"
                          ],
                          [
                            0.8888888888888888,
                            "#b5de2b"
                          ],
                          [
                            1,
                            "#fde725"
                          ]
                        ],
                        "type": "histogram2dcontour"
                      }
                    ],
                    "mesh3d": [
                      {
                        "colorbar": {
                          "outlinewidth": 1,
                          "tickcolor": "rgb(36,36,36)",
                          "ticks": "outside"
                        },
                        "type": "mesh3d"
                      }
                    ],
                    "parcoords": [
                      {
                        "line": {
                          "colorbar": {
                            "outlinewidth": 1,
                            "tickcolor": "rgb(36,36,36)",
                            "ticks": "outside"
                          }
                        },
                        "type": "parcoords"
                      }
                    ],
                    "pie": [
                      {
                        "automargin": true,
                        "type": "pie"
                      }
                    ],
                    "scatter": [
                      {
                        "fillpattern": {
                          "fillmode": "overlay",
                          "size": 10,
                          "solidity": 0.2
                        },
                        "type": "scatter"
                      }
                    ],
                    "scatter3d": [
                      {
                        "line": {
                          "colorbar": {
                            "outlinewidth": 1,
                            "tickcolor": "rgb(36,36,36)",
                            "ticks": "outside"
                          }
                        },
                        "marker": {
                          "colorbar": {
                            "outlinewidth": 1,
                            "tickcolor": "rgb(36,36,36)",
                            "ticks": "outside"
                          }
                        },
                        "type": "scatter3d"
                      }
                    ],
                    "scattercarpet": [
                      {
                        "marker": {
                          "colorbar": {
                            "outlinewidth": 1,
                            "tickcolor": "rgb(36,36,36)",
                            "ticks": "outside"
                          }
                        },
                        "type": "scattercarpet"
                      }
                    ],
                    "scattergeo": [
                      {
                        "marker": {
                          "colorbar": {
                            "outlinewidth": 1,
                            "tickcolor": "rgb(36,36,36)",
                            "ticks": "outside"
                          }
                        },
                        "type": "scattergeo"
                      }
                    ],
                    "scattergl": [
                      {
                        "marker": {
                          "colorbar": {
                            "outlinewidth": 1,
                            "tickcolor": "rgb(36,36,36)",
                            "ticks": "outside"
                          }
                        },
                        "type": "scattergl"
                      }
                    ],
                    "scattermapbox": [
                      {
                        "marker": {
                          "colorbar": {
                            "outlinewidth": 1,
                            "tickcolor": "rgb(36,36,36)",
                            "ticks": "outside"
                          }
                        },
                        "type": "scattermapbox"
                      }
                    ],
                    "scatterpolar": [
                      {
                        "marker": {
                          "colorbar": {
                            "outlinewidth": 1,
                            "tickcolor": "rgb(36,36,36)",
                            "ticks": "outside"
                          }
                        },
                        "type": "scatterpolar"
                      }
                    ],
                    "scatterpolargl": [
                      {
                        "marker": {
                          "colorbar": {
                            "outlinewidth": 1,
                            "tickcolor": "rgb(36,36,36)",
                            "ticks": "outside"
                          }
                        },
                        "type": "scatterpolargl"
                      }
                    ],
                    "scatterternary": [
                      {
                        "marker": {
                          "colorbar": {
                            "outlinewidth": 1,
                            "tickcolor": "rgb(36,36,36)",
                            "ticks": "outside"
                          }
                        },
                        "type": "scatterternary"
                      }
                    ],
                    "surface": [
                      {
                        "colorbar": {
                          "outlinewidth": 1,
                          "tickcolor": "rgb(36,36,36)",
                          "ticks": "outside"
                        },
                        "colorscale": [
                          [
                            0,
                            "#440154"
                          ],
                          [
                            0.1111111111111111,
                            "#482878"
                          ],
                          [
                            0.2222222222222222,
                            "#3e4989"
                          ],
                          [
                            0.3333333333333333,
                            "#31688e"
                          ],
                          [
                            0.4444444444444444,
                            "#26828e"
                          ],
                          [
                            0.5555555555555556,
                            "#1f9e89"
                          ],
                          [
                            0.6666666666666666,
                            "#35b779"
                          ],
                          [
                            0.7777777777777778,
                            "#6ece58"
                          ],
                          [
                            0.8888888888888888,
                            "#b5de2b"
                          ],
                          [
                            1,
                            "#fde725"
                          ]
                        ],
                        "type": "surface"
                      }
                    ],
                    "table": [
                      {
                        "cells": {
                          "fill": {
                            "color": "rgb(237,237,237)"
                          },
                          "line": {
                            "color": "white"
                          }
                        },
                        "header": {
                          "fill": {
                            "color": "rgb(217,217,217)"
                          },
                          "line": {
                            "color": "white"
                          }
                        },
                        "type": "table"
                      }
                    ]
                  },
                  "layout": {
                    "annotationdefaults": {
                      "arrowhead": 0,
                      "arrowwidth": 1
                    },
                    "autotypenumbers": "strict",
                    "coloraxis": {
                      "colorbar": {
                        "outlinewidth": 1,
                        "tickcolor": "rgb(36,36,36)",
                        "ticks": "outside"
                      }
                    },
                    "colorscale": {
                      "diverging": [
                        [
                          0,
                          "rgb(103,0,31)"
                        ],
                        [
                          0.1,
                          "rgb(178,24,43)"
                        ],
                        [
                          0.2,
                          "rgb(214,96,77)"
                        ],
                        [
                          0.3,
                          "rgb(244,165,130)"
                        ],
                        [
                          0.4,
                          "rgb(253,219,199)"
                        ],
                        [
                          0.5,
                          "rgb(247,247,247)"
                        ],
                        [
                          0.6,
                          "rgb(209,229,240)"
                        ],
                        [
                          0.7,
                          "rgb(146,197,222)"
                        ],
                        [
                          0.8,
                          "rgb(67,147,195)"
                        ],
                        [
                          0.9,
                          "rgb(33,102,172)"
                        ],
                        [
                          1,
                          "rgb(5,48,97)"
                        ]
                      ],
                      "sequential": [
                        [
                          0,
                          "#440154"
                        ],
                        [
                          0.1111111111111111,
                          "#482878"
                        ],
                        [
                          0.2222222222222222,
                          "#3e4989"
                        ],
                        [
                          0.3333333333333333,
                          "#31688e"
                        ],
                        [
                          0.4444444444444444,
                          "#26828e"
                        ],
                        [
                          0.5555555555555556,
                          "#1f9e89"
                        ],
                        [
                          0.6666666666666666,
                          "#35b779"
                        ],
                        [
                          0.7777777777777778,
                          "#6ece58"
                        ],
                        [
                          0.8888888888888888,
                          "#b5de2b"
                        ],
                        [
                          1,
                          "#fde725"
                        ]
                      ],
                      "sequentialminus": [
                        [
                          0,
                          "#440154"
                        ],
                        [
                          0.1111111111111111,
                          "#482878"
                        ],
                        [
                          0.2222222222222222,
                          "#3e4989"
                        ],
                        [
                          0.3333333333333333,
                          "#31688e"
                        ],
                        [
                          0.4444444444444444,
                          "#26828e"
                        ],
                        [
                          0.5555555555555556,
                          "#1f9e89"
                        ],
                        [
                          0.6666666666666666,
                          "#35b779"
                        ],
                        [
                          0.7777777777777778,
                          "#6ece58"
                        ],
                        [
                          0.8888888888888888,
                          "#b5de2b"
                        ],
                        [
                          1,
                          "#fde725"
                        ]
                      ]
                    },
                    "colorway": [
                      "#1F77B4",
                      "#FF7F0E",
                      "#2CA02C",
                      "#D62728",
                      "#9467BD",
                      "#8C564B",
                      "#E377C2",
                      "#7F7F7F",
                      "#BCBD22",
                      "#17BECF"
                    ],
                    "font": {
                      "color": "rgb(36,36,36)"
                    },
                    "geo": {
                      "bgcolor": "white",
                      "lakecolor": "white",
                      "landcolor": "white",
                      "showlakes": true,
                      "showland": true,
                      "subunitcolor": "white"
                    },
                    "hoverlabel": {
                      "align": "left"
                    },
                    "hovermode": "closest",
                    "mapbox": {
                      "style": "light"
                    },
                    "paper_bgcolor": "white",
                    "plot_bgcolor": "white",
                    "polar": {
                      "angularaxis": {
                        "gridcolor": "rgb(232,232,232)",
                        "linecolor": "rgb(36,36,36)",
                        "showgrid": false,
                        "showline": true,
                        "ticks": "outside"
                      },
                      "bgcolor": "white",
                      "radialaxis": {
                        "gridcolor": "rgb(232,232,232)",
                        "linecolor": "rgb(36,36,36)",
                        "showgrid": false,
                        "showline": true,
                        "ticks": "outside"
                      }
                    },
                    "scene": {
                      "xaxis": {
                        "backgroundcolor": "white",
                        "gridcolor": "rgb(232,232,232)",
                        "gridwidth": 2,
                        "linecolor": "rgb(36,36,36)",
                        "showbackground": true,
                        "showgrid": false,
                        "showline": true,
                        "ticks": "outside",
                        "zeroline": false,
                        "zerolinecolor": "rgb(36,36,36)"
                      },
                      "yaxis": {
                        "backgroundcolor": "white",
                        "gridcolor": "rgb(232,232,232)",
                        "gridwidth": 2,
                        "linecolor": "rgb(36,36,36)",
                        "showbackground": true,
                        "showgrid": false,
                        "showline": true,
                        "ticks": "outside",
                        "zeroline": false,
                        "zerolinecolor": "rgb(36,36,36)"
                      },
                      "zaxis": {
                        "backgroundcolor": "white",
                        "gridcolor": "rgb(232,232,232)",
                        "gridwidth": 2,
                        "linecolor": "rgb(36,36,36)",
                        "showbackground": true,
                        "showgrid": false,
                        "showline": true,
                        "ticks": "outside",
                        "zeroline": false,
                        "zerolinecolor": "rgb(36,36,36)"
                      }
                    },
                    "shapedefaults": {
                      "fillcolor": "black",
                      "line": {
                        "width": 0
                      },
                      "opacity": 0.3
                    },
                    "ternary": {
                      "aaxis": {
                        "gridcolor": "rgb(232,232,232)",
                        "linecolor": "rgb(36,36,36)",
                        "showgrid": false,
                        "showline": true,
                        "ticks": "outside"
                      },
                      "baxis": {
                        "gridcolor": "rgb(232,232,232)",
                        "linecolor": "rgb(36,36,36)",
                        "showgrid": false,
                        "showline": true,
                        "ticks": "outside"
                      },
                      "bgcolor": "white",
                      "caxis": {
                        "gridcolor": "rgb(232,232,232)",
                        "linecolor": "rgb(36,36,36)",
                        "showgrid": false,
                        "showline": true,
                        "ticks": "outside"
                      }
                    },
                    "title": {
                      "x": 0.05
                    },
                    "xaxis": {
                      "automargin": true,
                      "gridcolor": "rgb(232,232,232)",
                      "linecolor": "rgb(36,36,36)",
                      "showgrid": false,
                      "showline": true,
                      "ticks": "outside",
                      "title": {
                        "standoff": 15
                      },
                      "zeroline": false,
                      "zerolinecolor": "rgb(36,36,36)"
                    },
                    "yaxis": {
                      "automargin": true,
                      "gridcolor": "rgb(232,232,232)",
                      "linecolor": "rgb(36,36,36)",
                      "showgrid": false,
                      "showline": true,
                      "ticks": "outside",
                      "title": {
                        "standoff": 15
                      },
                      "zeroline": false,
                      "zerolinecolor": "rgb(36,36,36)"
                    }
                  }
                },
                "title": {
                  "font": {
                    "color": "Black",
                    "size": 22
                  },
                  "text": "<b>Topics over Time</b>",
                  "x": 0.4,
                  "xanchor": "center",
                  "y": 0.95,
                  "yanchor": "top"
                },
                "width": 1250,
                "xaxis": {
                  "showgrid": true
                },
                "yaxis": {
                  "showgrid": true,
                  "title": {
                    "text": "Frequency"
                  }
                }
              }
            }
          },
          "metadata": {},
          "output_type": "display_data"
        }
      ],
      "source": [
        "topic_model.visualize_topics_over_time(topics_over_time, top_n_topics=20)"
      ]
    },
    {
      "cell_type": "code",
      "execution_count": 9,
      "metadata": {
        "colab": {
          "base_uri": "https://localhost:8080/",
          "height": 487
        },
        "id": "HELknLdBds34",
        "outputId": "3539e5a5-7816-441f-eef9-5180dc7c4220"
      },
      "outputs": [
        {
          "data": {
            "application/vnd.plotly.v1+json": {
              "config": {
                "plotlyServerURL": "https://plot.ly"
              },
              "data": [
                {
                  "hoverinfo": "text",
                  "hovertext": [
                    "<b>Topic 0</b><br>Words: матч, клуб, команда, чемпионат, сборная",
                    "<b>Topic 0</b><br>Words: матч, клуб, чемпионат, зенит, команда",
                    "<b>Topic 0</b><br>Words: матч, клуб, команда, чемпионат, сборная",
                    "<b>Topic 0</b><br>Words: матч, клуб, футболист, команда, футбол",
                    "<b>Topic 0</b><br>Words: матч, клуб, сборная, команда, зенит",
                    "<b>Topic 0</b><br>Words: матч, клуб, чемпионат, команда, сборная",
                    "<b>Topic 0</b><br>Words: матч, сборная, команда, клуб, лига",
                    "<b>Topic 0</b><br>Words: матч, клуб, футбольный, команда, чемпионат",
                    "<b>Topic 0</b><br>Words: матч, клуб, лига, мяч, команда",
                    "<b>Topic 0</b><br>Words: матч, сборная, клуб, команда, чемпионат",
                    "<b>Topic 0</b><br>Words: матч, клуб, сборная, чемпионат, футболист",
                    "<b>Topic 0</b><br>Words: матч, клуб, футболист, сборная, чемпионат",
                    "<b>Topic 0</b><br>Words: матч, клуб, зенит, команда, футболист",
                    "<b>Topic 0</b><br>Words: лига, матч, команда, клуб, футболист",
                    "<b>Topic 0</b><br>Words: марадон, матч, клуб, футболист, барселона",
                    "<b>Topic 0</b><br>Words: матч, сборная, команда, клуб, чемпионат",
                    "<b>Topic 0</b><br>Words: матч, клуб, команда, миранчук, сборная",
                    "<b>Topic 0</b><br>Words: клуб, матч, сборная, футболист, лига",
                    "<b>Topic 0</b><br>Words: матч, команда, чемпионат, сборная, роналд",
                    "<b>Topic 0</b><br>Words: клуб, матч, сборная, зенит, команда"
                  ],
                  "marker": {
                    "color": "#E69F00"
                  },
                  "mode": "lines",
                  "name": "0_матч_клуб_сборная_команда",
                  "type": "scatter",
                  "x": [
                    "2012-12-27T23:36:57.600000",
                    "2013-07-20T19:12:00",
                    "2014-02-06T14:24:00",
                    "2014-08-26T09:36:00",
                    "2015-03-15T04:48:00",
                    "2015-10-02T00:00:00",
                    "2016-04-19T19:12:00",
                    "2016-11-06T14:24:00",
                    "2017-05-26T09:36:00",
                    "2017-12-13T04:48:00",
                    "2018-07-02T00:00:00",
                    "2019-01-18T19:12:00",
                    "2019-08-07T14:24:00",
                    "2020-02-24T09:36:00",
                    "2020-09-12T04:48:00",
                    "2021-04-01T00:00:00",
                    "2021-10-18T19:12:00",
                    "2022-05-07T14:24:00",
                    "2022-11-24T09:36:00",
                    "2023-06-13T04:48:00"
                  ],
                  "y": [
                    63,
                    57,
                    125,
                    45,
                    59,
                    56,
                    72,
                    62,
                    72,
                    83,
                    76,
                    62,
                    42,
                    28,
                    23,
                    38,
                    25,
                    27,
                    29,
                    41
                  ]
                },
                {
                  "hoverinfo": "text",
                  "hovertext": [
                    "<b>Topic 1</b><br>Words: самолет, авиакомпания, посадка, лайнер, аэропорт",
                    "<b>Topic 1</b><br>Words: самолет, авиакомпания, пассажир, аэропорт, борт",
                    "<b>Topic 1</b><br>Words: самолет, авиакомпания, рейс, борт, пассажир",
                    "<b>Topic 1</b><br>Words: самолет, авиакомпания, аэропорт, рейс, пассажир",
                    "<b>Topic 1</b><br>Words: самолет, авиакомпания, пилот, рейс, пассажир",
                    "<b>Topic 1</b><br>Words: авиакомпания, самолет, рейс, пассажир, аэропорт",
                    "<b>Topic 1</b><br>Words: самолет, авиакомпания, рейс, аэропорт, пассажир",
                    "<b>Topic 1</b><br>Words: аэропорт, авиакомпания, рейс, самолет, борт",
                    "<b>Topic 1</b><br>Words: авиакомпания, самолет, пассажир, рейс, борт",
                    "<b>Topic 1</b><br>Words: самолет, авиакомпания, пассажир, аэропорт, рейс",
                    "<b>Topic 1</b><br>Words: самолет, авиакомпания, пассажир, аэропорт, рейс",
                    "<b>Topic 1</b><br>Words: самолет, авиакомпания, рейс, аэропорт, пассажир",
                    "<b>Topic 1</b><br>Words: самолет, авиакомпания, пассажир, аэропорт, лайнер",
                    "<b>Topic 1</b><br>Words: самолет, авиакомпания, аэропорт, рейс, пассажир",
                    "<b>Topic 1</b><br>Words: самолет, авиакомпания, рейс, пассажир, стюардесса",
                    "<b>Topic 1</b><br>Words: самолет, авиакомпания, полет, рейс, посадка",
                    "<b>Topic 1</b><br>Words: рейс, авиакомпания, самолет, аэропорт, пассажир",
                    "<b>Topic 1</b><br>Words: самолет, авиакомпания, рейс, аэропорт, крушение",
                    "<b>Topic 1</b><br>Words: рейс, самолет, аэропорт, авиакомпания, пассажир",
                    "<b>Topic 1</b><br>Words: рейс, самолет, авиакомпания, аэропорт, пассажир"
                  ],
                  "marker": {
                    "color": "#56B4E9"
                  },
                  "mode": "lines",
                  "name": "1_самолет_авиакомпания_рейс_аэропорт",
                  "type": "scatter",
                  "x": [
                    "2012-12-27T23:36:57.600000",
                    "2013-07-20T19:12:00",
                    "2014-02-06T14:24:00",
                    "2014-08-26T09:36:00",
                    "2015-03-15T04:48:00",
                    "2015-10-02T00:00:00",
                    "2016-04-19T19:12:00",
                    "2016-11-06T14:24:00",
                    "2017-05-26T09:36:00",
                    "2017-12-13T04:48:00",
                    "2018-07-02T00:00:00",
                    "2019-01-18T19:12:00",
                    "2019-08-07T14:24:00",
                    "2020-02-24T09:36:00",
                    "2020-09-12T04:48:00",
                    "2021-04-01T00:00:00",
                    "2021-10-18T19:12:00",
                    "2022-05-07T14:24:00",
                    "2022-11-24T09:36:00",
                    "2023-06-13T04:48:00"
                  ],
                  "y": [
                    46,
                    46,
                    55,
                    54,
                    49,
                    86,
                    59,
                    44,
                    30,
                    33,
                    37,
                    70,
                    52,
                    31,
                    34,
                    55,
                    33,
                    31,
                    21,
                    38
                  ]
                },
                {
                  "hoverinfo": "text",
                  "hovertext": [
                    "<b>Topic 2</b><br>Words: смартфон, пользователь, сервис, устройство, экран",
                    "<b>Topic 2</b><br>Words: пользователь, смартфон, устройство, приложение, сервис",
                    "<b>Topic 2</b><br>Words: пользователь, смартфон, приложение, мобильный, сервис",
                    "<b>Topic 2</b><br>Words: приложение, пользователь, смартфон, устройство, мобильный",
                    "<b>Topic 2</b><br>Words: пользователь, устройство, смартфон, приложение, сервис",
                    "<b>Topic 2</b><br>Words: пользователь, смартфон, сервис, приложение, устройство",
                    "<b>Topic 2</b><br>Words: смартфон, пользователь, устройство, хакер, сервис",
                    "<b>Topic 2</b><br>Words: хакер, пользователь, смартфон, устройство, приложение",
                    "<b>Topic 2</b><br>Words: смартфон, пользователь, сервис, компьютер, устройство",
                    "<b>Topic 2</b><br>Words: пользователь, сервис, смартфон, роскомнадзор, приложение",
                    "<b>Topic 2</b><br>Words: пользователь, смартфон, пароль, приложение, хакер",
                    "<b>Topic 2</b><br>Words: приложение, пользователь, уязвимость, устройство, смартфон",
                    "<b>Topic 2</b><br>Words: приложение, смартфон, пользователь, устройство, голосовой",
                    "<b>Topic 2</b><br>Words: смартфон, пользователь, уязвимость, контент, устройство",
                    "<b>Topic 2</b><br>Words: смартфон, пользователь, устройство, приложение, обновление",
                    "<b>Topic 2</b><br>Words: приложение, пользователь, обновление, ос, смартфон",
                    "<b>Topic 2</b><br>Words: смартфон, пользователь, роскомнадзор, пароль, доступ",
                    "<b>Topic 2</b><br>Words: смартфон, пользователь, устройство, обновление, пароль",
                    "<b>Topic 2</b><br>Words: смартфон, бот, пользователь, чат, приложение",
                    "<b>Topic 2</b><br>Words: смартфон, устройство, приложение, пользователь, сервис"
                  ],
                  "marker": {
                    "color": "#009E73"
                  },
                  "mode": "lines",
                  "name": "2_пользователь_смартфон_приложение_устро...",
                  "type": "scatter",
                  "x": [
                    "2012-12-27T23:36:57.600000",
                    "2013-07-20T19:12:00",
                    "2014-02-06T14:24:00",
                    "2014-08-26T09:36:00",
                    "2015-03-15T04:48:00",
                    "2015-10-02T00:00:00",
                    "2016-04-19T19:12:00",
                    "2016-11-06T14:24:00",
                    "2017-05-26T09:36:00",
                    "2017-12-13T04:48:00",
                    "2018-07-02T00:00:00",
                    "2019-01-18T19:12:00",
                    "2019-08-07T14:24:00",
                    "2020-02-24T09:36:00",
                    "2020-09-12T04:48:00",
                    "2021-04-01T00:00:00",
                    "2021-10-18T19:12:00",
                    "2022-05-07T14:24:00",
                    "2022-11-24T09:36:00",
                    "2023-06-13T04:48:00"
                  ],
                  "y": [
                    67,
                    71,
                    65,
                    40,
                    58,
                    36,
                    33,
                    37,
                    34,
                    36,
                    27,
                    24,
                    20,
                    27,
                    41,
                    30,
                    25,
                    24,
                    19,
                    27
                  ]
                },
                {
                  "hoverinfo": "text",
                  "hovertext": [
                    "<b>Topic 3</b><br>Words: суд, следствие, приговор, взятка, подсудимый",
                    "<b>Topic 3</b><br>Words: суд, следствие, приговор, свартхольм, взятка",
                    "<b>Topic 3</b><br>Words: суд, следствие, взятка, приговор, обвинение",
                    "<b>Topic 3</b><br>Words: суд, навальный, следствие, иск, арест",
                    "<b>Topic 3</b><br>Words: суд, следствие, мошенничество, кехман, уголовный",
                    "<b>Topic 3</b><br>Words: суд, юкос, следствие, адвокат, иск",
                    "<b>Topic 3</b><br>Words: суд, взятка, уголовный, следствие, дод",
                    "<b>Topic 3</b><br>Words: суд, следствие, взятка, уголовный, статья",
                    "<b>Topic 3</b><br>Words: суд, взятка, афк, башнефть, рубль",
                    "<b>Topic 3</b><br>Words: суд, взятка, иск, улюкаев, следствие",
                    "<b>Topic 3</b><br>Words: суд, следствие, взятка, хачатурян, сестра",
                    "<b>Topic 3</b><br>Words: суд, следствие, взятка, уголовный, следственный",
                    "<b>Topic 3</b><br>Words: фбк, монгуш, уголовный, следственный, суд",
                    "<b>Topic 3</b><br>Words: суд, взятка, мазуров, сазонов, свидетель",
                    "<b>Topic 3</b><br>Words: суд, пашаев, кляйн, уголовный, следствие",
                    "<b>Topic 3</b><br>Words: суд, приговор, следствие, вор, уголовный",
                    "<b>Topic 3</b><br>Words: суд, следствие, хованский, шляфман, уголовный",
                    "<b>Topic 3</b><br>Words: суд, адвокат, взятка, колония, следственный",
                    "<b>Topic 3</b><br>Words: суд, следствие, болдырев, преступление, колония",
                    "<b>Topic 3</b><br>Words: сайн, суд, витгенштейн, взятка, следствие"
                  ],
                  "marker": {
                    "color": "#F0E442"
                  },
                  "mode": "lines",
                  "name": "3_суд_следствие_взятка_уголовный",
                  "type": "scatter",
                  "x": [
                    "2012-12-27T23:36:57.600000",
                    "2013-07-20T19:12:00",
                    "2014-02-06T14:24:00",
                    "2014-08-26T09:36:00",
                    "2015-03-15T04:48:00",
                    "2015-10-02T00:00:00",
                    "2016-04-19T19:12:00",
                    "2016-11-06T14:24:00",
                    "2017-05-26T09:36:00",
                    "2017-12-13T04:48:00",
                    "2018-07-02T00:00:00",
                    "2019-01-18T19:12:00",
                    "2019-08-07T14:24:00",
                    "2020-02-24T09:36:00",
                    "2020-09-12T04:48:00",
                    "2021-04-01T00:00:00",
                    "2021-10-18T19:12:00",
                    "2022-05-07T14:24:00",
                    "2022-11-24T09:36:00",
                    "2023-06-13T04:48:00"
                  ],
                  "y": [
                    71,
                    66,
                    50,
                    40,
                    52,
                    37,
                    44,
                    36,
                    35,
                    33,
                    28,
                    42,
                    13,
                    24,
                    17,
                    33,
                    21,
                    32,
                    12,
                    30
                  ]
                },
                {
                  "hoverinfo": "text",
                  "hovertext": [
                    "<b>Topic 4</b><br>Words: буш, клинтон, обама, трамп, керри",
                    "<b>Topic 4</b><br>Words: клинтон, сноудно, дебаты, трамп, республиканец",
                    "<b>Topic 4</b><br>Words: бернс, трамп, киф, обама, клинтон",
                    "<b>Topic 4</b><br>Words: обама, трамп, подеста, барак, кицхабер",
                    "<b>Topic 4</b><br>Words: клинтон, трамп, буш, республиканец, хиллари",
                    "<b>Topic 4</b><br>Words: клинтон, трамп, обама, демократ, республиканец",
                    "<b>Topic 4</b><br>Words: клинтон, трамп, хиллари, кандидат, республиканец",
                    "<b>Topic 4</b><br>Words: трамп, флинн, дональд, клинтон, республиканец",
                    "<b>Topic 4</b><br>Words: трамп, клинтон, дональд, хиллари, коми",
                    "<b>Topic 4</b><br>Words: трамп, дональд, сша, президент, клинтон",
                    "<b>Topic 4</b><br>Words: трамп, дональд, сша, сенатор, выборы",
                    "<b>Topic 4</b><br>Words: трамп, дональд, сша, президент, конгресс",
                    "<b>Topic 4</b><br>Words: трамп, байден, импичмент, дональд, демократ",
                    "<b>Topic 4</b><br>Words: трамп, дональд, болтон, сша, байден",
                    "<b>Topic 4</b><br>Words: трамп, байден, дональд, демократ, республиканец",
                    "<b>Topic 4</b><br>Words: джорджия, флаг, бейсбол, госдеп, блинкен",
                    "<b>Topic 4</b><br>Words: бэннон, трамп, гендер, капитолий, конгресс",
                    "<b>Topic 4</b><br>Words: трамп, байден, секретный, дональд, фбр",
                    "<b>Topic 4</b><br>Words: трамп, байден, депейп, палата, джо",
                    "<b>Topic 4</b><br>Words: байден, трамп, джо, дональд, дилбер"
                  ],
                  "marker": {
                    "color": "#D55E00"
                  },
                  "mode": "lines",
                  "name": "4_трамп_клинтон_дональд_сша",
                  "type": "scatter",
                  "x": [
                    "2012-12-27T23:36:57.600000",
                    "2013-07-20T19:12:00",
                    "2014-02-06T14:24:00",
                    "2014-08-26T09:36:00",
                    "2015-03-15T04:48:00",
                    "2015-10-02T00:00:00",
                    "2016-04-19T19:12:00",
                    "2016-11-06T14:24:00",
                    "2017-05-26T09:36:00",
                    "2017-12-13T04:48:00",
                    "2018-07-02T00:00:00",
                    "2019-01-18T19:12:00",
                    "2019-08-07T14:24:00",
                    "2020-02-24T09:36:00",
                    "2020-09-12T04:48:00",
                    "2021-04-01T00:00:00",
                    "2021-10-18T19:12:00",
                    "2022-05-07T14:24:00",
                    "2022-11-24T09:36:00",
                    "2023-06-13T04:48:00"
                  ],
                  "y": [
                    11,
                    10,
                    7,
                    11,
                    19,
                    10,
                    20,
                    58,
                    30,
                    21,
                    24,
                    19,
                    13,
                    25,
                    31,
                    2,
                    3,
                    11,
                    10,
                    15
                  ]
                },
                {
                  "hoverinfo": "text",
                  "hovertext": [
                    "<b>Topic 5</b><br>Words: фильм, роль, режиссер, картина, актер",
                    "<b>Topic 5</b><br>Words: фильм, картина, сериал, роль, режиссер",
                    "<b>Topic 5</b><br>Words: фильм, картина, режиссер, роль, сериал",
                    "<b>Topic 5</b><br>Words: фильм, роль, актер, сериал, картина",
                    "<b>Topic 5</b><br>Words: фильм, картина, режиссер, сериал, роль",
                    "<b>Topic 5</b><br>Words: фильм, сериал, картина, роль, актер",
                    "<b>Topic 5</b><br>Words: фильм, сериал, престол, роль, сезон",
                    "<b>Topic 5</b><br>Words: фильм, сериал, картина, актер, режиссер",
                    "<b>Topic 5</b><br>Words: фильм, сериал, роль, престол, режиссер",
                    "<b>Topic 5</b><br>Words: сериал, фильм, барни, молчаливый, злодей",
                    "<b>Topic 5</b><br>Words: фильм, роль, сериал, персонаж, простоквашино",
                    "<b>Topic 5</b><br>Words: фильм, сериал, роль, престол, актер",
                    "<b>Topic 5</b><br>Words: трехо, форсаж, дэнни, тизер, фильм",
                    "<b>Topic 5</b><br>Words: ричардс, ефремов, сериал, сэнди, бэтчелор",
                    "<b>Topic 5</b><br>Words: фильм, комикс, актер, супермен, режиссер",
                    "<b>Topic 5</b><br>Words: спейси, батист, актер, неро, фильм",
                    "<b>Topic 5</b><br>Words: невыносимоевыносимый, фильм, ленин, круз, кольцо",
                    "<b>Topic 5</b><br>Words: фильм, чебурашка, режиссер, сталлон, скример",
                    "<b>Topic 5</b><br>Words: сериал, сансара, режиссер, фильм, фабельман",
                    "<b>Topic 5</b><br>Words: ведьмак, фильм, актер, забастовка, бэнд"
                  ],
                  "marker": {
                    "color": "#0072B2"
                  },
                  "mode": "lines",
                  "name": "5_фильм_сериал_роль_картина",
                  "type": "scatter",
                  "x": [
                    "2012-12-27T23:36:57.600000",
                    "2013-07-20T19:12:00",
                    "2014-02-06T14:24:00",
                    "2014-08-26T09:36:00",
                    "2015-03-15T04:48:00",
                    "2015-10-02T00:00:00",
                    "2016-04-19T19:12:00",
                    "2016-11-06T14:24:00",
                    "2017-05-26T09:36:00",
                    "2017-12-13T04:48:00",
                    "2018-07-02T00:00:00",
                    "2019-01-18T19:12:00",
                    "2019-08-07T14:24:00",
                    "2020-02-24T09:36:00",
                    "2020-09-12T04:48:00",
                    "2021-04-01T00:00:00",
                    "2021-10-18T19:12:00",
                    "2022-05-07T14:24:00",
                    "2022-11-24T09:36:00",
                    "2023-06-13T04:48:00"
                  ],
                  "y": [
                    42,
                    32,
                    22,
                    29,
                    36,
                    23,
                    19,
                    26,
                    22,
                    11,
                    13,
                    17,
                    3,
                    5,
                    7,
                    5,
                    5,
                    7,
                    7,
                    5
                  ]
                }
              ],
              "layout": {
                "height": 450,
                "hoverlabel": {
                  "bgcolor": "white",
                  "font": {
                    "family": "Rockwell",
                    "size": 16
                  }
                },
                "legend": {
                  "title": {
                    "text": "<b>Global Topic Representation"
                  }
                },
                "template": {
                  "data": {
                    "bar": [
                      {
                        "error_x": {
                          "color": "rgb(36,36,36)"
                        },
                        "error_y": {
                          "color": "rgb(36,36,36)"
                        },
                        "marker": {
                          "line": {
                            "color": "white",
                            "width": 0.5
                          },
                          "pattern": {
                            "fillmode": "overlay",
                            "size": 10,
                            "solidity": 0.2
                          }
                        },
                        "type": "bar"
                      }
                    ],
                    "barpolar": [
                      {
                        "marker": {
                          "line": {
                            "color": "white",
                            "width": 0.5
                          },
                          "pattern": {
                            "fillmode": "overlay",
                            "size": 10,
                            "solidity": 0.2
                          }
                        },
                        "type": "barpolar"
                      }
                    ],
                    "carpet": [
                      {
                        "aaxis": {
                          "endlinecolor": "rgb(36,36,36)",
                          "gridcolor": "white",
                          "linecolor": "white",
                          "minorgridcolor": "white",
                          "startlinecolor": "rgb(36,36,36)"
                        },
                        "baxis": {
                          "endlinecolor": "rgb(36,36,36)",
                          "gridcolor": "white",
                          "linecolor": "white",
                          "minorgridcolor": "white",
                          "startlinecolor": "rgb(36,36,36)"
                        },
                        "type": "carpet"
                      }
                    ],
                    "choropleth": [
                      {
                        "colorbar": {
                          "outlinewidth": 1,
                          "tickcolor": "rgb(36,36,36)",
                          "ticks": "outside"
                        },
                        "type": "choropleth"
                      }
                    ],
                    "contour": [
                      {
                        "colorbar": {
                          "outlinewidth": 1,
                          "tickcolor": "rgb(36,36,36)",
                          "ticks": "outside"
                        },
                        "colorscale": [
                          [
                            0,
                            "#440154"
                          ],
                          [
                            0.1111111111111111,
                            "#482878"
                          ],
                          [
                            0.2222222222222222,
                            "#3e4989"
                          ],
                          [
                            0.3333333333333333,
                            "#31688e"
                          ],
                          [
                            0.4444444444444444,
                            "#26828e"
                          ],
                          [
                            0.5555555555555556,
                            "#1f9e89"
                          ],
                          [
                            0.6666666666666666,
                            "#35b779"
                          ],
                          [
                            0.7777777777777778,
                            "#6ece58"
                          ],
                          [
                            0.8888888888888888,
                            "#b5de2b"
                          ],
                          [
                            1,
                            "#fde725"
                          ]
                        ],
                        "type": "contour"
                      }
                    ],
                    "contourcarpet": [
                      {
                        "colorbar": {
                          "outlinewidth": 1,
                          "tickcolor": "rgb(36,36,36)",
                          "ticks": "outside"
                        },
                        "type": "contourcarpet"
                      }
                    ],
                    "heatmap": [
                      {
                        "colorbar": {
                          "outlinewidth": 1,
                          "tickcolor": "rgb(36,36,36)",
                          "ticks": "outside"
                        },
                        "colorscale": [
                          [
                            0,
                            "#440154"
                          ],
                          [
                            0.1111111111111111,
                            "#482878"
                          ],
                          [
                            0.2222222222222222,
                            "#3e4989"
                          ],
                          [
                            0.3333333333333333,
                            "#31688e"
                          ],
                          [
                            0.4444444444444444,
                            "#26828e"
                          ],
                          [
                            0.5555555555555556,
                            "#1f9e89"
                          ],
                          [
                            0.6666666666666666,
                            "#35b779"
                          ],
                          [
                            0.7777777777777778,
                            "#6ece58"
                          ],
                          [
                            0.8888888888888888,
                            "#b5de2b"
                          ],
                          [
                            1,
                            "#fde725"
                          ]
                        ],
                        "type": "heatmap"
                      }
                    ],
                    "heatmapgl": [
                      {
                        "colorbar": {
                          "outlinewidth": 1,
                          "tickcolor": "rgb(36,36,36)",
                          "ticks": "outside"
                        },
                        "colorscale": [
                          [
                            0,
                            "#440154"
                          ],
                          [
                            0.1111111111111111,
                            "#482878"
                          ],
                          [
                            0.2222222222222222,
                            "#3e4989"
                          ],
                          [
                            0.3333333333333333,
                            "#31688e"
                          ],
                          [
                            0.4444444444444444,
                            "#26828e"
                          ],
                          [
                            0.5555555555555556,
                            "#1f9e89"
                          ],
                          [
                            0.6666666666666666,
                            "#35b779"
                          ],
                          [
                            0.7777777777777778,
                            "#6ece58"
                          ],
                          [
                            0.8888888888888888,
                            "#b5de2b"
                          ],
                          [
                            1,
                            "#fde725"
                          ]
                        ],
                        "type": "heatmapgl"
                      }
                    ],
                    "histogram": [
                      {
                        "marker": {
                          "line": {
                            "color": "white",
                            "width": 0.6
                          }
                        },
                        "type": "histogram"
                      }
                    ],
                    "histogram2d": [
                      {
                        "colorbar": {
                          "outlinewidth": 1,
                          "tickcolor": "rgb(36,36,36)",
                          "ticks": "outside"
                        },
                        "colorscale": [
                          [
                            0,
                            "#440154"
                          ],
                          [
                            0.1111111111111111,
                            "#482878"
                          ],
                          [
                            0.2222222222222222,
                            "#3e4989"
                          ],
                          [
                            0.3333333333333333,
                            "#31688e"
                          ],
                          [
                            0.4444444444444444,
                            "#26828e"
                          ],
                          [
                            0.5555555555555556,
                            "#1f9e89"
                          ],
                          [
                            0.6666666666666666,
                            "#35b779"
                          ],
                          [
                            0.7777777777777778,
                            "#6ece58"
                          ],
                          [
                            0.8888888888888888,
                            "#b5de2b"
                          ],
                          [
                            1,
                            "#fde725"
                          ]
                        ],
                        "type": "histogram2d"
                      }
                    ],
                    "histogram2dcontour": [
                      {
                        "colorbar": {
                          "outlinewidth": 1,
                          "tickcolor": "rgb(36,36,36)",
                          "ticks": "outside"
                        },
                        "colorscale": [
                          [
                            0,
                            "#440154"
                          ],
                          [
                            0.1111111111111111,
                            "#482878"
                          ],
                          [
                            0.2222222222222222,
                            "#3e4989"
                          ],
                          [
                            0.3333333333333333,
                            "#31688e"
                          ],
                          [
                            0.4444444444444444,
                            "#26828e"
                          ],
                          [
                            0.5555555555555556,
                            "#1f9e89"
                          ],
                          [
                            0.6666666666666666,
                            "#35b779"
                          ],
                          [
                            0.7777777777777778,
                            "#6ece58"
                          ],
                          [
                            0.8888888888888888,
                            "#b5de2b"
                          ],
                          [
                            1,
                            "#fde725"
                          ]
                        ],
                        "type": "histogram2dcontour"
                      }
                    ],
                    "mesh3d": [
                      {
                        "colorbar": {
                          "outlinewidth": 1,
                          "tickcolor": "rgb(36,36,36)",
                          "ticks": "outside"
                        },
                        "type": "mesh3d"
                      }
                    ],
                    "parcoords": [
                      {
                        "line": {
                          "colorbar": {
                            "outlinewidth": 1,
                            "tickcolor": "rgb(36,36,36)",
                            "ticks": "outside"
                          }
                        },
                        "type": "parcoords"
                      }
                    ],
                    "pie": [
                      {
                        "automargin": true,
                        "type": "pie"
                      }
                    ],
                    "scatter": [
                      {
                        "fillpattern": {
                          "fillmode": "overlay",
                          "size": 10,
                          "solidity": 0.2
                        },
                        "type": "scatter"
                      }
                    ],
                    "scatter3d": [
                      {
                        "line": {
                          "colorbar": {
                            "outlinewidth": 1,
                            "tickcolor": "rgb(36,36,36)",
                            "ticks": "outside"
                          }
                        },
                        "marker": {
                          "colorbar": {
                            "outlinewidth": 1,
                            "tickcolor": "rgb(36,36,36)",
                            "ticks": "outside"
                          }
                        },
                        "type": "scatter3d"
                      }
                    ],
                    "scattercarpet": [
                      {
                        "marker": {
                          "colorbar": {
                            "outlinewidth": 1,
                            "tickcolor": "rgb(36,36,36)",
                            "ticks": "outside"
                          }
                        },
                        "type": "scattercarpet"
                      }
                    ],
                    "scattergeo": [
                      {
                        "marker": {
                          "colorbar": {
                            "outlinewidth": 1,
                            "tickcolor": "rgb(36,36,36)",
                            "ticks": "outside"
                          }
                        },
                        "type": "scattergeo"
                      }
                    ],
                    "scattergl": [
                      {
                        "marker": {
                          "colorbar": {
                            "outlinewidth": 1,
                            "tickcolor": "rgb(36,36,36)",
                            "ticks": "outside"
                          }
                        },
                        "type": "scattergl"
                      }
                    ],
                    "scattermapbox": [
                      {
                        "marker": {
                          "colorbar": {
                            "outlinewidth": 1,
                            "tickcolor": "rgb(36,36,36)",
                            "ticks": "outside"
                          }
                        },
                        "type": "scattermapbox"
                      }
                    ],
                    "scatterpolar": [
                      {
                        "marker": {
                          "colorbar": {
                            "outlinewidth": 1,
                            "tickcolor": "rgb(36,36,36)",
                            "ticks": "outside"
                          }
                        },
                        "type": "scatterpolar"
                      }
                    ],
                    "scatterpolargl": [
                      {
                        "marker": {
                          "colorbar": {
                            "outlinewidth": 1,
                            "tickcolor": "rgb(36,36,36)",
                            "ticks": "outside"
                          }
                        },
                        "type": "scatterpolargl"
                      }
                    ],
                    "scatterternary": [
                      {
                        "marker": {
                          "colorbar": {
                            "outlinewidth": 1,
                            "tickcolor": "rgb(36,36,36)",
                            "ticks": "outside"
                          }
                        },
                        "type": "scatterternary"
                      }
                    ],
                    "surface": [
                      {
                        "colorbar": {
                          "outlinewidth": 1,
                          "tickcolor": "rgb(36,36,36)",
                          "ticks": "outside"
                        },
                        "colorscale": [
                          [
                            0,
                            "#440154"
                          ],
                          [
                            0.1111111111111111,
                            "#482878"
                          ],
                          [
                            0.2222222222222222,
                            "#3e4989"
                          ],
                          [
                            0.3333333333333333,
                            "#31688e"
                          ],
                          [
                            0.4444444444444444,
                            "#26828e"
                          ],
                          [
                            0.5555555555555556,
                            "#1f9e89"
                          ],
                          [
                            0.6666666666666666,
                            "#35b779"
                          ],
                          [
                            0.7777777777777778,
                            "#6ece58"
                          ],
                          [
                            0.8888888888888888,
                            "#b5de2b"
                          ],
                          [
                            1,
                            "#fde725"
                          ]
                        ],
                        "type": "surface"
                      }
                    ],
                    "table": [
                      {
                        "cells": {
                          "fill": {
                            "color": "rgb(237,237,237)"
                          },
                          "line": {
                            "color": "white"
                          }
                        },
                        "header": {
                          "fill": {
                            "color": "rgb(217,217,217)"
                          },
                          "line": {
                            "color": "white"
                          }
                        },
                        "type": "table"
                      }
                    ]
                  },
                  "layout": {
                    "annotationdefaults": {
                      "arrowhead": 0,
                      "arrowwidth": 1
                    },
                    "autotypenumbers": "strict",
                    "coloraxis": {
                      "colorbar": {
                        "outlinewidth": 1,
                        "tickcolor": "rgb(36,36,36)",
                        "ticks": "outside"
                      }
                    },
                    "colorscale": {
                      "diverging": [
                        [
                          0,
                          "rgb(103,0,31)"
                        ],
                        [
                          0.1,
                          "rgb(178,24,43)"
                        ],
                        [
                          0.2,
                          "rgb(214,96,77)"
                        ],
                        [
                          0.3,
                          "rgb(244,165,130)"
                        ],
                        [
                          0.4,
                          "rgb(253,219,199)"
                        ],
                        [
                          0.5,
                          "rgb(247,247,247)"
                        ],
                        [
                          0.6,
                          "rgb(209,229,240)"
                        ],
                        [
                          0.7,
                          "rgb(146,197,222)"
                        ],
                        [
                          0.8,
                          "rgb(67,147,195)"
                        ],
                        [
                          0.9,
                          "rgb(33,102,172)"
                        ],
                        [
                          1,
                          "rgb(5,48,97)"
                        ]
                      ],
                      "sequential": [
                        [
                          0,
                          "#440154"
                        ],
                        [
                          0.1111111111111111,
                          "#482878"
                        ],
                        [
                          0.2222222222222222,
                          "#3e4989"
                        ],
                        [
                          0.3333333333333333,
                          "#31688e"
                        ],
                        [
                          0.4444444444444444,
                          "#26828e"
                        ],
                        [
                          0.5555555555555556,
                          "#1f9e89"
                        ],
                        [
                          0.6666666666666666,
                          "#35b779"
                        ],
                        [
                          0.7777777777777778,
                          "#6ece58"
                        ],
                        [
                          0.8888888888888888,
                          "#b5de2b"
                        ],
                        [
                          1,
                          "#fde725"
                        ]
                      ],
                      "sequentialminus": [
                        [
                          0,
                          "#440154"
                        ],
                        [
                          0.1111111111111111,
                          "#482878"
                        ],
                        [
                          0.2222222222222222,
                          "#3e4989"
                        ],
                        [
                          0.3333333333333333,
                          "#31688e"
                        ],
                        [
                          0.4444444444444444,
                          "#26828e"
                        ],
                        [
                          0.5555555555555556,
                          "#1f9e89"
                        ],
                        [
                          0.6666666666666666,
                          "#35b779"
                        ],
                        [
                          0.7777777777777778,
                          "#6ece58"
                        ],
                        [
                          0.8888888888888888,
                          "#b5de2b"
                        ],
                        [
                          1,
                          "#fde725"
                        ]
                      ]
                    },
                    "colorway": [
                      "#1F77B4",
                      "#FF7F0E",
                      "#2CA02C",
                      "#D62728",
                      "#9467BD",
                      "#8C564B",
                      "#E377C2",
                      "#7F7F7F",
                      "#BCBD22",
                      "#17BECF"
                    ],
                    "font": {
                      "color": "rgb(36,36,36)"
                    },
                    "geo": {
                      "bgcolor": "white",
                      "lakecolor": "white",
                      "landcolor": "white",
                      "showlakes": true,
                      "showland": true,
                      "subunitcolor": "white"
                    },
                    "hoverlabel": {
                      "align": "left"
                    },
                    "hovermode": "closest",
                    "mapbox": {
                      "style": "light"
                    },
                    "paper_bgcolor": "white",
                    "plot_bgcolor": "white",
                    "polar": {
                      "angularaxis": {
                        "gridcolor": "rgb(232,232,232)",
                        "linecolor": "rgb(36,36,36)",
                        "showgrid": false,
                        "showline": true,
                        "ticks": "outside"
                      },
                      "bgcolor": "white",
                      "radialaxis": {
                        "gridcolor": "rgb(232,232,232)",
                        "linecolor": "rgb(36,36,36)",
                        "showgrid": false,
                        "showline": true,
                        "ticks": "outside"
                      }
                    },
                    "scene": {
                      "xaxis": {
                        "backgroundcolor": "white",
                        "gridcolor": "rgb(232,232,232)",
                        "gridwidth": 2,
                        "linecolor": "rgb(36,36,36)",
                        "showbackground": true,
                        "showgrid": false,
                        "showline": true,
                        "ticks": "outside",
                        "zeroline": false,
                        "zerolinecolor": "rgb(36,36,36)"
                      },
                      "yaxis": {
                        "backgroundcolor": "white",
                        "gridcolor": "rgb(232,232,232)",
                        "gridwidth": 2,
                        "linecolor": "rgb(36,36,36)",
                        "showbackground": true,
                        "showgrid": false,
                        "showline": true,
                        "ticks": "outside",
                        "zeroline": false,
                        "zerolinecolor": "rgb(36,36,36)"
                      },
                      "zaxis": {
                        "backgroundcolor": "white",
                        "gridcolor": "rgb(232,232,232)",
                        "gridwidth": 2,
                        "linecolor": "rgb(36,36,36)",
                        "showbackground": true,
                        "showgrid": false,
                        "showline": true,
                        "ticks": "outside",
                        "zeroline": false,
                        "zerolinecolor": "rgb(36,36,36)"
                      }
                    },
                    "shapedefaults": {
                      "fillcolor": "black",
                      "line": {
                        "width": 0
                      },
                      "opacity": 0.3
                    },
                    "ternary": {
                      "aaxis": {
                        "gridcolor": "rgb(232,232,232)",
                        "linecolor": "rgb(36,36,36)",
                        "showgrid": false,
                        "showline": true,
                        "ticks": "outside"
                      },
                      "baxis": {
                        "gridcolor": "rgb(232,232,232)",
                        "linecolor": "rgb(36,36,36)",
                        "showgrid": false,
                        "showline": true,
                        "ticks": "outside"
                      },
                      "bgcolor": "white",
                      "caxis": {
                        "gridcolor": "rgb(232,232,232)",
                        "linecolor": "rgb(36,36,36)",
                        "showgrid": false,
                        "showline": true,
                        "ticks": "outside"
                      }
                    },
                    "title": {
                      "x": 0.05
                    },
                    "xaxis": {
                      "automargin": true,
                      "gridcolor": "rgb(232,232,232)",
                      "linecolor": "rgb(36,36,36)",
                      "showgrid": false,
                      "showline": true,
                      "ticks": "outside",
                      "title": {
                        "standoff": 15
                      },
                      "zeroline": false,
                      "zerolinecolor": "rgb(36,36,36)"
                    },
                    "yaxis": {
                      "automargin": true,
                      "gridcolor": "rgb(232,232,232)",
                      "linecolor": "rgb(36,36,36)",
                      "showgrid": false,
                      "showline": true,
                      "ticks": "outside",
                      "title": {
                        "standoff": 15
                      },
                      "zeroline": false,
                      "zerolinecolor": "rgb(36,36,36)"
                    }
                  }
                },
                "title": {
                  "font": {
                    "color": "Black",
                    "size": 22
                  },
                  "text": "<b>Topics over Time</b>",
                  "x": 0.4,
                  "xanchor": "center",
                  "y": 0.95,
                  "yanchor": "top"
                },
                "width": 1250,
                "xaxis": {
                  "showgrid": true
                },
                "yaxis": {
                  "showgrid": true,
                  "title": {
                    "text": "Frequency"
                  }
                }
              }
            }
          },
          "metadata": {},
          "output_type": "display_data"
        }
      ],
      "source": [
        "topic_model.visualize_topics_over_time(topics_over_time, topics=[0, 1, 2, 3, 4, 5])"
      ]
    },
    {
      "cell_type": "code",
      "execution_count": 9,
      "metadata": {
        "id": "fTfuCvyTWXcX"
      },
      "outputs": [],
      "source": [
        "topics_over_time[\"Year\"] = topics_over_time[\"Timestamp\"].astype(str).str[:4].astype(int)"
      ]
    },
    {
      "cell_type": "code",
      "execution_count": 10,
      "metadata": {
        "id": "rgRw8vkOblh7"
      },
      "outputs": [],
      "source": [
        "selected_topics = topics_over_time[topics_over_time['Topic'] > -1]"
      ]
    },
    {
      "cell_type": "code",
      "execution_count": 11,
      "metadata": {
        "id": "2iZX1SgfTXTs"
      },
      "outputs": [],
      "source": [
        "topic_counts = selected_topics.groupby(\"Name\")[\"Frequency\"].sum()\n",
        "\n",
        "# Выбор топ-20 тем\n",
        "top_20_topics = topic_counts.nlargest(20).index\n",
        "\n",
        "grouped_lenta = selected_topics.groupby([\"Year\", \"Name\"])[\"Frequency\"].sum().unstack(fill_value=0)"
      ]
    },
    {
      "cell_type": "code",
      "execution_count": 12,
      "metadata": {
        "colab": {
          "base_uri": "https://localhost:8080/",
          "height": 501
        },
        "id": "fk1LxiPdThvH",
        "outputId": "ae2aeceb-7e93-432a-99d0-57b0719e3c1d"
      },
      "outputs": [
        {
          "data": {
            "image/png": "[encoded data removed]",
            "text/plain": [
              "<Figure size 640x480 with 1 Axes>"
            ]
          },
          "metadata": {},
          "output_type": "display_data"
        }
      ],
      "source": [
        "# Фильтрация данных по топ-20 темам\n",
        "filtered_data = grouped_lenta[top_20_topics]\n",
        "\n",
        "import numpy as np\n",
        "colors = plt.cm.tab20(np.linspace(0, 1, len(filtered_data.columns)))\n",
        "# Построение графика\n",
        "filtered_data.plot(kind=\"bar\", stacked=True, width=0.9, align='center', color=colors)\n",
        "plt.xlabel(\"Year\")\n",
        "plt.ylabel(\"Frequency\")\n",
        "plt.title(\"Topics Over Time\")\n",
        "plt.legend(title=\"Topics\", loc=\"upper right\", bbox_to_anchor=(1.72, 1.1))\n",
        "plt.savefig(\"Lenta_BERTopic-DTM.png\", format='png', dpi=1000,\n",
        "                    bbox_inches='tight', pad_inches=0)\n",
        "#plt.show()"
      ]
    }
  ],
  "metadata": {
    "colab": {
      "provenance": []
    },
    "kernelspec": {
      "display_name": "Python 3",
      "name": "python3"
    },
    "language_info": {
      "codemirror_mode": {
        "name": "ipython",
        "version": 3
      },
      "file_extension": ".py",
      "mimetype": "text/x-python",
      "name": "python",
      "nbconvert_exporter": "python",
      "pygments_lexer": "ipython3",
      "version": "3.12.2"
    },
    "widgets": {
      "application/vnd.jupyter.widget-state+json": {
        "2515a9f0c8e3458cbfb2322c267eae61": {
          "model_module": "@jupyter-widgets/base",
          "model_module_version": "1.2.0",
          "model_name": "LayoutModel",
          "state": {
            "_model_module": "@jupyter-widgets/base",
            "_model_module_version": "1.2.0",
            "_model_name": "LayoutModel",
            "_view_count": null,
            "_view_module": "@jupyter-widgets/base",
            "_view_module_version": "1.2.0",
            "_view_name": "LayoutView",
            "align_content": null,
            "align_items": null,
            "align_self": null,
            "border": null,
            "bottom": null,
            "display": null,
            "flex": null,
            "flex_flow": null,
            "grid_area": null,
            "grid_auto_columns": null,
            "grid_auto_flow": null,
            "grid_auto_rows": null,
            "grid_column": null,
            "grid_gap": null,
            "grid_row": null,
            "grid_template_areas": null,
            "grid_template_columns": null,
            "grid_template_rows": null,
            "height": null,
            "justify_content": null,
            "justify_items": null,
            "left": null,
            "margin": null,
            "max_height": null,
            "max_width": null,
            "min_height": null,
            "min_width": null,
            "object_fit": null,
            "object_position": null,
            "order": null,
            "overflow": null,
            "overflow_x": null,
            "overflow_y": null,
            "padding": null,
            "right": null,
            "top": null,
            "visibility": null,
            "width": null
          }
        },
        "328ba53681724f8ab011fcd1f87a3e48": {
          "model_module": "@jupyter-widgets/base",
          "model_module_version": "1.2.0",
          "model_name": "LayoutModel",
          "state": {
            "_model_module": "@jupyter-widgets/base",
            "_model_module_version": "1.2.0",
            "_model_name": "LayoutModel",
            "_view_count": null,
            "_view_module": "@jupyter-widgets/base",
            "_view_module_version": "1.2.0",
            "_view_name": "LayoutView",
            "align_content": null,
            "align_items": null,
            "align_self": null,
            "border": null,
            "bottom": null,
            "display": null,
            "flex": null,
            "flex_flow": null,
            "grid_area": null,
            "grid_auto_columns": null,
            "grid_auto_flow": null,
            "grid_auto_rows": null,
            "grid_column": null,
            "grid_gap": null,
            "grid_row": null,
            "grid_template_areas": null,
            "grid_template_columns": null,
            "grid_template_rows": null,
            "height": null,
            "justify_content": null,
            "justify_items": null,
            "left": null,
            "margin": null,
            "max_height": null,
            "max_width": null,
            "min_height": null,
            "min_width": null,
            "object_fit": null,
            "object_position": null,
            "order": null,
            "overflow": null,
            "overflow_x": null,
            "overflow_y": null,
            "padding": null,
            "right": null,
            "top": null,
            "visibility": null,
            "width": null
          }
        },
        "4c82e45851b14376bc4b89fc5cd75780": {
          "model_module": "@jupyter-widgets/controls",
          "model_module_version": "1.5.0",
          "model_name": "FloatProgressModel",
          "state": {
            "_dom_classes": [],
            "_model_module": "@jupyter-widgets/controls",
            "_model_module_version": "1.5.0",
            "_model_name": "FloatProgressModel",
            "_view_count": null,
            "_view_module": "@jupyter-widgets/controls",
            "_view_module_version": "1.5.0",
            "_view_name": "ProgressView",
            "bar_style": "success",
            "description": "",
            "description_tooltip": null,
            "layout": "IPY_MODEL_2515a9f0c8e3458cbfb2322c267eae61",
            "max": 1237,
            "min": 0,
            "orientation": "horizontal",
            "style": "IPY_MODEL_ba5bccb7d1814fbb80bac80a144d84bd",
            "value": 1237
          }
        },
        "99bd6df989d84a0ebf517daf1460ae57": {
          "model_module": "@jupyter-widgets/controls",
          "model_module_version": "1.5.0",
          "model_name": "DescriptionStyleModel",
          "state": {
            "_model_module": "@jupyter-widgets/controls",
            "_model_module_version": "1.5.0",
            "_model_name": "DescriptionStyleModel",
            "_view_count": null,
            "_view_module": "@jupyter-widgets/base",
            "_view_module_version": "1.2.0",
            "_view_name": "StyleView",
            "description_width": ""
          }
        },
        "b5b3bd2f341941d88d9a3de80b75603f": {
          "model_module": "@jupyter-widgets/controls",
          "model_module_version": "1.5.0",
          "model_name": "DescriptionStyleModel",
          "state": {
            "_model_module": "@jupyter-widgets/controls",
            "_model_module_version": "1.5.0",
            "_model_name": "DescriptionStyleModel",
            "_view_count": null,
            "_view_module": "@jupyter-widgets/base",
            "_view_module_version": "1.2.0",
            "_view_name": "StyleView",
            "description_width": ""
          }
        },
        "ba5bccb7d1814fbb80bac80a144d84bd": {
          "model_module": "@jupyter-widgets/controls",
          "model_module_version": "1.5.0",
          "model_name": "ProgressStyleModel",
          "state": {
            "_model_module": "@jupyter-widgets/controls",
            "_model_module_version": "1.5.0",
            "_model_name": "ProgressStyleModel",
            "_view_count": null,
            "_view_module": "@jupyter-widgets/base",
            "_view_module_version": "1.2.0",
            "_view_name": "StyleView",
            "bar_color": null,
            "description_width": ""
          }
        },
        "bd4ee788a9894f429094ae8810ca1a8e": {
          "model_module": "@jupyter-widgets/controls",
          "model_module_version": "1.5.0",
          "model_name": "HTMLModel",
          "state": {
            "_dom_classes": [],
            "_model_module": "@jupyter-widgets/controls",
            "_model_module_version": "1.5.0",
            "_model_name": "HTMLModel",
            "_view_count": null,
            "_view_module": "@jupyter-widgets/controls",
            "_view_module_version": "1.5.0",
            "_view_name": "HTMLView",
            "description": "",
            "description_tooltip": null,
            "layout": "IPY_MODEL_328ba53681724f8ab011fcd1f87a3e48",
            "placeholder": "​",
            "style": "IPY_MODEL_b5b3bd2f341941d88d9a3de80b75603f",
            "value": "Batches: 100%"
          }
        },
        "d51e5ea0c9174869bf7408bb3f0ed9ff": {
          "model_module": "@jupyter-widgets/controls",
          "model_module_version": "1.5.0",
          "model_name": "HTMLModel",
          "state": {
            "_dom_classes": [],
            "_model_module": "@jupyter-widgets/controls",
            "_model_module_version": "1.5.0",
            "_model_name": "HTMLModel",
            "_view_count": null,
            "_view_module": "@jupyter-widgets/controls",
            "_view_module_version": "1.5.0",
            "_view_name": "HTMLView",
            "description": "",
            "description_tooltip": null,
            "layout": "IPY_MODEL_e98649187656435bb36fc2a81f24ba7d",
            "placeholder": "​",
            "style": "IPY_MODEL_99bd6df989d84a0ebf517daf1460ae57",
            "value": " 1237/1237 [1:25:41&lt;00:00,  2.16s/it]"
          }
        },
        "e8a72f09bab54e08b7f84ee5fe21c725": {
          "model_module": "@jupyter-widgets/base",
          "model_module_version": "1.2.0",
          "model_name": "LayoutModel",
          "state": {
            "_model_module": "@jupyter-widgets/base",
            "_model_module_version": "1.2.0",
            "_model_name": "LayoutModel",
            "_view_count": null,
            "_view_module": "@jupyter-widgets/base",
            "_view_module_version": "1.2.0",
            "_view_name": "LayoutView",
            "align_content": null,
            "align_items": null,
            "align_self": null,
            "border": null,
            "bottom": null,
            "display": null,
            "flex": null,
            "flex_flow": null,
            "grid_area": null,
            "grid_auto_columns": null,
            "grid_auto_flow": null,
            "grid_auto_rows": null,
            "grid_column": null,
            "grid_gap": null,
            "grid_row": null,
            "grid_template_areas": null,
            "grid_template_columns": null,
            "grid_template_rows": null,
            "height": null,
            "justify_content": null,
            "justify_items": null,
            "left": null,
            "margin": null,
            "max_height": null,
            "max_width": null,
            "min_height": null,
            "min_width": null,
            "object_fit": null,
            "object_position": null,
            "order": null,
            "overflow": null,
            "overflow_x": null,
            "overflow_y": null,
            "padding": null,
            "right": null,
            "top": null,
            "visibility": null,
            "width": null
          }
        },
        "e98649187656435bb36fc2a81f24ba7d": {
          "model_module": "@jupyter-widgets/base",
          "model_module_version": "1.2.0",
          "model_name": "LayoutModel",
          "state": {
            "_model_module": "@jupyter-widgets/base",
            "_model_module_version": "1.2.0",
            "_model_name": "LayoutModel",
            "_view_count": null,
            "_view_module": "@jupyter-widgets/base",
            "_view_module_version": "1.2.0",
            "_view_name": "LayoutView",
            "align_content": null,
            "align_items": null,
            "align_self": null,
            "border": null,
            "bottom": null,
            "display": null,
            "flex": null,
            "flex_flow": null,
            "grid_area": null,
            "grid_auto_columns": null,
            "grid_auto_flow": null,
            "grid_auto_rows": null,
            "grid_column": null,
            "grid_gap": null,
            "grid_row": null,
            "grid_template_areas": null,
            "grid_template_columns": null,
            "grid_template_rows": null,
            "height": null,
            "justify_content": null,
            "justify_items": null,
            "left": null,
            "margin": null,
            "max_height": null,
            "max_width": null,
            "min_height": null,
            "min_width": null,
            "object_fit": null,
            "object_position": null,
            "order": null,
            "overflow": null,
            "overflow_x": null,
            "overflow_y": null,
            "padding": null,
            "right": null,
            "top": null,
            "visibility": null,
            "width": null
          }
        },
        "faae0e75759e4af1bc13bad649593ead": {
          "model_module": "@jupyter-widgets/controls",
          "model_module_version": "1.5.0",
          "model_name": "HBoxModel",
          "state": {
            "_dom_classes": [],
            "_model_module": "@jupyter-widgets/controls",
            "_model_module_version": "1.5.0",
            "_model_name": "HBoxModel",
            "_view_count": null,
            "_view_module": "@jupyter-widgets/controls",
            "_view_module_version": "1.5.0",
            "_view_name": "HBoxView",
            "box_style": "",
            "children": [
              "IPY_MODEL_bd4ee788a9894f429094ae8810ca1a8e",
              "IPY_MODEL_4c82e45851b14376bc4b89fc5cd75780",
              "IPY_MODEL_d51e5ea0c9174869bf7408bb3f0ed9ff"
            ],
            "layout": "IPY_MODEL_e8a72f09bab54e08b7f84ee5fe21c725"
          }
        }
      }
    }
  },
  "nbformat": 4,
  "nbformat_minor": 0
}
