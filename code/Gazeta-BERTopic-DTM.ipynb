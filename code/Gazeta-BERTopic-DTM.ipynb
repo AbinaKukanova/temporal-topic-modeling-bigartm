{
 "cells": [
  {
   "cell_type": "code",
   "execution_count": 1,
   "metadata": {},
   "outputs": [],
   "source": [
    "%matplotlib inline\n",
    "import matplotlib.pyplot as plt\n",
    "import matplotlib"
   ]
  },
  {
   "cell_type": "code",
   "execution_count": 3,
   "metadata": {},
   "outputs": [
    {
     "data": {
      "image/png": "[encoded data removed]",
      "text/plain": [
       "<Figure size 640x480 with 1 Axes>"
      ]
     },
     "metadata": {},
     "output_type": "display_data"
    }
   ],
   "source": [
    "plt.rcParams[\"font.family\"] = \"serif\"\n",
    "plt.rcParams[\"font.serif\"] = [\"Times New Roman\"]\n",
    "\n",
    "x = [1, 4, 10]\n",
    "y = [5, 9, 27]\n",
    "\n",
    "#create line plot\n",
    "plt.plot (x, y)\n",
    "\n",
    "#add title and axis labels\n",
    "plt.title('Title of Plot')\n",
    "plt.xlabel('X Label')\n",
    "plt.ylabel('Y Label')\n",
    "\n",
    "#display plot\n",
    "plt.show() "
   ]
  },
  {
   "cell_type": "code",
   "execution_count": 6,
   "metadata": {},
   "outputs": [],
   "source": [
    "import pandas as pd\n",
    "\n",
    "gazeta = pd.read_csv('preprocessed-gazeta.csv')"
   ]
  },
  {
   "cell_type": "code",
   "execution_count": 9,
   "metadata": {},
   "outputs": [],
   "source": [
    "gazeta_timestamps = gazeta.publication_date.to_list()\n",
    "gazeta['result_clean_text'] = gazeta['result_clean_text'].astype(str)\n",
    "gazeta_posts = gazeta.result_clean_text.to_list()"
   ]
  },
  {
   "cell_type": "code",
   "execution_count": 10,
   "metadata": {},
   "outputs": [
    {
     "name": "stderr",
     "output_type": "stream",
     "text": [
      "c:\\Users\\Abina Kukanova\\AppData\\Local\\Programs\\Python\\Python312\\Lib\\site-packages\\tqdm\\auto.py:21: TqdmWarning: IProgress not found. Please update jupyter and ipywidgets. See https://ipywidgets.readthedocs.io/en/stable/user_install.html\n",
      "  from .autonotebook import tqdm as notebook_tqdm\n",
      "2024-05-20 06:50:52,299 - BERTopic - Embedding - Transforming documents to embeddings.\n",
      "Batches: 100%|██████████| 2317/2317 [39:59<00:00,  1.04s/it]\n",
      "2024-05-20 07:31:02,870 - BERTopic - Embedding - Completed ✓\n",
      "2024-05-20 07:31:02,871 - BERTopic - Dimensionality - Fitting the dimensionality reduction algorithm\n",
      "2024-05-20 07:31:47,423 - BERTopic - Dimensionality - Completed ✓\n",
      "2024-05-20 07:31:47,427 - BERTopic - Cluster - Start clustering the reduced embeddings\n",
      "2024-05-20 07:31:51,208 - BERTopic - Cluster - Completed ✓\n",
      "2024-05-20 07:31:51,227 - BERTopic - Representation - Extracting topics from clusters using representation models.\n",
      "2024-05-20 07:32:06,087 - BERTopic - Representation - Completed ✓\n"
     ]
    }
   ],
   "source": [
    "from bertopic import BERTopic\n",
    "\n",
    "topic_model = BERTopic(language=\"russian\", verbose=True)\n",
    "topics, probs = topic_model.fit_transform(gazeta_posts)"
   ]
  },
  {
   "cell_type": "code",
   "execution_count": 11,
   "metadata": {},
   "outputs": [
    {
     "name": "stderr",
     "output_type": "stream",
     "text": [
      "2024-05-20 07:36:23,091 - BERTopic - WARNING: When you use `pickle` to save/load a BERTopic model,please make sure that the environments in which you saveand load the model are **exactly** the same. The version of BERTopic,its dependencies, and python need to remain the same.\n",
      "c:\\Users\\Abina Kukanova\\AppData\\Local\\Programs\\Python\\Python312\\Lib\\site-packages\\scipy\\sparse\\_index.py:145: SparseEfficiencyWarning: Changing the sparsity structure of a csr_matrix is expensive. lil_matrix is more efficient.\n",
      "  self._set_arrayXarray(i, j, x)\n"
     ]
    }
   ],
   "source": [
    "topic_model.save(\"gazeta_model\")"
   ]
  },
  {
   "cell_type": "code",
   "execution_count": 13,
   "metadata": {},
   "outputs": [
    {
     "name": "stderr",
     "output_type": "stream",
     "text": [
      "20it [01:15,  3.77s/it]\n"
     ]
    }
   ],
   "source": [
    "topics_over_time = topic_model.topics_over_time(gazeta_posts, gazeta_timestamps, datetime_format=\"mixed\", nr_bins=20)"
   ]
  },
  {
   "cell_type": "code",
   "execution_count": 14,
   "metadata": {},
   "outputs": [
    {
     "name": "stderr",
     "output_type": "stream",
     "text": [
      "20it [01:16,  3.81s/it]\n"
     ]
    }
   ],
   "source": [
    "topics_over_time = topic_model.topics_over_time(gazeta_posts, gazeta_timestamps,\n",
    "                                                datetime_format=\"mixed\",\n",
    "                                                global_tuning=True, evolution_tuning=True, nr_bins=20)"
   ]
  },
  {
   "cell_type": "code",
   "execution_count": 15,
   "metadata": {},
   "outputs": [
    {
     "data": {
      "application/vnd.plotly.v1+json": {
       "config": {
        "plotlyServerURL": "https://plot.ly"
       },
       "data": [
        {
         "hoverinfo": "text",
         "hovertext": [
          "<b>Topic 0</b><br>Words: гаити, грипп, холера, эпидемия, заболеваемость",
          "<b>Topic 0</b><br>Words: грипп, эпидемия, заболеваемость, свиной, малышев",
          "<b>Topic 0</b><br>Words: дыня, грипп, вирус, вич, минздрав",
          "<b>Topic 0</b><br>Words: грипп, заболеваемость, онищенко, роспотребнадзор, вич",
          "<b>Topic 0</b><br>Words: менингит, петровакса, серозный, бубонный, чума",
          "<b>Topic 0</b><br>Words: эбола, лихорадка, сыворотка, либерия, экспериментальный",
          "<b>Topic 0</b><br>Words: кассандра, гоинс, рэйли, коул, обезьяна",
          "<b>Topic 0</b><br>Words: цмв, вирус, цитомегаловирус, заражение, иммунный",
          "<b>Topic 0</b><br>Words: грипп, вич, вирус, эпидемия, распространение",
          "<b>Topic 0</b><br>Words: корь, вакцинация, прививка, вакцина, грей",
          "<b>Topic 0</b><br>Words: мандарин, корь, заражение, вич, энцефалит",
          "<b>Topic 0</b><br>Words: вич, вирус, сифилис, штамм, коронавирус",
          "<b>Topic 0</b><br>Words: коронавирус, вирус, инфекция, вакцина, распространение",
          "<b>Topic 0</b><br>Words: коронавирус, вакцина, вирус, инфекция, вакцинация",
          "<b>Topic 0</b><br>Words: вакцина, коронавирус, вакцинация, вирус, штамм"
         ],
         "marker": {
          "color": "#E69F00"
         },
         "mode": "lines",
         "name": "0_коронавирус_вакцина_вирус_инфекция",
         "type": "scatter",
         "x": [
          "2010-05-28T07:54:27.722000",
          "2010-12-24T01:03:32.900000",
          "2011-07-17T15:31:16.800000",
          "2012-08-31T20:26:44.600000",
          "2013-03-25T10:54:28.500000",
          "2014-05-10T15:49:56.300000",
          "2014-12-02T06:17:40.200000",
          "2017-03-03T16:08:35.800000",
          "2017-09-25T06:36:19.700000",
          "2018-04-18T21:04:03.600000",
          "2018-11-10T11:31:47.500000",
          "2019-06-04T01:59:31.400000",
          "2019-12-26T16:27:15.300000",
          "2020-07-19T06:54:59.200000",
          "2021-02-09T21:22:43.100000"
         ],
         "y": [
          2,
          4,
          3,
          4,
          4,
          1,
          1,
          1,
          2,
          6,
          7,
          8,
          792,
          455,
          308
         ]
        },
        {
         "hoverinfo": "text",
         "hovertext": [
          "<b>Topic 1</b><br>Words: суд, подсудимый, приговор, адвокат, судья",
          "<b>Topic 1</b><br>Words: подсудимый, суд, приговор, адвокат, тихонов",
          "<b>Topic 1</b><br>Words: суд, подсудимый, приговор, адвокат, судья",
          "<b>Topic 1</b><br>Words: суд, адвокат, подсудимый, приговор, судья",
          "<b>Topic 1</b><br>Words: суд, адвокат, судья, подсудимый, приговор",
          "<b>Topic 1</b><br>Words: суд, судья, адвокат, подсудимый, приговор",
          "<b>Topic 1</b><br>Words: суд, приговор, судья, адвокат, подсудимый",
          "<b>Topic 1</b><br>Words: писториус, суд, судья, приговор, подсудимый",
          "<b>Topic 1</b><br>Words: заря, емельяненко, гордеев, золотой, приговор",
          "<b>Topic 1</b><br>Words: хэлл, максимов, хакер, навальный, взлом",
          "<b>Topic 1</b><br>Words: миронов, армения, адвокат, вреж, армянский",
          "<b>Topic 1</b><br>Words: серебренников, суд, судья, бочаров, шимко",
          "<b>Topic 1</b><br>Words: суд, приговор, судья, подсудимый, адвокат",
          "<b>Topic 1</b><br>Words: суд, приговор, адвокат, судья, рыболовлев",
          "<b>Topic 1</b><br>Words: суд, кокорин, мамаев, адвокат, приговор",
          "<b>Topic 1</b><br>Words: суд, приговор, колония, адвокат, казнь",
          "<b>Topic 1</b><br>Words: суд, казнь, колония, приговор, смертный",
          "<b>Topic 1</b><br>Words: ефремов, суд, приговор, адвокат, смертный",
          "<b>Topic 1</b><br>Words: казнь, смертный, суд, приговор, попков"
         ],
         "marker": {
          "color": "#56B4E9"
         },
         "mode": "lines",
         "name": "1_суд_приговор_адвокат_подсудимый",
         "type": "scatter",
         "x": [
          "2010-05-28T07:54:27.722000",
          "2010-12-24T01:03:32.900000",
          "2011-07-17T15:31:16.800000",
          "2012-02-08T05:59:00.700000",
          "2012-08-31T20:26:44.600000",
          "2013-03-25T10:54:28.500000",
          "2013-10-17T01:22:12.400000",
          "2014-05-10T15:49:56.300000",
          "2014-12-02T06:17:40.200000",
          "2015-06-25T20:45:24.100000",
          "2016-08-10T01:40:51.900000",
          "2017-03-03T16:08:35.800000",
          "2017-09-25T06:36:19.700000",
          "2018-04-18T21:04:03.600000",
          "2018-11-10T11:31:47.500000",
          "2019-06-04T01:59:31.400000",
          "2019-12-26T16:27:15.300000",
          "2020-07-19T06:54:59.200000",
          "2021-02-09T21:22:43.100000"
         ],
         "y": [
          164,
          132,
          124,
          162,
          155,
          127,
          31,
          13,
          3,
          1,
          1,
          15,
          40,
          44,
          83,
          67,
          32,
          31,
          22
         ]
        },
        {
         "hoverinfo": "text",
         "hovertext": [
          "<b>Topic 2</b><br>Words: температура, рт, мм, атмосферный, ветер",
          "<b>Topic 2</b><br>Words: рт, мм, температура, атмосферный, погода",
          "<b>Topic 2</b><br>Words: рт, мм, температура, атмосферный, погода",
          "<b>Topic 2</b><br>Words: рт, атмосферный, мм, температура, ст",
          "<b>Topic 2</b><br>Words: атмосферный, рт, мм, температура, снег",
          "<b>Topic 2</b><br>Words: атмосферный, рт, мм, температура, погода",
          "<b>Topic 2</b><br>Words: атмосферный, рт, мм, температура, погода",
          "<b>Topic 2</b><br>Words: атмосферный, рт, мм, температура, ст",
          "<b>Topic 2</b><br>Words: атмосферный, рт, мм, ветер, температура",
          "<b>Topic 2</b><br>Words: рт, ветер, мм, атмосферный, температура",
          "<b>Topic 2</b><br>Words: рт, ветер, мм, температура, атмосферный",
          "<b>Topic 2</b><br>Words: рт, мм, ветер, атмосферный, температура",
          "<b>Topic 2</b><br>Words: рт, ветер, мм, атмосферный, температура",
          "<b>Topic 2</b><br>Words: температура, рт, ветер, мм, атмосферный",
          "<b>Topic 2</b><br>Words: ветер, температура, рт, атмосферный, мм",
          "<b>Topic 2</b><br>Words: температура, погода, атмосферный, ветер, рт",
          "<b>Topic 2</b><br>Words: температура, погода, атмосферный, ветер, синоптик",
          "<b>Topic 2</b><br>Words: температура, погода, теплый, зима, атмосферный",
          "<b>Topic 2</b><br>Words: температура, погода, атмосферный, рт, теплый",
          "<b>Topic 2</b><br>Words: погода, температура, осадки, ветер, мм"
         ],
         "marker": {
          "color": "#009E73"
         },
         "mode": "lines",
         "name": "2_температура_рт_мм_атмосферный",
         "type": "scatter",
         "x": [
          "2010-05-28T07:54:27.722000",
          "2010-12-24T01:03:32.900000",
          "2011-07-17T15:31:16.800000",
          "2012-02-08T05:59:00.700000",
          "2012-08-31T20:26:44.600000",
          "2013-03-25T10:54:28.500000",
          "2013-10-17T01:22:12.400000",
          "2014-05-10T15:49:56.300000",
          "2014-12-02T06:17:40.200000",
          "2015-06-25T20:45:24.100000",
          "2016-01-17T11:13:08",
          "2016-08-10T01:40:51.900000",
          "2017-03-03T16:08:35.800000",
          "2017-09-25T06:36:19.700000",
          "2018-04-18T21:04:03.600000",
          "2018-11-10T11:31:47.500000",
          "2019-06-04T01:59:31.400000",
          "2019-12-26T16:27:15.300000",
          "2020-07-19T06:54:59.200000",
          "2021-02-09T21:22:43.100000"
         ],
         "y": [
          52,
          37,
          32,
          34,
          45,
          36,
          36,
          26,
          28,
          16,
          29,
          28,
          30,
          54,
          61,
          67,
          84,
          58,
          38,
          30
         ]
        },
        {
         "hoverinfo": "text",
         "hovertext": [
          "<b>Topic 3</b><br>Words: авиакомпания, самолет, аэропорт, рейс, аэрофлот",
          "<b>Topic 3</b><br>Words: аэропорт, рейс, домодедово, авиакомпания, самолет",
          "<b>Topic 3</b><br>Words: авиакомпания, самолет, аэропорт, пилот, як",
          "<b>Topic 3</b><br>Words: самолет, авиакомпания, рейс, аэропорт, аэрофлот",
          "<b>Topic 3</b><br>Words: самолет, авиакомпания, аэропорт, рейс, аэрофлот",
          "<b>Topic 3</b><br>Words: самолет, аэропорт, авиакомпания, рейс, пассажир",
          "<b>Topic 3</b><br>Words: самолет, аэропорт, пассажир, рейс, борт",
          "<b>Topic 3</b><br>Words: самолет, крушение, авиакомпания, рейс, пилот",
          "<b>Topic 3</b><br>Words: аэроэкспресс, авиакомпания, ютэйр, самолет, перевозка",
          "<b>Topic 3</b><br>Words: авиакомпания, рейс, самолет, аэропорт, трансаэро",
          "<b>Topic 3</b><br>Words: авиакомпания, самолет, рейс, пилот, пассажир",
          "<b>Topic 3</b><br>Words: самолет, авиакомпания, крушение, ан, рейс",
          "<b>Topic 3</b><br>Words: самолет, авиакомпания, аэропорт, пассажир, рейс",
          "<b>Topic 3</b><br>Words: самолет, авиакомпания, пилот, лайнер, рейс",
          "<b>Topic 3</b><br>Words: самолет, авиакомпания, аэропорт, пилот, лайнер",
          "<b>Topic 3</b><br>Words: самолет, авиакомпания, аэропорт, рейс, посадка",
          "<b>Topic 3</b><br>Words: самолет, авиакомпания, рейс, аэропорт, полет",
          "<b>Topic 3</b><br>Words: самолет, рейс, авиакомпания, аэропорт, полет"
         ],
         "marker": {
          "color": "#F0E442"
         },
         "mode": "lines",
         "name": "3_самолет_авиакомпания_аэропорт_рейс",
         "type": "scatter",
         "x": [
          "2010-05-28T07:54:27.722000",
          "2010-12-24T01:03:32.900000",
          "2011-07-17T15:31:16.800000",
          "2012-02-08T05:59:00.700000",
          "2012-08-31T20:26:44.600000",
          "2013-03-25T10:54:28.500000",
          "2013-10-17T01:22:12.400000",
          "2014-05-10T15:49:56.300000",
          "2014-12-02T06:17:40.200000",
          "2015-06-25T20:45:24.100000",
          "2017-03-03T16:08:35.800000",
          "2017-09-25T06:36:19.700000",
          "2018-04-18T21:04:03.600000",
          "2018-11-10T11:31:47.500000",
          "2019-06-04T01:59:31.400000",
          "2019-12-26T16:27:15.300000",
          "2020-07-19T06:54:59.200000",
          "2021-02-09T21:22:43.100000"
         ],
         "y": [
          39,
          42,
          36,
          52,
          50,
          36,
          14,
          6,
          3,
          6,
          10,
          52,
          43,
          105,
          84,
          50,
          33,
          38
         ]
        },
        {
         "hoverinfo": "text",
         "hovertext": [
          "<b>Topic 4</b><br>Words: евлоев, убийство, скп, летний, убивать",
          "<b>Topic 4</b><br>Words: сац, слизаев, теслюк, убийство, следователь",
          "<b>Topic 4</b><br>Words: убийство, ск, тело, следственный, летний",
          "<b>Topic 4</b><br>Words: убийство, тело, полиция, мальчик, летний",
          "<b>Topic 4</b><br>Words: викторов, убийство, тело, геккиев, летний",
          "<b>Topic 4</b><br>Words: убийство, адеболаджо, декстер, мальчик, тело",
          "<b>Topic 4</b><br>Words: струганов, вэхи, циммерман, кулбужева, цветомузыка",
          "<b>Topic 4</b><br>Words: рыбакин, гурвиц, гондурас, альварадо, убийство",
          "<b>Topic 4</b><br>Words: лубица, мосгаз, палач, пилот, масло",
          "<b>Topic 4</b><br>Words: сосин, нюхач, артур, сосина, убийство",
          "<b>Topic 4</b><br>Words: изабель, ложь, гур, вудлить, мориарти",
          "<b>Topic 4</b><br>Words: океанариум, егоров, следственный, мужчина, шимко",
          "<b>Topic 4</b><br>Words: убийство, тело, пэддок, обнаруживать, мужчина",
          "<b>Topic 4</b><br>Words: убийство, тело, летний, мальчик, девочка",
          "<b>Topic 4</b><br>Words: убийство, тело, летний, мальчик, мужчина",
          "<b>Topic 4</b><br>Words: убийство, мужчина, летний, тело, мальчик",
          "<b>Topic 4</b><br>Words: убийство, тело, мужчина, летний, мальчик",
          "<b>Topic 4</b><br>Words: убийство, тело, летний, мужчина, девочка",
          "<b>Topic 4</b><br>Words: убийство, тело, мужчина, летний, девочка"
         ],
         "marker": {
          "color": "#D55E00"
         },
         "mode": "lines",
         "name": "4_убийство_тело_летний_мужчина",
         "type": "scatter",
         "x": [
          "2010-05-28T07:54:27.722000",
          "2010-12-24T01:03:32.900000",
          "2011-07-17T15:31:16.800000",
          "2012-02-08T05:59:00.700000",
          "2012-08-31T20:26:44.600000",
          "2013-03-25T10:54:28.500000",
          "2013-10-17T01:22:12.400000",
          "2014-05-10T15:49:56.300000",
          "2014-12-02T06:17:40.200000",
          "2015-06-25T20:45:24.100000",
          "2016-08-10T01:40:51.900000",
          "2017-03-03T16:08:35.800000",
          "2017-09-25T06:36:19.700000",
          "2018-04-18T21:04:03.600000",
          "2018-11-10T11:31:47.500000",
          "2019-06-04T01:59:31.400000",
          "2019-12-26T16:27:15.300000",
          "2020-07-19T06:54:59.200000",
          "2021-02-09T21:22:43.100000"
         ],
         "y": [
          18,
          16,
          24,
          22,
          17,
          13,
          7,
          3,
          3,
          4,
          2,
          7,
          17,
          39,
          58,
          218,
          94,
          72,
          29
         ]
        },
        {
         "hoverinfo": "text",
         "hovertext": [
          "<b>Topic 5</b><br>Words: шайба, хоккеист, хоккей, нхл, хоккейный",
          "<b>Topic 5</b><br>Words: шайба, хоккеист, хоккей, матч, бросок",
          "<b>Topic 5</b><br>Words: шайба, хоккеист, хоккей, матч, бросок",
          "<b>Topic 5</b><br>Words: шайба, хоккей, хоккеист, матч, бросок",
          "<b>Topic 5</b><br>Words: шайба, хоккеист, хоккей, матч, кхл",
          "<b>Topic 5</b><br>Words: хоккеист, шайба, ска, хоккей, матч",
          "<b>Topic 5</b><br>Words: коскинен, худобин, финн, микко, ворота",
          "<b>Topic 5</b><br>Words: салака, финн, ринна, чех, клюшка",
          "<b>Topic 5</b><br>Words: нхл, гала, нефедов, хоккейный, любительский",
          "<b>Topic 5</b><br>Words: кузнецов, шайба, марков, монреаль, реактивщик",
          "<b>Topic 5</b><br>Words: каруан, навар, карякин, ифань, лижэнь",
          "<b>Topic 5</b><br>Words: шайба, бросок, хоккеист, макдэвид, ворота",
          "<b>Topic 5</b><br>Words: хоккеист, шайба, нхл, хоккей, андерсон",
          "<b>Topic 5</b><br>Words: шайба, хоккей, хоккеист, хоккейный, сборная",
          "<b>Topic 5</b><br>Words: шайба, хоккей, хоккеист, сборная, нхл",
          "<b>Topic 5</b><br>Words: шайба, хоккеист, хоккей, нхл, сборная",
          "<b>Topic 5</b><br>Words: нхл, хоккеист, хоккейный, гальярди, стэнли",
          "<b>Topic 5</b><br>Words: овечкин, хоккейный, шайба, хоккеист, хоккей"
         ],
         "marker": {
          "color": "#0072B2"
         },
         "mode": "lines",
         "name": "5_шайба_хоккеист_хоккей_матч",
         "type": "scatter",
         "x": [
          "2010-05-28T07:54:27.722000",
          "2010-12-24T01:03:32.900000",
          "2011-07-17T15:31:16.800000",
          "2012-02-08T05:59:00.700000",
          "2012-08-31T20:26:44.600000",
          "2013-03-25T10:54:28.500000",
          "2013-10-17T01:22:12.400000",
          "2014-05-10T15:49:56.300000",
          "2014-12-02T06:17:40.200000",
          "2015-06-25T20:45:24.100000",
          "2016-01-17T11:13:08",
          "2016-08-10T01:40:51.900000",
          "2017-03-03T16:08:35.800000",
          "2017-09-25T06:36:19.700000",
          "2018-04-18T21:04:03.600000",
          "2018-11-10T11:31:47.500000",
          "2019-06-04T01:59:31.400000",
          "2019-12-26T16:27:15.300000"
         ],
         "y": [
          86,
          109,
          86,
          73,
          105,
          16,
          1,
          1,
          1,
          1,
          1,
          4,
          4,
          38,
          31,
          63,
          15,
          9
         ]
        },
        {
         "hoverinfo": "text",
         "hovertext": [
          "<b>Topic 6</b><br>Words: сет, гейм, турнир, брейк, подача",
          "<b>Topic 6</b><br>Words: сет, гейм, турнир, брейк, теннисистка",
          "<b>Topic 6</b><br>Words: сет, гейм, турнир, брейк, теннисистка",
          "<b>Topic 6</b><br>Words: сет, гейм, турнир, россиянка, брейк",
          "<b>Topic 6</b><br>Words: гейм, сет, турнир, брейк, россиянка",
          "<b>Topic 6</b><br>Words: гейм, сет, подача, брейк, россиянка",
          "<b>Topic 6</b><br>Words: соперница, корт, сет, жарко, жара",
          "<b>Topic 6</b><br>Words: пиронков, шарапов, болгарка, подача, гейм",
          "<b>Topic 6</b><br>Words: шарапова, шарапов, контракт, теннисистка, спортсменка",
          "<b>Topic 6</b><br>Words: финал, шлем, димитров, турнир, надаль",
          "<b>Topic 6</b><br>Words: турнир, шарапов, теннисистка, шарапова, ракетка",
          "<b>Topic 6</b><br>Words: теннисистка, шарапов, турнир, шарапова, мария",
          "<b>Topic 6</b><br>Words: теннисистка, теннис, гейм, шарапов, серена",
          "<b>Topic 6</b><br>Words: шарапов, теннисистка, турнир, россиянка, шарапова",
          "<b>Topic 6</b><br>Words: турнир, теннисистка, теннис, сет, теннисист",
          "<b>Topic 6</b><br>Words: турнир, шарапова, теннис, шлем, шарапов"
         ],
         "marker": {
          "color": "#CC79A7"
         },
         "mode": "lines",
         "name": "6_сет_гейм_турнир_теннисистка",
         "type": "scatter",
         "x": [
          "2010-05-28T07:54:27.722000",
          "2010-12-24T01:03:32.900000",
          "2011-07-17T15:31:16.800000",
          "2012-02-08T05:59:00.700000",
          "2012-08-31T20:26:44.600000",
          "2013-03-25T10:54:28.500000",
          "2013-10-17T01:22:12.400000",
          "2014-05-10T15:49:56.300000",
          "2016-01-17T11:13:08",
          "2016-08-10T01:40:51.900000",
          "2017-03-03T16:08:35.800000",
          "2017-09-25T06:36:19.700000",
          "2018-04-18T21:04:03.600000",
          "2018-11-10T11:31:47.500000",
          "2019-06-04T01:59:31.400000",
          "2019-12-26T16:27:15.300000"
         ],
         "y": [
          122,
          107,
          90,
          102,
          69,
          11,
          1,
          1,
          1,
          1,
          7,
          28,
          31,
          11,
          13,
          1
         ]
        },
        {
         "hoverinfo": "text",
         "hovertext": [
          "<b>Topic 7</b><br>Words: шаброль, холбрук, эдвардс, черномырдин, нильсен",
          "<b>Topic 7</b><br>Words: боннэр, сай, баба, сахаров, мур",
          "<b>Topic 7</b><br>Words: уайнхаус, алексеев, аллилуев, альберт, гамильтон",
          "<b>Topic 7</b><br>Words: салье, глазычев, хьюстон, певица, гуэрра",
          "<b>Topic 7</b><br>Words: стругацкий, шмидт, абрамкин, армстронг, кадыров",
          "<b>Topic 7</b><br>Words: царнаев, фвмк, тэтчер, халимов, кладбище",
          "<b>Topic 7</b><br>Words: самойлов, борисков, шишкин, журавль, каренина",
          "<b>Topic 7</b><br>Words: жозефина, бэлза, девотченко, берноспас, театр",
          "<b>Topic 7</b><br>Words: король, ванрита, салман, мукрин, абдалла",
          "<b>Topic 7</b><br>Words: боуи, анатольевич, хреков, пичул, пантюшкин",
          "<b>Topic 7</b><br>Words: чимино, жарков, сатонин, маршунок, рублевка",
          "<b>Topic 7</b><br>Words: херт, коэн, леонард, мэриэнн, идр",
          "<b>Topic 7</b><br>Words: глазунов, баталов, выборнов, смерть, театр",
          "<b>Topic 7</b><br>Words: театр, броневой, задорнов, артист, актер",
          "<b>Topic 7</b><br>Words: театр, актер, артист, соболезнование, смерть",
          "<b>Topic 7</b><br>Words: началова, смерть, артист, певица, началов",
          "<b>Topic 7</b><br>Words: театр, артист, смерть, актер, артистка",
          "<b>Topic 7</b><br>Words: артист, театр, смерть, актер, скончаться",
          "<b>Topic 7</b><br>Words: театр, актер, артист, смерть, роль",
          "<b>Topic 7</b><br>Words: мягков, кориа, артист, лядова, градов"
         ],
         "marker": {
          "color": "#E69F00"
         },
         "mode": "lines",
         "name": "7_театр_артист_смерть_актер",
         "type": "scatter",
         "x": [
          "2010-05-28T07:54:27.722000",
          "2010-12-24T01:03:32.900000",
          "2011-07-17T15:31:16.800000",
          "2012-02-08T05:59:00.700000",
          "2012-08-31T20:26:44.600000",
          "2013-03-25T10:54:28.500000",
          "2013-10-17T01:22:12.400000",
          "2014-05-10T15:49:56.300000",
          "2014-12-02T06:17:40.200000",
          "2015-06-25T20:45:24.100000",
          "2016-01-17T11:13:08",
          "2016-08-10T01:40:51.900000",
          "2017-03-03T16:08:35.800000",
          "2017-09-25T06:36:19.700000",
          "2018-04-18T21:04:03.600000",
          "2018-11-10T11:31:47.500000",
          "2019-06-04T01:59:31.400000",
          "2019-12-26T16:27:15.300000",
          "2020-07-19T06:54:59.200000",
          "2021-02-09T21:22:43.100000"
         ],
         "y": [
          7,
          6,
          13,
          7,
          7,
          7,
          2,
          5,
          3,
          6,
          5,
          2,
          17,
          64,
          111,
          130,
          64,
          42,
          52,
          13
         ]
        },
        {
         "hoverinfo": "text",
         "hovertext": [
          "<b>Topic 8</b><br>Words: выставка, искусство, художник, музей, экспозиция",
          "<b>Topic 8</b><br>Words: выставка, музей, художник, искусство, галерея",
          "<b>Topic 8</b><br>Words: выставка, художник, искусство, музей, арт",
          "<b>Topic 8</b><br>Words: выставка, музей, художник, искусство, экспозиция",
          "<b>Topic 8</b><br>Words: выставка, художник, искусство, музей, экспозиция",
          "<b>Topic 8</b><br>Words: музей, выставка, художник, искусство, галерея",
          "<b>Topic 8</b><br>Words: выставка, художник, музей, искусство, арт",
          "<b>Topic 8</b><br>Words: музей, выставка, художник, искусство, арт",
          "<b>Topic 8</b><br>Words: выставка, музей, брейгель, художник, искусство",
          "<b>Topic 8</b><br>Words: бэкон, фунт, стерлинг, биеннале, выставка",
          "<b>Topic 8</b><br>Words: выставка, атс, кандинский, здание, музей",
          "<b>Topic 8</b><br>Words: музей, художник, искусство, выставка, граффити",
          "<b>Topic 8</b><br>Words: музей, политех, выставка, шахновская, художник",
          "<b>Topic 8</b><br>Words: художник, музей, выставка, портрет, искусство",
          "<b>Topic 8</b><br>Words: музей, художник, картина, библиотека, искусство",
          "<b>Topic 8</b><br>Words: музей, художник, картина, выставка, щусев",
          "<b>Topic 8</b><br>Words: музей, шухевич, художник, выставка, искусство",
          "<b>Topic 8</b><br>Words: улай, бродский, музей, перформанс, художник",
          "<b>Topic 8</b><br>Words: фигурка, рисунок, микробиом, ожирение, винчи",
          "<b>Topic 8</b><br>Words: искусство, арт, музей, гильгамеш, художник"
         ],
         "marker": {
          "color": "#56B4E9"
         },
         "mode": "lines",
         "name": "8_выставка_музей_художник_искусство",
         "type": "scatter",
         "x": [
          "2010-05-28T07:54:27.722000",
          "2010-12-24T01:03:32.900000",
          "2011-07-17T15:31:16.800000",
          "2012-02-08T05:59:00.700000",
          "2012-08-31T20:26:44.600000",
          "2013-03-25T10:54:28.500000",
          "2013-10-17T01:22:12.400000",
          "2014-05-10T15:49:56.300000",
          "2014-12-02T06:17:40.200000",
          "2015-06-25T20:45:24.100000",
          "2016-01-17T11:13:08",
          "2016-08-10T01:40:51.900000",
          "2017-03-03T16:08:35.800000",
          "2017-09-25T06:36:19.700000",
          "2018-04-18T21:04:03.600000",
          "2018-11-10T11:31:47.500000",
          "2019-06-04T01:59:31.400000",
          "2019-12-26T16:27:15.300000",
          "2020-07-19T06:54:59.200000",
          "2021-02-09T21:22:43.100000"
         ],
         "y": [
          50,
          57,
          62,
          63,
          59,
          71,
          52,
          23,
          14,
          3,
          3,
          12,
          9,
          16,
          11,
          11,
          12,
          4,
          3,
          6
         ]
        },
        {
         "hoverinfo": "text",
         "hovertext": [
          "<b>Topic 9</b><br>Words: водитель, дтп, авария, автобус, гибдд",
          "<b>Topic 9</b><br>Words: водитель, дтп, авария, автомобиль, гибдд",
          "<b>Topic 9</b><br>Words: водитель, авария, дтп, автобус, автомобиль",
          "<b>Topic 9</b><br>Words: водитель, дтп, авария, автобус, автомобиль",
          "<b>Topic 9</b><br>Words: водитель, авария, дтп, автобус, автомобиль",
          "<b>Topic 9</b><br>Words: водитель, авария, дтп, автобус, автомобиль",
          "<b>Topic 9</b><br>Words: водитель, авария, махачев, дтп, полоса",
          "<b>Topic 9</b><br>Words: дтп, катанян, водитель, авария, очевидец",
          "<b>Topic 9</b><br>Words: блокпост, докучаевск, автобус, днр, пургин",
          "<b>Topic 9</b><br>Words: авария, водитель, дтп, автобус, дыминский",
          "<b>Topic 9</b><br>Words: водитель, автобус, авария, дтп, автомобиль",
          "<b>Topic 9</b><br>Words: водитель, дтп, авария, автобус, автомобиль",
          "<b>Topic 9</b><br>Words: дтп, автобус, водитель, авария, полоса",
          "<b>Topic 9</b><br>Words: дтп, автобус, водитель, авария, автомобиль",
          "<b>Topic 9</b><br>Words: дтп, автобус, водитель, авария, автомобиль",
          "<b>Topic 9</b><br>Words: водитель, дтп, авария, автобус, погибать",
          "<b>Topic 9</b><br>Words: автобус, водитель, дтп, авария, бейм"
         ],
         "marker": {
          "color": "#009E73"
         },
         "mode": "lines",
         "name": "9_водитель_дтп_авария_автобус",
         "type": "scatter",
         "x": [
          "2010-05-28T07:54:27.722000",
          "2010-12-24T01:03:32.900000",
          "2011-07-17T15:31:16.800000",
          "2012-02-08T05:59:00.700000",
          "2012-08-31T20:26:44.600000",
          "2013-03-25T10:54:28.500000",
          "2013-10-17T01:22:12.400000",
          "2014-05-10T15:49:56.300000",
          "2014-12-02T06:17:40.200000",
          "2017-03-03T16:08:35.800000",
          "2017-09-25T06:36:19.700000",
          "2018-04-18T21:04:03.600000",
          "2018-11-10T11:31:47.500000",
          "2019-06-04T01:59:31.400000",
          "2019-12-26T16:27:15.300000",
          "2020-07-19T06:54:59.200000",
          "2021-02-09T21:22:43.100000"
         ],
         "y": [
          50,
          46,
          44,
          59,
          45,
          47,
          5,
          5,
          1,
          16,
          56,
          67,
          32,
          32,
          10,
          13,
          12
         ]
        },
        {
         "hoverinfo": "text",
         "hovertext": [
          "<b>Topic 10</b><br>Words: транспорт, транспортный, водитель, дорожный, движение",
          "<b>Topic 10</b><br>Words: транспортный, транспорт, водитель, техосмотр, дорожный",
          "<b>Topic 10</b><br>Words: транспорт, техосмотр, транспортный, парковка, водитель",
          "<b>Topic 10</b><br>Words: водитель, всм, дорожный, транспорт, транспортный",
          "<b>Topic 10</b><br>Words: водитель, транспорт, транспортный, дорожный, парковка",
          "<b>Topic 10</b><br>Words: км, транспорт, водитель, штраф, дорожный",
          "<b>Topic 10</b><br>Words: напольный, транспорт, метро, навигация, транспортный",
          "<b>Topic 10</b><br>Words: платный, парковка, транспорт, вагон, автомобиль",
          "<b>Topic 10</b><br>Words: грн, выплата, руб, осаго, луганск",
          "<b>Topic 10</b><br>Words: табличка, стоянка, знак, транспорт, парковочный",
          "<b>Topic 10</b><br>Words: эскалатор, слева, холборн, пассажир, неподвижно",
          "<b>Topic 10</b><br>Words: дорожный, знак, водитель, транспортный, движение",
          "<b>Topic 10</b><br>Words: водитель, транспортный, дорожный, водительский, движение",
          "<b>Topic 10</b><br>Words: транспортный, водитель, гибдд, дорожный, знак",
          "<b>Topic 10</b><br>Words: дорожный, водитель, транспортный, движение, знак",
          "<b>Topic 10</b><br>Words: водитель, дорожный, транспортный, транспорт, штраф",
          "<b>Topic 10</b><br>Words: штраф, транспортный, дорожный, гибдд, транспорт",
          "<b>Topic 10</b><br>Words: транспортный, дорожный, водитель, транспорт, штраф",
          "<b>Topic 10</b><br>Words: водитель, дорожный, экзамен, штраф, скорость"
         ],
         "marker": {
          "color": "#F0E442"
         },
         "mode": "lines",
         "name": "10_водитель_транспортный_дорожный_трансп...",
         "type": "scatter",
         "x": [
          "2010-05-28T07:54:27.722000",
          "2010-12-24T01:03:32.900000",
          "2011-07-17T15:31:16.800000",
          "2012-02-08T05:59:00.700000",
          "2012-08-31T20:26:44.600000",
          "2013-03-25T10:54:28.500000",
          "2013-10-17T01:22:12.400000",
          "2014-05-10T15:49:56.300000",
          "2014-12-02T06:17:40.200000",
          "2015-06-25T20:45:24.100000",
          "2016-08-10T01:40:51.900000",
          "2017-03-03T16:08:35.800000",
          "2017-09-25T06:36:19.700000",
          "2018-04-18T21:04:03.600000",
          "2018-11-10T11:31:47.500000",
          "2019-06-04T01:59:31.400000",
          "2019-12-26T16:27:15.300000",
          "2020-07-19T06:54:59.200000",
          "2021-02-09T21:22:43.100000"
         ],
         "y": [
          75,
          55,
          31,
          41,
          50,
          35,
          12,
          6,
          2,
          4,
          1,
          10,
          22,
          29,
          36,
          32,
          18,
          31,
          26
         ]
        },
        {
         "hoverinfo": "text",
         "hovertext": [
          "<b>Topic 11</b><br>Words: акция, акционер, пакет, компания, уралкалий",
          "<b>Topic 11</b><br>Words: акция, акционер, компания, сделка, инвестор",
          "<b>Topic 11</b><br>Words: акция, акционер, норникель, компания, сделка",
          "<b>Topic 11</b><br>Words: акция, вр, акционер, компания, тнк",
          "<b>Topic 11</b><br>Words: акция, акционер, сделка, компания, вр",
          "<b>Topic 11</b><br>Words: акция, акционер, сделка, компания, актив",
          "<b>Topic 11</b><br>Words: акция, уралкалий, акционер, компания, сделка",
          "<b>Topic 11</b><br>Words: айовина, алекс, роснефть, сделка, неверленд",
          "<b>Topic 11</b><br>Words: алиев, недвижимость, бейкер, элитный, риелтор",
          "<b>Topic 11</b><br>Words: шувалов, котляренко, траст, управляющий, актив",
          "<b>Topic 11</b><br>Words: эльдорадо, росгосстрах, техносила, открытие, масло",
          "<b>Topic 11</b><br>Words: тендер, портфель, долг, банк, открытие",
          "<b>Topic 11</b><br>Words: норникель, платина, акционер, акция, магнит",
          "<b>Topic 11</b><br>Words: абрамович, кронка, потанин, сделка, волошин",
          "<b>Topic 11</b><br>Words: чернухин, сбербанк, акция, акционер, мордашов",
          "<b>Topic 11</b><br>Words: акция, компания, сбербанк, сделка, мангазея",
          "<b>Topic 11</b><br>Words: богатиков, деловой, хабаров, вакансия, акция",
          "<b>Topic 11</b><br>Words: петропавловск, мещеряк, мещеряков, дрейфус, акционер",
          "<b>Topic 11</b><br>Words: краудинвестинг, дервейс, дикси, магнит, завод"
         ],
         "marker": {
          "color": "#D55E00"
         },
         "mode": "lines",
         "name": "11_акция_акционер_компания_сделка",
         "type": "scatter",
         "x": [
          "2010-05-28T07:54:27.722000",
          "2010-12-24T01:03:32.900000",
          "2011-07-17T15:31:16.800000",
          "2012-02-08T05:59:00.700000",
          "2012-08-31T20:26:44.600000",
          "2013-03-25T10:54:28.500000",
          "2013-10-17T01:22:12.400000",
          "2014-05-10T15:49:56.300000",
          "2015-06-25T20:45:24.100000",
          "2016-01-17T11:13:08",
          "2016-08-10T01:40:51.900000",
          "2017-03-03T16:08:35.800000",
          "2017-09-25T06:36:19.700000",
          "2018-04-18T21:04:03.600000",
          "2018-11-10T11:31:47.500000",
          "2019-06-04T01:59:31.400000",
          "2019-12-26T16:27:15.300000",
          "2020-07-19T06:54:59.200000",
          "2021-02-09T21:22:43.100000"
         ],
         "y": [
          54,
          103,
          67,
          62,
          105,
          47,
          20,
          4,
          1,
          1,
          3,
          1,
          6,
          5,
          9,
          9,
          3,
          4,
          3
         ]
        },
        {
         "hoverinfo": "text",
         "hovertext": [
          "<b>Topic 12</b><br>Words: путин, песок, лужков, премьер, президент",
          "<b>Topic 12</b><br>Words: путин, саммит, блаттер, сечин, байден",
          "<b>Topic 12</b><br>Words: путин, встреча, премьер, президент, саммит",
          "<b>Topic 12</b><br>Words: обама, саммит, путин, кэмп, ушаков",
          "<b>Topic 12</b><br>Words: путин, обама, президент, бульдог, меркель",
          "<b>Topic 12</b><br>Words: путин, президент, песок, обама, владимир",
          "<b>Topic 12</b><br>Words: путин, амнистия, эквадор, сингх, индия",
          "<b>Topic 12</b><br>Words: банионис, путин, саммит, мильтинис, сенатор",
          "<b>Topic 12</b><br>Words: войско, путин, коротченко, коллегия, лодка",
          "<b>Topic 12</b><br>Words: батискаф, путин, дукакис, костюм, меркель",
          "<b>Topic 12</b><br>Words: рудень, тверской, путин, губернатор, игорь",
          "<b>Topic 12</b><br>Words: путин, стоун, трамп, клинтон, президент",
          "<b>Topic 12</b><br>Words: путин, трамп, песок, президент, владимир",
          "<b>Topic 12</b><br>Words: путин, трамп, саммит, встреча, президент",
          "<b>Topic 12</b><br>Words: путин, трамп, песок, президент, саммит",
          "<b>Topic 12</b><br>Words: путин, трамп, саммит, президент, песок",
          "<b>Topic 12</b><br>Words: путин, трамп, президент, песок, саммит",
          "<b>Topic 12</b><br>Words: путин, байден, президент, трамп, саммит",
          "<b>Topic 12</b><br>Words: байден, путин, саммит, президент, песок"
         ],
         "marker": {
          "color": "#0072B2"
         },
         "mode": "lines",
         "name": "12_путин_трамп_президент_саммит",
         "type": "scatter",
         "x": [
          "2010-05-28T07:54:27.722000",
          "2010-12-24T01:03:32.900000",
          "2011-07-17T15:31:16.800000",
          "2012-02-08T05:59:00.700000",
          "2012-08-31T20:26:44.600000",
          "2013-03-25T10:54:28.500000",
          "2013-10-17T01:22:12.400000",
          "2014-05-10T15:49:56.300000",
          "2014-12-02T06:17:40.200000",
          "2015-06-25T20:45:24.100000",
          "2016-08-10T01:40:51.900000",
          "2017-03-03T16:08:35.800000",
          "2017-09-25T06:36:19.700000",
          "2018-04-18T21:04:03.600000",
          "2018-11-10T11:31:47.500000",
          "2019-06-04T01:59:31.400000",
          "2019-12-26T16:27:15.300000",
          "2020-07-19T06:54:59.200000",
          "2021-02-09T21:22:43.100000"
         ],
         "y": [
          15,
          10,
          12,
          5,
          6,
          16,
          7,
          3,
          1,
          1,
          1,
          16,
          85,
          78,
          73,
          68,
          46,
          23,
          28
         ]
        },
        {
         "hoverinfo": "text",
         "hovertext": [
          "<b>Topic 13</b><br>Words: смартфон, планшет, устройство, гаджет, телефон",
          "<b>Topic 13</b><br>Words: смартфон, устройство, планшет, гаджет, компьютер",
          "<b>Topic 13</b><br>Words: смартфон, устройство, гаджет, планшет, приложение",
          "<b>Topic 13</b><br>Words: смартфон, устройство, планшет, гаджет, экран",
          "<b>Topic 13</b><br>Words: смартфон, устройство, планшет, экран, гаджет",
          "<b>Topic 13</b><br>Words: смартфон, планшет, устройство, гаджет, экран",
          "<b>Topic 13</b><br>Words: смартфон, гаджет, планшет, устройство, гб",
          "<b>Topic 13</b><br>Words: смартфон, устройство, гаджет, экран, дисплей",
          "<b>Topic 13</b><br>Words: смартфон, устройство, дисплей, экран, гб",
          "<b>Topic 13</b><br>Words: смартфон, устройство, экран, планшет, дисплей",
          "<b>Topic 13</b><br>Words: смартфон, гб, федерини, модель, устройство",
          "<b>Topic 13</b><br>Words: смартфон, айфон, гаджет, дисплей, устройство",
          "<b>Topic 13</b><br>Words: айфон, смартфон, устройство, гаджет, ос",
          "<b>Topic 13</b><br>Words: смартфон, гаджет, устройство, айфон, экран",
          "<b>Topic 13</b><br>Words: смартфон, гаджет, айфон, устройство, дюйм",
          "<b>Topic 13</b><br>Words: смартфон, гаджет, экран, устройство, линейка",
          "<b>Topic 13</b><br>Words: смартфон, гаджет, устройство, экран, линейка",
          "<b>Topic 13</b><br>Words: смартфон, устройство, гаджет, экран, дисплей"
         ],
         "marker": {
          "color": "#CC79A7"
         },
         "mode": "lines",
         "name": "13_смартфон_устройство_гаджет_планшет",
         "type": "scatter",
         "x": [
          "2010-05-28T07:54:27.722000",
          "2010-12-24T01:03:32.900000",
          "2011-07-17T15:31:16.800000",
          "2012-02-08T05:59:00.700000",
          "2012-08-31T20:26:44.600000",
          "2013-03-25T10:54:28.500000",
          "2013-10-17T01:22:12.400000",
          "2014-05-10T15:49:56.300000",
          "2014-12-02T06:17:40.200000",
          "2015-06-25T20:45:24.100000",
          "2017-03-03T16:08:35.800000",
          "2017-09-25T06:36:19.700000",
          "2018-04-18T21:04:03.600000",
          "2018-11-10T11:31:47.500000",
          "2019-06-04T01:59:31.400000",
          "2019-12-26T16:27:15.300000",
          "2020-07-19T06:54:59.200000",
          "2021-02-09T21:22:43.100000"
         ],
         "y": [
          21,
          22,
          32,
          57,
          82,
          75,
          38,
          14,
          7,
          11,
          1,
          4,
          4,
          14,
          24,
          15,
          18,
          27
         ]
        },
        {
         "hoverinfo": "text",
         "hovertext": [
          "<b>Topic 14</b><br>Words: ирак, иракский, бригада, страйкер, офрад",
          "<b>Topic 14</b><br>Words: сирийский, сирия, асад, дамаск, башар",
          "<b>Topic 14</b><br>Words: сирия, сирийский, асад, лаг, дамаск",
          "<b>Topic 14</b><br>Words: сирийский, сирия, асад, дамаск, оон",
          "<b>Topic 14</b><br>Words: сирийский, сирия, асад, оппозиция, дамаск",
          "<b>Topic 14</b><br>Words: сирия, сирийский, асад, химический, оон",
          "<b>Topic 14</b><br>Words: сирия, сирийский, асад, ирак, боевик",
          "<b>Topic 14</b><br>Words: сирийский, плутоний, сирия, ирак, асад",
          "<b>Topic 14</b><br>Words: асад, сирия, сирийский, марти, валдай",
          "<b>Topic 14</b><br>Words: омен, дэмиен, сирия, сирийский, асад",
          "<b>Topic 14</b><br>Words: сирия, сирийский, газиантеп, исламский, боевик",
          "<b>Topic 14</b><br>Words: сирия, сирийский, дейра, эз, зора",
          "<b>Topic 14</b><br>Words: сирия, сирийский, иго, боевик, асад",
          "<b>Topic 14</b><br>Words: сирия, сирийский, асад, иго, дамаск",
          "<b>Topic 14</b><br>Words: сирия, сирийский, иго, асад, террорист",
          "<b>Topic 14</b><br>Words: сирия, сирийский, иго, асад, курдский",
          "<b>Topic 14</b><br>Words: сирия, сирийский, асад, боевик, идлиб",
          "<b>Topic 14</b><br>Words: сирия, сирийский, асад, наемник, боевик",
          "<b>Topic 14</b><br>Words: сирия, сирийский, асад, дамаск, абдалла"
         ],
         "marker": {
          "color": "#E69F00"
         },
         "mode": "lines",
         "name": "14_сирия_сирийский_асад_иго",
         "type": "scatter",
         "x": [
          "2010-05-28T07:54:27.722000",
          "2010-12-24T01:03:32.900000",
          "2011-07-17T15:31:16.800000",
          "2012-02-08T05:59:00.700000",
          "2012-08-31T20:26:44.600000",
          "2013-03-25T10:54:28.500000",
          "2013-10-17T01:22:12.400000",
          "2014-05-10T15:49:56.300000",
          "2015-06-25T20:45:24.100000",
          "2016-01-17T11:13:08",
          "2016-08-10T01:40:51.900000",
          "2017-03-03T16:08:35.800000",
          "2017-09-25T06:36:19.700000",
          "2018-04-18T21:04:03.600000",
          "2018-11-10T11:31:47.500000",
          "2019-06-04T01:59:31.400000",
          "2019-12-26T16:27:15.300000",
          "2020-07-19T06:54:59.200000",
          "2021-02-09T21:22:43.100000"
         ],
         "y": [
          1,
          14,
          24,
          47,
          24,
          50,
          6,
          2,
          2,
          2,
          2,
          29,
          96,
          55,
          22,
          30,
          15,
          11,
          2
         ]
        },
        {
         "hoverinfo": "text",
         "hovertext": [
          "<b>Topic 15</b><br>Words: пожар, мчс, пожарный, огонь, взрыв",
          "<b>Topic 15</b><br>Words: пожар, взрыв, мчс, пожарный, возгорание",
          "<b>Topic 15</b><br>Words: пожар, взрыв, мчс, пожарный, возгорание",
          "<b>Topic 15</b><br>Words: пожар, мчс, пожарный, взрыв, огонь",
          "<b>Topic 15</b><br>Words: пожар, взрыв, мчс, пожарный, возгорание",
          "<b>Topic 15</b><br>Words: пожар, пожарный, мчс, взрыв, здание",
          "<b>Topic 15</b><br>Words: пожар, взрыв, пожарный, гарлем, здание",
          "<b>Topic 15</b><br>Words: пожар, взрыв, мчс, пожарный, лесной",
          "<b>Topic 15</b><br>Words: шахта, засядько, взрыв, горняк, горноспасатель",
          "<b>Topic 15</b><br>Words: взрыв, ангелов, лючжоу, пожар, бомба",
          "<b>Topic 15</b><br>Words: араз, общежитие, пожар, мая, ширвана",
          "<b>Topic 15</b><br>Words: жилищный, жилье, бама, северобайкальск, сертификат",
          "<b>Topic 15</b><br>Words: пожар, пожарный, взрыв, эвакуировать, мчс",
          "<b>Topic 15</b><br>Words: пожар, возгорание, пожарный, взрыв, мчс",
          "<b>Topic 15</b><br>Words: пожар, взрыв, пожарный, возгорание, мчс",
          "<b>Topic 15</b><br>Words: пожар, взрыв, пожарный, мчс, возгорание",
          "<b>Topic 15</b><br>Words: пожар, взрыв, возгорание, мчс, пожарный",
          "<b>Topic 15</b><br>Words: пожар, взрыв, мчс, возгорание, пожарный",
          "<b>Topic 15</b><br>Words: пожар, взрыв, пожарный, мчс, возгорание",
          "<b>Topic 15</b><br>Words: пожар, взрыв, мчс, пожарный, огонь"
         ],
         "marker": {
          "color": "#56B4E9"
         },
         "mode": "lines",
         "name": "15_пожар_взрыв_пожарный_мчс",
         "type": "scatter",
         "x": [
          "2010-05-28T07:54:27.722000",
          "2010-12-24T01:03:32.900000",
          "2011-07-17T15:31:16.800000",
          "2012-02-08T05:59:00.700000",
          "2012-08-31T20:26:44.600000",
          "2013-03-25T10:54:28.500000",
          "2013-10-17T01:22:12.400000",
          "2014-05-10T15:49:56.300000",
          "2014-12-02T06:17:40.200000",
          "2015-06-25T20:45:24.100000",
          "2016-01-17T11:13:08",
          "2016-08-10T01:40:51.900000",
          "2017-03-03T16:08:35.800000",
          "2017-09-25T06:36:19.700000",
          "2018-04-18T21:04:03.600000",
          "2018-11-10T11:31:47.500000",
          "2019-06-04T01:59:31.400000",
          "2019-12-26T16:27:15.300000",
          "2020-07-19T06:54:59.200000",
          "2021-02-09T21:22:43.100000"
         ],
         "y": [
          49,
          39,
          23,
          40,
          25,
          17,
          4,
          7,
          1,
          4,
          2,
          1,
          10,
          20,
          13,
          44,
          41,
          27,
          24,
          16
         ]
        },
        {
         "hoverinfo": "text",
         "hovertext": [
          "<b>Topic 16</b><br>Words: зарплата, вакансия, безработица, доход, труд",
          "<b>Topic 16</b><br>Words: зарплата, росстат, доход, население, средний",
          "<b>Topic 16</b><br>Words: зарплата, население, перепись, дифференциация, доход",
          "<b>Topic 16</b><br>Words: зарплата, бедность, сакс, зарплатоемкость, прожиточный",
          "<b>Topic 16</b><br>Words: зарплата, инвалид, рождаемость, доход, росстат",
          "<b>Topic 16</b><br>Words: зарплата, скфо, доход, бедность, заработный",
          "<b>Topic 16</b><br>Words: раб, зарплата, руб, тыс, труд",
          "<b>Topic 16</b><br>Words: малевый, прожиточный, цсо, бедность, продуктовый",
          "<b>Topic 16</b><br>Words: вакансия, зарплата, кв, жилье, заработный",
          "<b>Topic 16</b><br>Words: продолжительность, доход, росстат, зарплата, реальный",
          "<b>Topic 16</b><br>Words: зарплата, доход, прожиточный, заработный, пособие",
          "<b>Topic 16</b><br>Words: зарплата, доход, бедность, росстат, прожиточный",
          "<b>Topic 16</b><br>Words: зарплата, доход, бедность, росстат, население",
          "<b>Topic 16</b><br>Words: зарплата, доход, росстат, бедность, население",
          "<b>Topic 16</b><br>Words: зарплата, доход, бедность, население, прожиточный",
          "<b>Topic 16</b><br>Words: зарплата, доход, вакансия, работодатель, труд",
          "<b>Topic 16</b><br>Words: зарплата, доход, выплата, бедность, прожиточный"
         ],
         "marker": {
          "color": "#009E73"
         },
         "mode": "lines",
         "name": "16_зарплата_доход_бедность_росстат",
         "type": "scatter",
         "x": [
          "2010-05-28T07:54:27.722000",
          "2010-12-24T01:03:32.900000",
          "2011-07-17T15:31:16.800000",
          "2012-02-08T05:59:00.700000",
          "2012-08-31T20:26:44.600000",
          "2013-03-25T10:54:28.500000",
          "2013-10-17T01:22:12.400000",
          "2014-12-02T06:17:40.200000",
          "2015-06-25T20:45:24.100000",
          "2017-03-03T16:08:35.800000",
          "2017-09-25T06:36:19.700000",
          "2018-04-18T21:04:03.600000",
          "2018-11-10T11:31:47.500000",
          "2019-06-04T01:59:31.400000",
          "2019-12-26T16:27:15.300000",
          "2020-07-19T06:54:59.200000",
          "2021-02-09T21:22:43.100000"
         ],
         "y": [
          18,
          10,
          6,
          9,
          6,
          7,
          2,
          3,
          3,
          3,
          26,
          31,
          58,
          88,
          48,
          30,
          29
         ]
        },
        {
         "hoverinfo": "text",
         "hovertext": [
          "<b>Topic 17</b><br>Words: челси, арсенал, мяч, манчестер, тоттенхэм",
          "<b>Topic 17</b><br>Words: арсенал, манчестер, челси, мяч, тоттенхэм",
          "<b>Topic 17</b><br>Words: арсенал, манчестер, челси, сити, тоттенхэм",
          "<b>Topic 17</b><br>Words: сити, манчестер, арсенал, челси, тоттенхэм",
          "<b>Topic 17</b><br>Words: арсенал, манчестер, сити, челси, юнайтед",
          "<b>Topic 17</b><br>Words: челси, арсенал, саутгемптон, сити, манчестер",
          "<b>Topic 17</b><br>Words: монако, арсенал, почивать, монегаск, лавр",
          "<b>Topic 17</b><br>Words: руни, англия, мяч, эвертон, ворота",
          "<b>Topic 17</b><br>Words: слуцкий, каррагер, халл, цска, арсенал",
          "<b>Topic 17</b><br>Words: моретон, атлетико, арсенал, лига, облак",
          "<b>Topic 17</b><br>Words: грилиш, таласситис, вилла, астон, талласитис",
          "<b>Topic 17</b><br>Words: озил, колашинац, тоттенхэм, шпора, скутер",
          "<b>Topic 17</b><br>Words: ливерпуль, англия, клопп, апл, кейн"
         ],
         "marker": {
          "color": "#F0E442"
         },
         "mode": "lines",
         "name": "17_арсенал_манчестер_челси_сити",
         "type": "scatter",
         "x": [
          "2010-05-28T07:54:27.722000",
          "2010-12-24T01:03:32.900000",
          "2011-07-17T15:31:16.800000",
          "2012-02-08T05:59:00.700000",
          "2012-08-31T20:26:44.600000",
          "2013-03-25T10:54:28.500000",
          "2014-12-02T06:17:40.200000",
          "2017-03-03T16:08:35.800000",
          "2017-09-25T06:36:19.700000",
          "2018-04-18T21:04:03.600000",
          "2018-11-10T11:31:47.500000",
          "2019-06-04T01:59:31.400000",
          "2019-12-26T16:27:15.300000"
         ],
         "y": [
          56,
          59,
          76,
          70,
          75,
          6,
          1,
          2,
          4,
          3,
          3,
          3,
          4
         ]
        },
        {
         "hoverinfo": "text",
         "hovertext": [
          "<b>Topic 18</b><br>Words: выборы, партия, единый, кандидат, депутат",
          "<b>Topic 18</b><br>Words: партия, выборы, единый, голосование, кпрф",
          "<b>Topic 18</b><br>Words: выборы, кандидат, партия, тедеев, избирательный",
          "<b>Topic 18</b><br>Words: выборы, кандидат, партия, кпрф, единый",
          "<b>Topic 18</b><br>Words: выборы, партия, кандидат, кпрф, избирательный",
          "<b>Topic 18</b><br>Words: выборы, кандидат, партия, навальный, мэр",
          "<b>Topic 18</b><br>Words: выборы, блазио, кандидат, партия, депутат",
          "<b>Topic 18</b><br>Words: выборы, митрофанов, бенц, кандидат, явка",
          "<b>Topic 18</b><br>Words: партия, выборы, исэпи, программный, активность",
          "<b>Topic 18</b><br>Words: форго, партия, выборы, курд, политсила",
          "<b>Topic 18</b><br>Words: партия, кандидат, кпрф, выборы, кги",
          "<b>Topic 18</b><br>Words: выборы, муниципальный, кандидат, фильтр, партия",
          "<b>Topic 18</b><br>Words: цик, выборы, кандидат, навальный, грудинин",
          "<b>Topic 18</b><br>Words: выборы, голосование, избирательный, кандидат, избиратель",
          "<b>Topic 18</b><br>Words: выборы, кандидат, партия, избирательный, блумберг",
          "<b>Topic 18</b><br>Words: выборы, кандидат, избирательный, партия, кпрф",
          "<b>Topic 18</b><br>Words: голосование, выборы, партия, кандидат, избирательный",
          "<b>Topic 18</b><br>Words: выборы, голосование, партия, кандидат, избирательный",
          "<b>Topic 18</b><br>Words: выборы, партия, кандидат, голосование, кпрф"
         ],
         "marker": {
          "color": "#D55E00"
         },
         "mode": "lines",
         "name": "18_выборы_партия_кандидат_голосование",
         "type": "scatter",
         "x": [
          "2010-05-28T07:54:27.722000",
          "2010-12-24T01:03:32.900000",
          "2011-07-17T15:31:16.800000",
          "2012-02-08T05:59:00.700000",
          "2012-08-31T20:26:44.600000",
          "2013-03-25T10:54:28.500000",
          "2013-10-17T01:22:12.400000",
          "2014-05-10T15:49:56.300000",
          "2014-12-02T06:17:40.200000",
          "2015-06-25T20:45:24.100000",
          "2016-08-10T01:40:51.900000",
          "2017-03-03T16:08:35.800000",
          "2017-09-25T06:36:19.700000",
          "2018-04-18T21:04:03.600000",
          "2018-11-10T11:31:47.500000",
          "2019-06-04T01:59:31.400000",
          "2019-12-26T16:27:15.300000",
          "2020-07-19T06:54:59.200000",
          "2021-02-09T21:22:43.100000"
         ],
         "y": [
          27,
          27,
          19,
          31,
          46,
          75,
          8,
          6,
          2,
          2,
          3,
          8,
          22,
          12,
          8,
          13,
          13,
          13,
          19
         ]
        },
        {
         "hoverinfo": "text",
         "hovertext": [
          "<b>Topic 19</b><br>Words: олимпиада, олимпийский, антидопинговый, допинг, спортсмен",
          "<b>Topic 19</b><br>Words: мокнуть, олимпиада, олимпийский, пхенчхан, спортсмен",
          "<b>Topic 19</b><br>Words: олимпиада, допинг, олимпийский, спортсмен, спорт",
          "<b>Topic 19</b><br>Words: мокнуть, олимпийский, спортсмен, допинг, олимпиада",
          "<b>Topic 19</b><br>Words: мокнуть, олимпийский, олимпиада, допинг, котова",
          "<b>Topic 19</b><br>Words: олимпийский, эстафета, сочи, антидопинговый, допинг",
          "<b>Topic 19</b><br>Words: олимпиада, олимпийский, спортсмен, мокнуть, сочи",
          "<b>Topic 19</b><br>Words: бассейн, лужники, реконструкция, плавательный, олимпийский",
          "<b>Topic 19</b><br>Words: остапук, сочи, экологический, олимпийский, кимаев",
          "<b>Topic 19</b><br>Words: допинг, антидопинговый, пкр, спортсмен, мпк",
          "<b>Topic 19</b><br>Words: мокнуть, допинг, спортсмен, олимпийский, антидопинговый",
          "<b>Topic 19</b><br>Words: антидопинговый, допинг, русад, спортсмен, мокнуть",
          "<b>Topic 19</b><br>Words: антидопинговый, допинг, русад, спортсмен, олимпийский",
          "<b>Topic 19</b><br>Words: антидопинговый, допинг, русад, спортсмен, олимпийский",
          "<b>Topic 19</b><br>Words: вфл, антидопинговый, допинг, спортсмен, русад",
          "<b>Topic 19</b><br>Words: маска, магазин, масочный, надевать, продавец",
          "<b>Topic 19</b><br>Words: фитнес, дмс, аофи, лапунов, полис"
         ],
         "marker": {
          "color": "#0072B2"
         },
         "mode": "lines",
         "name": "19_антидопинговый_допинг_спортсмен_мокну...",
         "type": "scatter",
         "x": [
          "2010-05-28T07:54:27.722000",
          "2010-12-24T01:03:32.900000",
          "2011-07-17T15:31:16.800000",
          "2012-02-08T05:59:00.700000",
          "2012-08-31T20:26:44.600000",
          "2013-03-25T10:54:28.500000",
          "2013-10-17T01:22:12.400000",
          "2014-05-10T15:49:56.300000",
          "2014-12-02T06:17:40.200000",
          "2017-03-03T16:08:35.800000",
          "2017-09-25T06:36:19.700000",
          "2018-04-18T21:04:03.600000",
          "2018-11-10T11:31:47.500000",
          "2019-06-04T01:59:31.400000",
          "2019-12-26T16:27:15.300000",
          "2020-07-19T06:54:59.200000",
          "2021-02-09T21:22:43.100000"
         ],
         "y": [
          15,
          11,
          10,
          15,
          5,
          7,
          7,
          1,
          1,
          8,
          112,
          63,
          59,
          29,
          7,
          2,
          1
         ]
        }
       ],
       "layout": {
        "height": 450,
        "hoverlabel": {
         "bgcolor": "white",
         "font": {
          "family": "Rockwell",
          "size": 16
         }
        },
        "legend": {
         "title": {
          "text": "<b>Global Topic Representation"
         }
        },
        "template": {
         "data": {
          "bar": [
           {
            "error_x": {
             "color": "rgb(36,36,36)"
            },
            "error_y": {
             "color": "rgb(36,36,36)"
            },
            "marker": {
             "line": {
              "color": "white",
              "width": 0.5
             },
             "pattern": {
              "fillmode": "overlay",
              "size": 10,
              "solidity": 0.2
             }
            },
            "type": "bar"
           }
          ],
          "barpolar": [
           {
            "marker": {
             "line": {
              "color": "white",
              "width": 0.5
             },
             "pattern": {
              "fillmode": "overlay",
              "size": 10,
              "solidity": 0.2
             }
            },
            "type": "barpolar"
           }
          ],
          "carpet": [
           {
            "aaxis": {
             "endlinecolor": "rgb(36,36,36)",
             "gridcolor": "white",
             "linecolor": "white",
             "minorgridcolor": "white",
             "startlinecolor": "rgb(36,36,36)"
            },
            "baxis": {
             "endlinecolor": "rgb(36,36,36)",
             "gridcolor": "white",
             "linecolor": "white",
             "minorgridcolor": "white",
             "startlinecolor": "rgb(36,36,36)"
            },
            "type": "carpet"
           }
          ],
          "choropleth": [
           {
            "colorbar": {
             "outlinewidth": 1,
             "tickcolor": "rgb(36,36,36)",
             "ticks": "outside"
            },
            "type": "choropleth"
           }
          ],
          "contour": [
           {
            "colorbar": {
             "outlinewidth": 1,
             "tickcolor": "rgb(36,36,36)",
             "ticks": "outside"
            },
            "colorscale": [
             [
              0,
              "#440154"
             ],
             [
              0.1111111111111111,
              "#482878"
             ],
             [
              0.2222222222222222,
              "#3e4989"
             ],
             [
              0.3333333333333333,
              "#31688e"
             ],
             [
              0.4444444444444444,
              "#26828e"
             ],
             [
              0.5555555555555556,
              "#1f9e89"
             ],
             [
              0.6666666666666666,
              "#35b779"
             ],
             [
              0.7777777777777778,
              "#6ece58"
             ],
             [
              0.8888888888888888,
              "#b5de2b"
             ],
             [
              1,
              "#fde725"
             ]
            ],
            "type": "contour"
           }
          ],
          "contourcarpet": [
           {
            "colorbar": {
             "outlinewidth": 1,
             "tickcolor": "rgb(36,36,36)",
             "ticks": "outside"
            },
            "type": "contourcarpet"
           }
          ],
          "heatmap": [
           {
            "colorbar": {
             "outlinewidth": 1,
             "tickcolor": "rgb(36,36,36)",
             "ticks": "outside"
            },
            "colorscale": [
             [
              0,
              "#440154"
             ],
             [
              0.1111111111111111,
              "#482878"
             ],
             [
              0.2222222222222222,
              "#3e4989"
             ],
             [
              0.3333333333333333,
              "#31688e"
             ],
             [
              0.4444444444444444,
              "#26828e"
             ],
             [
              0.5555555555555556,
              "#1f9e89"
             ],
             [
              0.6666666666666666,
              "#35b779"
             ],
             [
              0.7777777777777778,
              "#6ece58"
             ],
             [
              0.8888888888888888,
              "#b5de2b"
             ],
             [
              1,
              "#fde725"
             ]
            ],
            "type": "heatmap"
           }
          ],
          "heatmapgl": [
           {
            "colorbar": {
             "outlinewidth": 1,
             "tickcolor": "rgb(36,36,36)",
             "ticks": "outside"
            },
            "colorscale": [
             [
              0,
              "#440154"
             ],
             [
              0.1111111111111111,
              "#482878"
             ],
             [
              0.2222222222222222,
              "#3e4989"
             ],
             [
              0.3333333333333333,
              "#31688e"
             ],
             [
              0.4444444444444444,
              "#26828e"
             ],
             [
              0.5555555555555556,
              "#1f9e89"
             ],
             [
              0.6666666666666666,
              "#35b779"
             ],
             [
              0.7777777777777778,
              "#6ece58"
             ],
             [
              0.8888888888888888,
              "#b5de2b"
             ],
             [
              1,
              "#fde725"
             ]
            ],
            "type": "heatmapgl"
           }
          ],
          "histogram": [
           {
            "marker": {
             "line": {
              "color": "white",
              "width": 0.6
             }
            },
            "type": "histogram"
           }
          ],
          "histogram2d": [
           {
            "colorbar": {
             "outlinewidth": 1,
             "tickcolor": "rgb(36,36,36)",
             "ticks": "outside"
            },
            "colorscale": [
             [
              0,
              "#440154"
             ],
             [
              0.1111111111111111,
              "#482878"
             ],
             [
              0.2222222222222222,
              "#3e4989"
             ],
             [
              0.3333333333333333,
              "#31688e"
             ],
             [
              0.4444444444444444,
              "#26828e"
             ],
             [
              0.5555555555555556,
              "#1f9e89"
             ],
             [
              0.6666666666666666,
              "#35b779"
             ],
             [
              0.7777777777777778,
              "#6ece58"
             ],
             [
              0.8888888888888888,
              "#b5de2b"
             ],
             [
              1,
              "#fde725"
             ]
            ],
            "type": "histogram2d"
           }
          ],
          "histogram2dcontour": [
           {
            "colorbar": {
             "outlinewidth": 1,
             "tickcolor": "rgb(36,36,36)",
             "ticks": "outside"
            },
            "colorscale": [
             [
              0,
              "#440154"
             ],
             [
              0.1111111111111111,
              "#482878"
             ],
             [
              0.2222222222222222,
              "#3e4989"
             ],
             [
              0.3333333333333333,
              "#31688e"
             ],
             [
              0.4444444444444444,
              "#26828e"
             ],
             [
              0.5555555555555556,
              "#1f9e89"
             ],
             [
              0.6666666666666666,
              "#35b779"
             ],
             [
              0.7777777777777778,
              "#6ece58"
             ],
             [
              0.8888888888888888,
              "#b5de2b"
             ],
             [
              1,
              "#fde725"
             ]
            ],
            "type": "histogram2dcontour"
           }
          ],
          "mesh3d": [
           {
            "colorbar": {
             "outlinewidth": 1,
             "tickcolor": "rgb(36,36,36)",
             "ticks": "outside"
            },
            "type": "mesh3d"
           }
          ],
          "parcoords": [
           {
            "line": {
             "colorbar": {
              "outlinewidth": 1,
              "tickcolor": "rgb(36,36,36)",
              "ticks": "outside"
             }
            },
            "type": "parcoords"
           }
          ],
          "pie": [
           {
            "automargin": true,
            "type": "pie"
           }
          ],
          "scatter": [
           {
            "fillpattern": {
             "fillmode": "overlay",
             "size": 10,
             "solidity": 0.2
            },
            "type": "scatter"
           }
          ],
          "scatter3d": [
           {
            "line": {
             "colorbar": {
              "outlinewidth": 1,
              "tickcolor": "rgb(36,36,36)",
              "ticks": "outside"
             }
            },
            "marker": {
             "colorbar": {
              "outlinewidth": 1,
              "tickcolor": "rgb(36,36,36)",
              "ticks": "outside"
             }
            },
            "type": "scatter3d"
           }
          ],
          "scattercarpet": [
           {
            "marker": {
             "colorbar": {
              "outlinewidth": 1,
              "tickcolor": "rgb(36,36,36)",
              "ticks": "outside"
             }
            },
            "type": "scattercarpet"
           }
          ],
          "scattergeo": [
           {
            "marker": {
             "colorbar": {
              "outlinewidth": 1,
              "tickcolor": "rgb(36,36,36)",
              "ticks": "outside"
             }
            },
            "type": "scattergeo"
           }
          ],
          "scattergl": [
           {
            "marker": {
             "colorbar": {
              "outlinewidth": 1,
              "tickcolor": "rgb(36,36,36)",
              "ticks": "outside"
             }
            },
            "type": "scattergl"
           }
          ],
          "scattermapbox": [
           {
            "marker": {
             "colorbar": {
              "outlinewidth": 1,
              "tickcolor": "rgb(36,36,36)",
              "ticks": "outside"
             }
            },
            "type": "scattermapbox"
           }
          ],
          "scatterpolar": [
           {
            "marker": {
             "colorbar": {
              "outlinewidth": 1,
              "tickcolor": "rgb(36,36,36)",
              "ticks": "outside"
             }
            },
            "type": "scatterpolar"
           }
          ],
          "scatterpolargl": [
           {
            "marker": {
             "colorbar": {
              "outlinewidth": 1,
              "tickcolor": "rgb(36,36,36)",
              "ticks": "outside"
             }
            },
            "type": "scatterpolargl"
           }
          ],
          "scatterternary": [
           {
            "marker": {
             "colorbar": {
              "outlinewidth": 1,
              "tickcolor": "rgb(36,36,36)",
              "ticks": "outside"
             }
            },
            "type": "scatterternary"
           }
          ],
          "surface": [
           {
            "colorbar": {
             "outlinewidth": 1,
             "tickcolor": "rgb(36,36,36)",
             "ticks": "outside"
            },
            "colorscale": [
             [
              0,
              "#440154"
             ],
             [
              0.1111111111111111,
              "#482878"
             ],
             [
              0.2222222222222222,
              "#3e4989"
             ],
             [
              0.3333333333333333,
              "#31688e"
             ],
             [
              0.4444444444444444,
              "#26828e"
             ],
             [
              0.5555555555555556,
              "#1f9e89"
             ],
             [
              0.6666666666666666,
              "#35b779"
             ],
             [
              0.7777777777777778,
              "#6ece58"
             ],
             [
              0.8888888888888888,
              "#b5de2b"
             ],
             [
              1,
              "#fde725"
             ]
            ],
            "type": "surface"
           }
          ],
          "table": [
           {
            "cells": {
             "fill": {
              "color": "rgb(237,237,237)"
             },
             "line": {
              "color": "white"
             }
            },
            "header": {
             "fill": {
              "color": "rgb(217,217,217)"
             },
             "line": {
              "color": "white"
             }
            },
            "type": "table"
           }
          ]
         },
         "layout": {
          "annotationdefaults": {
           "arrowhead": 0,
           "arrowwidth": 1
          },
          "autotypenumbers": "strict",
          "coloraxis": {
           "colorbar": {
            "outlinewidth": 1,
            "tickcolor": "rgb(36,36,36)",
            "ticks": "outside"
           }
          },
          "colorscale": {
           "diverging": [
            [
             0,
             "rgb(103,0,31)"
            ],
            [
             0.1,
             "rgb(178,24,43)"
            ],
            [
             0.2,
             "rgb(214,96,77)"
            ],
            [
             0.3,
             "rgb(244,165,130)"
            ],
            [
             0.4,
             "rgb(253,219,199)"
            ],
            [
             0.5,
             "rgb(247,247,247)"
            ],
            [
             0.6,
             "rgb(209,229,240)"
            ],
            [
             0.7,
             "rgb(146,197,222)"
            ],
            [
             0.8,
             "rgb(67,147,195)"
            ],
            [
             0.9,
             "rgb(33,102,172)"
            ],
            [
             1,
             "rgb(5,48,97)"
            ]
           ],
           "sequential": [
            [
             0,
             "#440154"
            ],
            [
             0.1111111111111111,
             "#482878"
            ],
            [
             0.2222222222222222,
             "#3e4989"
            ],
            [
             0.3333333333333333,
             "#31688e"
            ],
            [
             0.4444444444444444,
             "#26828e"
            ],
            [
             0.5555555555555556,
             "#1f9e89"
            ],
            [
             0.6666666666666666,
             "#35b779"
            ],
            [
             0.7777777777777778,
             "#6ece58"
            ],
            [
             0.8888888888888888,
             "#b5de2b"
            ],
            [
             1,
             "#fde725"
            ]
           ],
           "sequentialminus": [
            [
             0,
             "#440154"
            ],
            [
             0.1111111111111111,
             "#482878"
            ],
            [
             0.2222222222222222,
             "#3e4989"
            ],
            [
             0.3333333333333333,
             "#31688e"
            ],
            [
             0.4444444444444444,
             "#26828e"
            ],
            [
             0.5555555555555556,
             "#1f9e89"
            ],
            [
             0.6666666666666666,
             "#35b779"
            ],
            [
             0.7777777777777778,
             "#6ece58"
            ],
            [
             0.8888888888888888,
             "#b5de2b"
            ],
            [
             1,
             "#fde725"
            ]
           ]
          },
          "colorway": [
           "#1F77B4",
           "#FF7F0E",
           "#2CA02C",
           "#D62728",
           "#9467BD",
           "#8C564B",
           "#E377C2",
           "#7F7F7F",
           "#BCBD22",
           "#17BECF"
          ],
          "font": {
           "color": "rgb(36,36,36)"
          },
          "geo": {
           "bgcolor": "white",
           "lakecolor": "white",
           "landcolor": "white",
           "showlakes": true,
           "showland": true,
           "subunitcolor": "white"
          },
          "hoverlabel": {
           "align": "left"
          },
          "hovermode": "closest",
          "mapbox": {
           "style": "light"
          },
          "paper_bgcolor": "white",
          "plot_bgcolor": "white",
          "polar": {
           "angularaxis": {
            "gridcolor": "rgb(232,232,232)",
            "linecolor": "rgb(36,36,36)",
            "showgrid": false,
            "showline": true,
            "ticks": "outside"
           },
           "bgcolor": "white",
           "radialaxis": {
            "gridcolor": "rgb(232,232,232)",
            "linecolor": "rgb(36,36,36)",
            "showgrid": false,
            "showline": true,
            "ticks": "outside"
           }
          },
          "scene": {
           "xaxis": {
            "backgroundcolor": "white",
            "gridcolor": "rgb(232,232,232)",
            "gridwidth": 2,
            "linecolor": "rgb(36,36,36)",
            "showbackground": true,
            "showgrid": false,
            "showline": true,
            "ticks": "outside",
            "zeroline": false,
            "zerolinecolor": "rgb(36,36,36)"
           },
           "yaxis": {
            "backgroundcolor": "white",
            "gridcolor": "rgb(232,232,232)",
            "gridwidth": 2,
            "linecolor": "rgb(36,36,36)",
            "showbackground": true,
            "showgrid": false,
            "showline": true,
            "ticks": "outside",
            "zeroline": false,
            "zerolinecolor": "rgb(36,36,36)"
           },
           "zaxis": {
            "backgroundcolor": "white",
            "gridcolor": "rgb(232,232,232)",
            "gridwidth": 2,
            "linecolor": "rgb(36,36,36)",
            "showbackground": true,
            "showgrid": false,
            "showline": true,
            "ticks": "outside",
            "zeroline": false,
            "zerolinecolor": "rgb(36,36,36)"
           }
          },
          "shapedefaults": {
           "fillcolor": "black",
           "line": {
            "width": 0
           },
           "opacity": 0.3
          },
          "ternary": {
           "aaxis": {
            "gridcolor": "rgb(232,232,232)",
            "linecolor": "rgb(36,36,36)",
            "showgrid": false,
            "showline": true,
            "ticks": "outside"
           },
           "baxis": {
            "gridcolor": "rgb(232,232,232)",
            "linecolor": "rgb(36,36,36)",
            "showgrid": false,
            "showline": true,
            "ticks": "outside"
           },
           "bgcolor": "white",
           "caxis": {
            "gridcolor": "rgb(232,232,232)",
            "linecolor": "rgb(36,36,36)",
            "showgrid": false,
            "showline": true,
            "ticks": "outside"
           }
          },
          "title": {
           "x": 0.05
          },
          "xaxis": {
           "automargin": true,
           "gridcolor": "rgb(232,232,232)",
           "linecolor": "rgb(36,36,36)",
           "showgrid": false,
           "showline": true,
           "ticks": "outside",
           "title": {
            "standoff": 15
           },
           "zeroline": false,
           "zerolinecolor": "rgb(36,36,36)"
          },
          "yaxis": {
           "automargin": true,
           "gridcolor": "rgb(232,232,232)",
           "linecolor": "rgb(36,36,36)",
           "showgrid": false,
           "showline": true,
           "ticks": "outside",
           "title": {
            "standoff": 15
           },
           "zeroline": false,
           "zerolinecolor": "rgb(36,36,36)"
          }
         }
        },
        "title": {
         "font": {
          "color": "Black",
          "size": 22
         },
         "text": "<b>Topics over Time</b>",
         "x": 0.4,
         "xanchor": "center",
         "y": 0.95,
         "yanchor": "top"
        },
        "width": 1250,
        "xaxis": {
         "showgrid": true
        },
        "yaxis": {
         "showgrid": true,
         "title": {
          "text": "Frequency"
         }
        }
       }
      }
     },
     "metadata": {},
     "output_type": "display_data"
    }
   ],
   "source": [
    "topic_model.visualize_topics_over_time(topics_over_time, top_n_topics=20)"
   ]
  },
  {
   "cell_type": "code",
   "execution_count": 16,
   "metadata": {},
   "outputs": [],
   "source": [
    "topics_over_time[\"Year\"] = topics_over_time[\"Timestamp\"].astype(str).str[:4].astype(int)"
   ]
  },
  {
   "cell_type": "code",
   "execution_count": 17,
   "metadata": {},
   "outputs": [],
   "source": [
    "selected_topics = topics_over_time[topics_over_time['Topic'] >= 0]"
   ]
  },
  {
   "cell_type": "code",
   "execution_count": 18,
   "metadata": {},
   "outputs": [],
   "source": [
    "topic_counts = selected_topics.groupby(\"Name\")[\"Frequency\"].sum()\n",
    "\n",
    "# Выбор топ-20 тем\n",
    "top_20_topics = topic_counts.nlargest(20).index\n",
    "\n",
    "grouped_lenta = selected_topics.groupby([\"Year\", \"Name\"])[\"Frequency\"].sum().unstack(fill_value=0)"
   ]
  },
  {
   "cell_type": "code",
   "execution_count": 26,
   "metadata": {},
   "outputs": [
    {
     "data": {
      "image/png": "[encoded data removed]",
      "text/plain": [
       "<Figure size 640x480 with 1 Axes>"
      ]
     },
     "metadata": {},
     "output_type": "display_data"
    }
   ],
   "source": [
    "# Фильтрация данных по топ-20 темам\n",
    "filtered_data = grouped_lenta[top_20_topics]\n",
    "\n",
    "# Построение графика\n",
    "filtered_data.plot(kind=\"bar\", stacked=True, width=0.9, align='center')\n",
    "\n",
    "plt.xlabel(\"Year\")\n",
    "plt.ylabel(\"Frequency\")\n",
    "plt.title(\"Topics Over Time\")\n",
    "plt.legend(title=\"Topics\", loc=\"upper right\", bbox_to_anchor=(2, 1.1))\n",
    "plt.savefig(\"Gazeta_BERTopic-DTM.eps\", format='pdf', dpi=1000,\n",
    "                    bbox_inches='tight', pad_inches=0)\n",
    "#plt.show()"
   ]
  }
 ],
 "metadata": {
  "kernelspec": {
   "display_name": "Python 3",
   "language": "python",
   "name": "python3"
  },
  "language_info": {
   "codemirror_mode": {
    "name": "ipython",
    "version": 3
   },
   "file_extension": ".py",
   "mimetype": "text/x-python",
   "name": "python",
   "nbconvert_exporter": "python",
   "pygments_lexer": "ipython3",
   "version": "3.12.2"
  }
 },
 "nbformat": 4,
 "nbformat_minor": 2
}
